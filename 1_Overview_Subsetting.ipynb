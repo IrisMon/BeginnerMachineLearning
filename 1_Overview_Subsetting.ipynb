{
  "nbformat": 4,
  "nbformat_minor": 0,
  "metadata": {
    "colab": {
      "name": "1_Overview_Subsetting.ipynb",
      "provenance": [],
      "authorship_tag": "ABX9TyM6jQQKuaagPLbAlVM3HAxF",
      "include_colab_link": true
    },
    "kernelspec": {
      "name": "python3",
      "display_name": "Python 3"
    }
  },
  "cells": [
    {
      "cell_type": "markdown",
      "metadata": {
        "id": "view-in-github",
        "colab_type": "text"
      },
      "source": [
        "<a href=\"https://colab.research.google.com/github/IrisMon/BeginnerMachineLearning/blob/main/1_Overview_Subsetting.ipynb\" target=\"_parent\"><img src=\"https://colab.research.google.com/assets/colab-badge.svg\" alt=\"Open In Colab\"/></a>"
      ]
    },
    {
      "cell_type": "markdown",
      "metadata": {
        "id": "FJ_z-h7TFeLd"
      },
      "source": [
        "**Overview of Subsetting in Pandas**\r\n"
      ]
    },
    {
      "cell_type": "markdown",
      "metadata": {
        "id": "el7Lsw9NFpRF"
      },
      "source": [
        "Table of conents\r\n",
        "\r\n",
        "*  What is an index?\r\n",
        "*  How to subset first N rows based on their position index?\r\n",
        "*  Can we change the index?\r\n",
        "*  Will the index be always numeric?\r\n",
        "* How to subset the data based on a label of the index?\r\n",
        "* Can we reset the index?\r\n",
        "* How to subset the data based on a value of column?"
      ]
    },
    {
      "cell_type": "code",
      "metadata": {
        "id": "vi8nWtoP4Omp"
      },
      "source": [
        "import pandas as pd \r\n",
        "import numpy as np\r\n",
        "import os"
      ],
      "execution_count": 1,
      "outputs": []
    },
    {
      "cell_type": "code",
      "metadata": {
        "id": "QgDPMA279yg0"
      },
      "source": [
        "IrisMon\r\n",
        "/\r\n",
        "BeginnerMachineLearning"
      ],
      "execution_count": null,
      "outputs": []
    },
    {
      "cell_type": "code",
      "metadata": {
        "colab": {
          "base_uri": "https://localhost:8080/"
        },
        "id": "Iek9XVVW9J1e",
        "outputId": "97cf4c04-0a6b-47bb-f8a7-f6e8667fb5fb"
      },
      "source": [
        "!pip install -q xlrd\r\n",
        "!git clone https://github.com/IrisMon/BeginnerMachineLearning.git"
      ],
      "execution_count": 24,
      "outputs": [
        {
          "output_type": "stream",
          "text": [
            "fatal: destination path 'BeginnerMachineLearning' already exists and is not an empty directory.\n"
          ],
          "name": "stdout"
        }
      ]
    },
    {
      "cell_type": "code",
      "metadata": {
        "id": "hc-zkAIm-CWy"
      },
      "source": [
        "/Preprocessing_Subsetting_Modifying_Pandas_Dataframes/datasets/big_mart_sales.csv"
      ],
      "execution_count": null,
      "outputs": []
    },
    {
      "cell_type": "code",
      "metadata": {
        "colab": {
          "base_uri": "https://localhost:8080/"
        },
        "id": "EoLvIYWX98kq",
        "outputId": "f156dc6d-ca85-45b8-b8d1-bf01b2929741"
      },
      "source": [
        "# Files from the cloned git repository.\r\n",
        "!ls BeginnerMachineLearning/Preprocessing_Subsetting_Modifying_Pandas_Dataframes/datasets"
      ],
      "execution_count": 25,
      "outputs": [
        {
          "output_type": "stream",
          "text": [
            "big_mart_sales.csv\n"
          ],
          "name": "stdout"
        }
      ]
    },
    {
      "cell_type": "code",
      "metadata": {
        "colab": {
          "base_uri": "https://localhost:8080/",
          "height": 206
        },
        "id": "uUdJ9MEe-SsL",
        "outputId": "a7b51970-f5c4-4864-fa5e-f0e105114cae"
      },
      "source": [
        "import pandas as pd\r\n",
        "df = pd.read_csv('BeginnerMachineLearning/Preprocessing_Subsetting_Modifying_Pandas_Dataframes/datasets/big_mart_sales.csv')\r\n",
        "df.head(3)"
      ],
      "execution_count": 28,
      "outputs": [
        {
          "output_type": "execute_result",
          "data": {
            "text/html": [
              "<div>\n",
              "<style scoped>\n",
              "    .dataframe tbody tr th:only-of-type {\n",
              "        vertical-align: middle;\n",
              "    }\n",
              "\n",
              "    .dataframe tbody tr th {\n",
              "        vertical-align: top;\n",
              "    }\n",
              "\n",
              "    .dataframe thead th {\n",
              "        text-align: right;\n",
              "    }\n",
              "</style>\n",
              "<table border=\"1\" class=\"dataframe\">\n",
              "  <thead>\n",
              "    <tr style=\"text-align: right;\">\n",
              "      <th></th>\n",
              "      <th>Item_Identifier</th>\n",
              "      <th>Item_Weight</th>\n",
              "      <th>Item_Fat_Content</th>\n",
              "      <th>Item_Visibility</th>\n",
              "      <th>Item_Type</th>\n",
              "      <th>Item_MRP</th>\n",
              "      <th>Outlet_Identifier</th>\n",
              "      <th>Outlet_Establishment_Year</th>\n",
              "      <th>Outlet_Size</th>\n",
              "      <th>Outlet_Location_Type</th>\n",
              "      <th>Outlet_Type</th>\n",
              "      <th>Item_Outlet_Sales</th>\n",
              "    </tr>\n",
              "  </thead>\n",
              "  <tbody>\n",
              "    <tr>\n",
              "      <th>0</th>\n",
              "      <td>FDA15</td>\n",
              "      <td>9.30</td>\n",
              "      <td>Low Fat</td>\n",
              "      <td>0.016047</td>\n",
              "      <td>Dairy</td>\n",
              "      <td>249.8092</td>\n",
              "      <td>OUT049</td>\n",
              "      <td>1999</td>\n",
              "      <td>Medium</td>\n",
              "      <td>Tier 1</td>\n",
              "      <td>Supermarket Type1</td>\n",
              "      <td>3735.1380</td>\n",
              "    </tr>\n",
              "    <tr>\n",
              "      <th>1</th>\n",
              "      <td>DRC01</td>\n",
              "      <td>5.92</td>\n",
              "      <td>Regular</td>\n",
              "      <td>0.019278</td>\n",
              "      <td>Soft Drinks</td>\n",
              "      <td>48.2692</td>\n",
              "      <td>OUT018</td>\n",
              "      <td>2009</td>\n",
              "      <td>Medium</td>\n",
              "      <td>Tier 3</td>\n",
              "      <td>Supermarket Type2</td>\n",
              "      <td>443.4228</td>\n",
              "    </tr>\n",
              "    <tr>\n",
              "      <th>2</th>\n",
              "      <td>FDN15</td>\n",
              "      <td>17.50</td>\n",
              "      <td>Low Fat</td>\n",
              "      <td>0.016760</td>\n",
              "      <td>Meat</td>\n",
              "      <td>141.6180</td>\n",
              "      <td>OUT049</td>\n",
              "      <td>1999</td>\n",
              "      <td>Medium</td>\n",
              "      <td>Tier 1</td>\n",
              "      <td>Supermarket Type1</td>\n",
              "      <td>2097.2700</td>\n",
              "    </tr>\n",
              "  </tbody>\n",
              "</table>\n",
              "</div>"
            ],
            "text/plain": [
              "  Item_Identifier  Item_Weight  ...        Outlet_Type  Item_Outlet_Sales\n",
              "0           FDA15         9.30  ...  Supermarket Type1          3735.1380\n",
              "1           DRC01         5.92  ...  Supermarket Type2           443.4228\n",
              "2           FDN15        17.50  ...  Supermarket Type1          2097.2700\n",
              "\n",
              "[3 rows x 12 columns]"
            ]
          },
          "metadata": {
            "tags": []
          },
          "execution_count": 28
        }
      ]
    },
    {
      "cell_type": "markdown",
      "metadata": {
        "id": "qbuuLd77Gjjl"
      },
      "source": [
        "![image.png](data:image/png;base64,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)"
      ]
    },
    {
      "cell_type": "markdown",
      "metadata": {
        "id": "Rbp3Qf7OHVKK"
      },
      "source": [
        "* You can see the index object by DataFrame.index"
      ]
    },
    {
      "cell_type": "code",
      "metadata": {
        "colab": {
          "base_uri": "https://localhost:8080/"
        },
        "id": "tqhdcC6ZHa2O",
        "outputId": "80cd9640-0bfa-47dc-8545-f8446250f6b7"
      },
      "source": [
        "# Index of the dataframe\r\n",
        "df.index"
      ],
      "execution_count": 29,
      "outputs": [
        {
          "output_type": "execute_result",
          "data": {
            "text/plain": [
              "RangeIndex(start=0, stop=8523, step=1)"
            ]
          },
          "metadata": {
            "tags": []
          },
          "execution_count": 29
        }
      ]
    },
    {
      "cell_type": "markdown",
      "metadata": {
        "id": "qg8KITpXHgWl"
      },
      "source": [
        "*So in this case , we have the numeric index value start from the 0 and ends at 8523*"
      ]
    },
    {
      "cell_type": "code",
      "metadata": {
        "colab": {
          "base_uri": "https://localhost:8080/"
        },
        "id": "hsDcxuFxGk5l",
        "outputId": "b8b7d079-4805-43a7-ffd4-681a0bfddf66"
      },
      "source": [
        "#no of rows and columns in the data\r\n",
        "df.shape"
      ],
      "execution_count": 32,
      "outputs": [
        {
          "output_type": "execute_result",
          "data": {
            "text/plain": [
              "(8523, 12)"
            ]
          },
          "metadata": {
            "tags": []
          },
          "execution_count": 32
        }
      ]
    },
    {
      "cell_type": "code",
      "metadata": {
        "colab": {
          "base_uri": "https://localhost:8080/"
        },
        "id": "hQ5bhgjjKzsN",
        "outputId": "0c851763-d2e5-4c82-a5d6-e5375a7a5a76"
      },
      "source": [
        "#Colums index\r\n",
        "df.columns"
      ],
      "execution_count": 33,
      "outputs": [
        {
          "output_type": "execute_result",
          "data": {
            "text/plain": [
              "Index(['Item_Identifier', 'Item_Weight', 'Item_Fat_Content', 'Item_Visibility',\n",
              "       'Item_Type', 'Item_MRP', 'Outlet_Identifier',\n",
              "       'Outlet_Establishment_Year', 'Outlet_Size', 'Outlet_Location_Type',\n",
              "       'Outlet_Type', 'Item_Outlet_Sales'],\n",
              "      dtype='object')"
            ]
          },
          "metadata": {
            "tags": []
          },
          "execution_count": 33
        }
      ]
    },
    {
      "cell_type": "markdown",
      "metadata": {
        "id": "wXLAnt_vLH2F"
      },
      "source": [
        "**HOW TO SUBSET FIRST 'N' ROWS BASED ON THEIR POSITION INDEX?**"
      ]
    },
    {
      "cell_type": "code",
      "metadata": {
        "colab": {
          "base_uri": "https://localhost:8080/",
          "height": 253
        },
        "id": "kKy1Kd6xGhnn",
        "outputId": "27755de0-0237-4a37-9507-384aadf89f06"
      },
      "source": [
        "# View the top rows of the data\r\n",
        "df.head(4)"
      ],
      "execution_count": 34,
      "outputs": [
        {
          "output_type": "execute_result",
          "data": {
            "text/html": [
              "<div>\n",
              "<style scoped>\n",
              "    .dataframe tbody tr th:only-of-type {\n",
              "        vertical-align: middle;\n",
              "    }\n",
              "\n",
              "    .dataframe tbody tr th {\n",
              "        vertical-align: top;\n",
              "    }\n",
              "\n",
              "    .dataframe thead th {\n",
              "        text-align: right;\n",
              "    }\n",
              "</style>\n",
              "<table border=\"1\" class=\"dataframe\">\n",
              "  <thead>\n",
              "    <tr style=\"text-align: right;\">\n",
              "      <th></th>\n",
              "      <th>Item_Identifier</th>\n",
              "      <th>Item_Weight</th>\n",
              "      <th>Item_Fat_Content</th>\n",
              "      <th>Item_Visibility</th>\n",
              "      <th>Item_Type</th>\n",
              "      <th>Item_MRP</th>\n",
              "      <th>Outlet_Identifier</th>\n",
              "      <th>Outlet_Establishment_Year</th>\n",
              "      <th>Outlet_Size</th>\n",
              "      <th>Outlet_Location_Type</th>\n",
              "      <th>Outlet_Type</th>\n",
              "      <th>Item_Outlet_Sales</th>\n",
              "    </tr>\n",
              "  </thead>\n",
              "  <tbody>\n",
              "    <tr>\n",
              "      <th>0</th>\n",
              "      <td>FDA15</td>\n",
              "      <td>9.30</td>\n",
              "      <td>Low Fat</td>\n",
              "      <td>0.016047</td>\n",
              "      <td>Dairy</td>\n",
              "      <td>249.8092</td>\n",
              "      <td>OUT049</td>\n",
              "      <td>1999</td>\n",
              "      <td>Medium</td>\n",
              "      <td>Tier 1</td>\n",
              "      <td>Supermarket Type1</td>\n",
              "      <td>3735.1380</td>\n",
              "    </tr>\n",
              "    <tr>\n",
              "      <th>1</th>\n",
              "      <td>DRC01</td>\n",
              "      <td>5.92</td>\n",
              "      <td>Regular</td>\n",
              "      <td>0.019278</td>\n",
              "      <td>Soft Drinks</td>\n",
              "      <td>48.2692</td>\n",
              "      <td>OUT018</td>\n",
              "      <td>2009</td>\n",
              "      <td>Medium</td>\n",
              "      <td>Tier 3</td>\n",
              "      <td>Supermarket Type2</td>\n",
              "      <td>443.4228</td>\n",
              "    </tr>\n",
              "    <tr>\n",
              "      <th>2</th>\n",
              "      <td>FDN15</td>\n",
              "      <td>17.50</td>\n",
              "      <td>Low Fat</td>\n",
              "      <td>0.016760</td>\n",
              "      <td>Meat</td>\n",
              "      <td>141.6180</td>\n",
              "      <td>OUT049</td>\n",
              "      <td>1999</td>\n",
              "      <td>Medium</td>\n",
              "      <td>Tier 1</td>\n",
              "      <td>Supermarket Type1</td>\n",
              "      <td>2097.2700</td>\n",
              "    </tr>\n",
              "    <tr>\n",
              "      <th>3</th>\n",
              "      <td>FDX07</td>\n",
              "      <td>19.20</td>\n",
              "      <td>Regular</td>\n",
              "      <td>0.000000</td>\n",
              "      <td>Fruits and Vegetables</td>\n",
              "      <td>182.0950</td>\n",
              "      <td>OUT010</td>\n",
              "      <td>1998</td>\n",
              "      <td>NaN</td>\n",
              "      <td>Tier 3</td>\n",
              "      <td>Grocery Store</td>\n",
              "      <td>732.3800</td>\n",
              "    </tr>\n",
              "  </tbody>\n",
              "</table>\n",
              "</div>"
            ],
            "text/plain": [
              "  Item_Identifier  Item_Weight  ...        Outlet_Type  Item_Outlet_Sales\n",
              "0           FDA15         9.30  ...  Supermarket Type1          3735.1380\n",
              "1           DRC01         5.92  ...  Supermarket Type2           443.4228\n",
              "2           FDN15        17.50  ...  Supermarket Type1          2097.2700\n",
              "3           FDX07        19.20  ...      Grocery Store           732.3800\n",
              "\n",
              "[4 rows x 12 columns]"
            ]
          },
          "metadata": {
            "tags": []
          },
          "execution_count": 34
        }
      ]
    },
    {
      "cell_type": "markdown",
      "metadata": {
        "id": "ZUInokBdLlOb"
      },
      "source": [
        "**CAN WE CHANGE THE INDEX?**\r\n",
        "\r\n",
        "The answer is  **Yes** . We can change the index. Let's see how?\r\n",
        "\r\n",
        "Create a random list of 8523 number and set it as the index"
      ]
    },
    {
      "cell_type": "code",
      "metadata": {
        "id": "rLK9JkuRGhvJ"
      },
      "source": [
        "#Create random list\r\n",
        "import random\r\n",
        "random_list=[random.randint(1,8523) for i in range (8523)]"
      ],
      "execution_count": 35,
      "outputs": []
    },
    {
      "cell_type": "code",
      "metadata": {
        "colab": {
          "base_uri": "https://localhost:8080/"
        },
        "id": "_tI3xNHBGhxx",
        "outputId": "3ab93863-eeea-49c1-a696-303621f9b2bb"
      },
      "source": [
        "len(random_list)"
      ],
      "execution_count": 37,
      "outputs": [
        {
          "output_type": "execute_result",
          "data": {
            "text/plain": [
              "8523"
            ]
          },
          "metadata": {
            "tags": []
          },
          "execution_count": 37
        }
      ]
    },
    {
      "cell_type": "code",
      "metadata": {
        "id": "9ztk8QPzMt9l"
      },
      "source": [
        "#Set the index\r\n",
        "df.index = random_list"
      ],
      "execution_count": 38,
      "outputs": []
    },
    {
      "cell_type": "code",
      "metadata": {
        "colab": {
          "base_uri": "https://localhost:8080/",
          "height": 206
        },
        "id": "ZzytLy5CM90O",
        "outputId": "fb39f38b-dd93-4455-cd3d-2df5ff0855b6"
      },
      "source": [
        "df.head(3)"
      ],
      "execution_count": 40,
      "outputs": [
        {
          "output_type": "execute_result",
          "data": {
            "text/html": [
              "<div>\n",
              "<style scoped>\n",
              "    .dataframe tbody tr th:only-of-type {\n",
              "        vertical-align: middle;\n",
              "    }\n",
              "\n",
              "    .dataframe tbody tr th {\n",
              "        vertical-align: top;\n",
              "    }\n",
              "\n",
              "    .dataframe thead th {\n",
              "        text-align: right;\n",
              "    }\n",
              "</style>\n",
              "<table border=\"1\" class=\"dataframe\">\n",
              "  <thead>\n",
              "    <tr style=\"text-align: right;\">\n",
              "      <th></th>\n",
              "      <th>Item_Identifier</th>\n",
              "      <th>Item_Weight</th>\n",
              "      <th>Item_Fat_Content</th>\n",
              "      <th>Item_Visibility</th>\n",
              "      <th>Item_Type</th>\n",
              "      <th>Item_MRP</th>\n",
              "      <th>Outlet_Identifier</th>\n",
              "      <th>Outlet_Establishment_Year</th>\n",
              "      <th>Outlet_Size</th>\n",
              "      <th>Outlet_Location_Type</th>\n",
              "      <th>Outlet_Type</th>\n",
              "      <th>Item_Outlet_Sales</th>\n",
              "    </tr>\n",
              "  </thead>\n",
              "  <tbody>\n",
              "    <tr>\n",
              "      <th>7588</th>\n",
              "      <td>FDA15</td>\n",
              "      <td>9.30</td>\n",
              "      <td>Low Fat</td>\n",
              "      <td>0.016047</td>\n",
              "      <td>Dairy</td>\n",
              "      <td>249.8092</td>\n",
              "      <td>OUT049</td>\n",
              "      <td>1999</td>\n",
              "      <td>Medium</td>\n",
              "      <td>Tier 1</td>\n",
              "      <td>Supermarket Type1</td>\n",
              "      <td>3735.1380</td>\n",
              "    </tr>\n",
              "    <tr>\n",
              "      <th>4133</th>\n",
              "      <td>DRC01</td>\n",
              "      <td>5.92</td>\n",
              "      <td>Regular</td>\n",
              "      <td>0.019278</td>\n",
              "      <td>Soft Drinks</td>\n",
              "      <td>48.2692</td>\n",
              "      <td>OUT018</td>\n",
              "      <td>2009</td>\n",
              "      <td>Medium</td>\n",
              "      <td>Tier 3</td>\n",
              "      <td>Supermarket Type2</td>\n",
              "      <td>443.4228</td>\n",
              "    </tr>\n",
              "    <tr>\n",
              "      <th>4309</th>\n",
              "      <td>FDN15</td>\n",
              "      <td>17.50</td>\n",
              "      <td>Low Fat</td>\n",
              "      <td>0.016760</td>\n",
              "      <td>Meat</td>\n",
              "      <td>141.6180</td>\n",
              "      <td>OUT049</td>\n",
              "      <td>1999</td>\n",
              "      <td>Medium</td>\n",
              "      <td>Tier 1</td>\n",
              "      <td>Supermarket Type1</td>\n",
              "      <td>2097.2700</td>\n",
              "    </tr>\n",
              "  </tbody>\n",
              "</table>\n",
              "</div>"
            ],
            "text/plain": [
              "     Item_Identifier  Item_Weight  ...        Outlet_Type  Item_Outlet_Sales\n",
              "7588           FDA15         9.30  ...  Supermarket Type1          3735.1380\n",
              "4133           DRC01         5.92  ...  Supermarket Type2           443.4228\n",
              "4309           FDN15        17.50  ...  Supermarket Type1          2097.2700\n",
              "\n",
              "[3 rows x 12 columns]"
            ]
          },
          "metadata": {
            "tags": []
          },
          "execution_count": 40
        }
      ]
    },
    {
      "cell_type": "code",
      "metadata": {
        "colab": {
          "base_uri": "https://localhost:8080/"
        },
        "id": "J0fXjO5sOUpu",
        "outputId": "16647bd0-09fc-4de0-985b-e74d85e61bf1"
      },
      "source": [
        "df.columns"
      ],
      "execution_count": 41,
      "outputs": [
        {
          "output_type": "execute_result",
          "data": {
            "text/plain": [
              "Index(['Item_Identifier', 'Item_Weight', 'Item_Fat_Content', 'Item_Visibility',\n",
              "       'Item_Type', 'Item_MRP', 'Outlet_Identifier',\n",
              "       'Outlet_Establishment_Year', 'Outlet_Size', 'Outlet_Location_Type',\n",
              "       'Outlet_Type', 'Item_Outlet_Sales'],\n",
              "      dtype='object')"
            ]
          },
          "metadata": {
            "tags": []
          },
          "execution_count": 41
        }
      ]
    },
    {
      "cell_type": "markdown",
      "metadata": {
        "id": "E8VyaQ4uNoEV"
      },
      "source": [
        "We will use the set_index function "
      ]
    },
    {
      "cell_type": "code",
      "metadata": {
        "id": "G_Z3rru1Gh0a"
      },
      "source": [
        "# 1. Change the index of the dataframe\r\n",
        "# 2. drop=True is used to drop the column that's set as index\r\n",
        "# 3. inplace= True is used to make changes in the original dataframe\r\n",
        "# data=pd.read_csv('ññññññññ')\r\n",
        "\r\n",
        "df.set_index('Outlet_Establishment_Year',drop=True , inplace=True)"
      ],
      "execution_count": 42,
      "outputs": []
    },
    {
      "cell_type": "code",
      "metadata": {
        "colab": {
          "base_uri": "https://localhost:8080/",
          "height": 282
        },
        "id": "qR11H7mGGWuo",
        "outputId": "2eb2327d-780b-4ad7-a608-0f3cf9ba5bbd"
      },
      "source": [
        "df.head(4)"
      ],
      "execution_count": 44,
      "outputs": [
        {
          "output_type": "execute_result",
          "data": {
            "text/html": [
              "<div>\n",
              "<style scoped>\n",
              "    .dataframe tbody tr th:only-of-type {\n",
              "        vertical-align: middle;\n",
              "    }\n",
              "\n",
              "    .dataframe tbody tr th {\n",
              "        vertical-align: top;\n",
              "    }\n",
              "\n",
              "    .dataframe thead th {\n",
              "        text-align: right;\n",
              "    }\n",
              "</style>\n",
              "<table border=\"1\" class=\"dataframe\">\n",
              "  <thead>\n",
              "    <tr style=\"text-align: right;\">\n",
              "      <th></th>\n",
              "      <th>Item_Identifier</th>\n",
              "      <th>Item_Weight</th>\n",
              "      <th>Item_Fat_Content</th>\n",
              "      <th>Item_Visibility</th>\n",
              "      <th>Item_Type</th>\n",
              "      <th>Item_MRP</th>\n",
              "      <th>Outlet_Identifier</th>\n",
              "      <th>Outlet_Size</th>\n",
              "      <th>Outlet_Location_Type</th>\n",
              "      <th>Outlet_Type</th>\n",
              "      <th>Item_Outlet_Sales</th>\n",
              "    </tr>\n",
              "    <tr>\n",
              "      <th>Outlet_Establishment_Year</th>\n",
              "      <th></th>\n",
              "      <th></th>\n",
              "      <th></th>\n",
              "      <th></th>\n",
              "      <th></th>\n",
              "      <th></th>\n",
              "      <th></th>\n",
              "      <th></th>\n",
              "      <th></th>\n",
              "      <th></th>\n",
              "      <th></th>\n",
              "    </tr>\n",
              "  </thead>\n",
              "  <tbody>\n",
              "    <tr>\n",
              "      <th>1999</th>\n",
              "      <td>FDA15</td>\n",
              "      <td>9.30</td>\n",
              "      <td>Low Fat</td>\n",
              "      <td>0.016047</td>\n",
              "      <td>Dairy</td>\n",
              "      <td>249.8092</td>\n",
              "      <td>OUT049</td>\n",
              "      <td>Medium</td>\n",
              "      <td>Tier 1</td>\n",
              "      <td>Supermarket Type1</td>\n",
              "      <td>3735.1380</td>\n",
              "    </tr>\n",
              "    <tr>\n",
              "      <th>2009</th>\n",
              "      <td>DRC01</td>\n",
              "      <td>5.92</td>\n",
              "      <td>Regular</td>\n",
              "      <td>0.019278</td>\n",
              "      <td>Soft Drinks</td>\n",
              "      <td>48.2692</td>\n",
              "      <td>OUT018</td>\n",
              "      <td>Medium</td>\n",
              "      <td>Tier 3</td>\n",
              "      <td>Supermarket Type2</td>\n",
              "      <td>443.4228</td>\n",
              "    </tr>\n",
              "    <tr>\n",
              "      <th>1999</th>\n",
              "      <td>FDN15</td>\n",
              "      <td>17.50</td>\n",
              "      <td>Low Fat</td>\n",
              "      <td>0.016760</td>\n",
              "      <td>Meat</td>\n",
              "      <td>141.6180</td>\n",
              "      <td>OUT049</td>\n",
              "      <td>Medium</td>\n",
              "      <td>Tier 1</td>\n",
              "      <td>Supermarket Type1</td>\n",
              "      <td>2097.2700</td>\n",
              "    </tr>\n",
              "    <tr>\n",
              "      <th>1998</th>\n",
              "      <td>FDX07</td>\n",
              "      <td>19.20</td>\n",
              "      <td>Regular</td>\n",
              "      <td>0.000000</td>\n",
              "      <td>Fruits and Vegetables</td>\n",
              "      <td>182.0950</td>\n",
              "      <td>OUT010</td>\n",
              "      <td>NaN</td>\n",
              "      <td>Tier 3</td>\n",
              "      <td>Grocery Store</td>\n",
              "      <td>732.3800</td>\n",
              "    </tr>\n",
              "  </tbody>\n",
              "</table>\n",
              "</div>"
            ],
            "text/plain": [
              "                          Item_Identifier  ...  Item_Outlet_Sales\n",
              "Outlet_Establishment_Year                  ...                   \n",
              "1999                                FDA15  ...          3735.1380\n",
              "2009                                DRC01  ...           443.4228\n",
              "1999                                FDN15  ...          2097.2700\n",
              "1998                                FDX07  ...           732.3800\n",
              "\n",
              "[4 rows x 11 columns]"
            ]
          },
          "metadata": {
            "tags": []
          },
          "execution_count": 44
        }
      ]
    },
    {
      "cell_type": "code",
      "metadata": {
        "colab": {
          "base_uri": "https://localhost:8080/"
        },
        "id": "euFDuejUPHox",
        "outputId": "b60f04f5-2a3a-4574-d100-19a0a8ef7029"
      },
      "source": [
        "df.index"
      ],
      "execution_count": 45,
      "outputs": [
        {
          "output_type": "execute_result",
          "data": {
            "text/plain": [
              "Int64Index([1999, 2009, 1999, 1998, 1987, 2009, 1987, 1985, 2002, 2007,\n",
              "            ...\n",
              "            2004, 2002, 2009, 2009, 1997, 1987, 2002, 2004, 2009, 1997],\n",
              "           dtype='int64', name='Outlet_Establishment_Year', length=8523)"
            ]
          },
          "metadata": {
            "tags": []
          },
          "execution_count": 45
        }
      ]
    },
    {
      "cell_type": "markdown",
      "metadata": {
        "id": "ly9klB32SLye"
      },
      "source": [
        "**HOW THE INDEX BE ALWAYS NUMERIC?**\r\n",
        "\r\n",
        "No we can also have categorical variables as the index of a dataframe"
      ]
    },
    {
      "cell_type": "code",
      "metadata": {
        "id": "TbE1lCPCSLW-"
      },
      "source": [
        "# Reset the index\r\n",
        "df.set_index('Item_Identifier', drop= True , inplace=True)"
      ],
      "execution_count": 46,
      "outputs": []
    },
    {
      "cell_type": "code",
      "metadata": {
        "colab": {
          "base_uri": "https://localhost:8080/",
          "height": 236
        },
        "id": "PlKmYnopQ_Yu",
        "outputId": "affd3bc4-7961-4dd4-d12b-74856edee9ca"
      },
      "source": [
        "df.head(3)"
      ],
      "execution_count": 47,
      "outputs": [
        {
          "output_type": "execute_result",
          "data": {
            "text/html": [
              "<div>\n",
              "<style scoped>\n",
              "    .dataframe tbody tr th:only-of-type {\n",
              "        vertical-align: middle;\n",
              "    }\n",
              "\n",
              "    .dataframe tbody tr th {\n",
              "        vertical-align: top;\n",
              "    }\n",
              "\n",
              "    .dataframe thead th {\n",
              "        text-align: right;\n",
              "    }\n",
              "</style>\n",
              "<table border=\"1\" class=\"dataframe\">\n",
              "  <thead>\n",
              "    <tr style=\"text-align: right;\">\n",
              "      <th></th>\n",
              "      <th>Item_Weight</th>\n",
              "      <th>Item_Fat_Content</th>\n",
              "      <th>Item_Visibility</th>\n",
              "      <th>Item_Type</th>\n",
              "      <th>Item_MRP</th>\n",
              "      <th>Outlet_Identifier</th>\n",
              "      <th>Outlet_Size</th>\n",
              "      <th>Outlet_Location_Type</th>\n",
              "      <th>Outlet_Type</th>\n",
              "      <th>Item_Outlet_Sales</th>\n",
              "    </tr>\n",
              "    <tr>\n",
              "      <th>Item_Identifier</th>\n",
              "      <th></th>\n",
              "      <th></th>\n",
              "      <th></th>\n",
              "      <th></th>\n",
              "      <th></th>\n",
              "      <th></th>\n",
              "      <th></th>\n",
              "      <th></th>\n",
              "      <th></th>\n",
              "      <th></th>\n",
              "    </tr>\n",
              "  </thead>\n",
              "  <tbody>\n",
              "    <tr>\n",
              "      <th>FDA15</th>\n",
              "      <td>9.30</td>\n",
              "      <td>Low Fat</td>\n",
              "      <td>0.016047</td>\n",
              "      <td>Dairy</td>\n",
              "      <td>249.8092</td>\n",
              "      <td>OUT049</td>\n",
              "      <td>Medium</td>\n",
              "      <td>Tier 1</td>\n",
              "      <td>Supermarket Type1</td>\n",
              "      <td>3735.1380</td>\n",
              "    </tr>\n",
              "    <tr>\n",
              "      <th>DRC01</th>\n",
              "      <td>5.92</td>\n",
              "      <td>Regular</td>\n",
              "      <td>0.019278</td>\n",
              "      <td>Soft Drinks</td>\n",
              "      <td>48.2692</td>\n",
              "      <td>OUT018</td>\n",
              "      <td>Medium</td>\n",
              "      <td>Tier 3</td>\n",
              "      <td>Supermarket Type2</td>\n",
              "      <td>443.4228</td>\n",
              "    </tr>\n",
              "    <tr>\n",
              "      <th>FDN15</th>\n",
              "      <td>17.50</td>\n",
              "      <td>Low Fat</td>\n",
              "      <td>0.016760</td>\n",
              "      <td>Meat</td>\n",
              "      <td>141.6180</td>\n",
              "      <td>OUT049</td>\n",
              "      <td>Medium</td>\n",
              "      <td>Tier 1</td>\n",
              "      <td>Supermarket Type1</td>\n",
              "      <td>2097.2700</td>\n",
              "    </tr>\n",
              "  </tbody>\n",
              "</table>\n",
              "</div>"
            ],
            "text/plain": [
              "                 Item_Weight  ... Item_Outlet_Sales\n",
              "Item_Identifier               ...                  \n",
              "FDA15                   9.30  ...         3735.1380\n",
              "DRC01                   5.92  ...          443.4228\n",
              "FDN15                  17.50  ...         2097.2700\n",
              "\n",
              "[3 rows x 10 columns]"
            ]
          },
          "metadata": {
            "tags": []
          },
          "execution_count": 47
        }
      ]
    },
    {
      "cell_type": "code",
      "metadata": {
        "colab": {
          "base_uri": "https://localhost:8080/"
        },
        "id": "tdpUmTSKQ_e2",
        "outputId": "22e8246f-7428-4ed5-c3f7-27ef37a942f9"
      },
      "source": [
        "df.index"
      ],
      "execution_count": 48,
      "outputs": [
        {
          "output_type": "execute_result",
          "data": {
            "text/plain": [
              "Index(['FDA15', 'DRC01', 'FDN15', 'FDX07', 'NCD19', 'FDP36', 'FDO10', 'FDP10',\n",
              "       'FDH17', 'FDU28',\n",
              "       ...\n",
              "       'FDH31', 'FDA01', 'FDH24', 'NCJ19', 'FDF53', 'FDF22', 'FDS36', 'NCJ29',\n",
              "       'FDN46', 'DRG01'],\n",
              "      dtype='object', name='Item_Identifier', length=8523)"
            ]
          },
          "metadata": {
            "tags": []
          },
          "execution_count": 48
        }
      ]
    },
    {
      "cell_type": "markdown",
      "metadata": {
        "id": "K-_r1Mq6S9ZQ"
      },
      "source": [
        "HOW TO SUBSET THE DATA BASED ON THE LABEL OF THE INDEX?\r\n",
        "\r\n",
        "* We can subset the data based on the label of the index using the loc funtion"
      ]
    },
    {
      "cell_type": "code",
      "metadata": {
        "colab": {
          "base_uri": "https://localhost:8080/",
          "height": 468
        },
        "id": "2hOtAxkfTJNr",
        "outputId": "6a2d25f1-de1d-43b6-d6ff-e7dc0295b680"
      },
      "source": [
        "df.loc['FDA15']"
      ],
      "execution_count": 49,
      "outputs": [
        {
          "output_type": "execute_result",
          "data": {
            "text/html": [
              "<div>\n",
              "<style scoped>\n",
              "    .dataframe tbody tr th:only-of-type {\n",
              "        vertical-align: middle;\n",
              "    }\n",
              "\n",
              "    .dataframe tbody tr th {\n",
              "        vertical-align: top;\n",
              "    }\n",
              "\n",
              "    .dataframe thead th {\n",
              "        text-align: right;\n",
              "    }\n",
              "</style>\n",
              "<table border=\"1\" class=\"dataframe\">\n",
              "  <thead>\n",
              "    <tr style=\"text-align: right;\">\n",
              "      <th></th>\n",
              "      <th>Item_Weight</th>\n",
              "      <th>Item_Fat_Content</th>\n",
              "      <th>Item_Visibility</th>\n",
              "      <th>Item_Type</th>\n",
              "      <th>Item_MRP</th>\n",
              "      <th>Outlet_Identifier</th>\n",
              "      <th>Outlet_Size</th>\n",
              "      <th>Outlet_Location_Type</th>\n",
              "      <th>Outlet_Type</th>\n",
              "      <th>Item_Outlet_Sales</th>\n",
              "    </tr>\n",
              "    <tr>\n",
              "      <th>Item_Identifier</th>\n",
              "      <th></th>\n",
              "      <th></th>\n",
              "      <th></th>\n",
              "      <th></th>\n",
              "      <th></th>\n",
              "      <th></th>\n",
              "      <th></th>\n",
              "      <th></th>\n",
              "      <th></th>\n",
              "      <th></th>\n",
              "    </tr>\n",
              "  </thead>\n",
              "  <tbody>\n",
              "    <tr>\n",
              "      <th>FDA15</th>\n",
              "      <td>9.3</td>\n",
              "      <td>Low Fat</td>\n",
              "      <td>0.016047</td>\n",
              "      <td>Dairy</td>\n",
              "      <td>249.8092</td>\n",
              "      <td>OUT049</td>\n",
              "      <td>Medium</td>\n",
              "      <td>Tier 1</td>\n",
              "      <td>Supermarket Type1</td>\n",
              "      <td>3735.1380</td>\n",
              "    </tr>\n",
              "    <tr>\n",
              "      <th>FDA15</th>\n",
              "      <td>9.3</td>\n",
              "      <td>Low Fat</td>\n",
              "      <td>0.016055</td>\n",
              "      <td>Dairy</td>\n",
              "      <td>250.2092</td>\n",
              "      <td>OUT045</td>\n",
              "      <td>NaN</td>\n",
              "      <td>Tier 2</td>\n",
              "      <td>Supermarket Type1</td>\n",
              "      <td>5976.2208</td>\n",
              "    </tr>\n",
              "    <tr>\n",
              "      <th>FDA15</th>\n",
              "      <td>9.3</td>\n",
              "      <td>Low Fat</td>\n",
              "      <td>0.016019</td>\n",
              "      <td>Dairy</td>\n",
              "      <td>248.5092</td>\n",
              "      <td>OUT035</td>\n",
              "      <td>Small</td>\n",
              "      <td>Tier 2</td>\n",
              "      <td>Supermarket Type1</td>\n",
              "      <td>6474.2392</td>\n",
              "    </tr>\n",
              "    <tr>\n",
              "      <th>FDA15</th>\n",
              "      <td>9.3</td>\n",
              "      <td>Low Fat</td>\n",
              "      <td>0.016088</td>\n",
              "      <td>Dairy</td>\n",
              "      <td>249.6092</td>\n",
              "      <td>OUT018</td>\n",
              "      <td>Medium</td>\n",
              "      <td>Tier 3</td>\n",
              "      <td>Supermarket Type2</td>\n",
              "      <td>5976.2208</td>\n",
              "    </tr>\n",
              "    <tr>\n",
              "      <th>FDA15</th>\n",
              "      <td>9.3</td>\n",
              "      <td>Low Fat</td>\n",
              "      <td>0.026818</td>\n",
              "      <td>Dairy</td>\n",
              "      <td>248.9092</td>\n",
              "      <td>OUT010</td>\n",
              "      <td>NaN</td>\n",
              "      <td>Tier 3</td>\n",
              "      <td>Grocery Store</td>\n",
              "      <td>498.0184</td>\n",
              "    </tr>\n",
              "    <tr>\n",
              "      <th>FDA15</th>\n",
              "      <td>9.3</td>\n",
              "      <td>Low Fat</td>\n",
              "      <td>0.016009</td>\n",
              "      <td>Dairy</td>\n",
              "      <td>250.6092</td>\n",
              "      <td>OUT013</td>\n",
              "      <td>High</td>\n",
              "      <td>Tier 3</td>\n",
              "      <td>Supermarket Type1</td>\n",
              "      <td>6474.2392</td>\n",
              "    </tr>\n",
              "    <tr>\n",
              "      <th>FDA15</th>\n",
              "      <td>NaN</td>\n",
              "      <td>Low Fat</td>\n",
              "      <td>0.015945</td>\n",
              "      <td>Dairy</td>\n",
              "      <td>249.5092</td>\n",
              "      <td>OUT027</td>\n",
              "      <td>Medium</td>\n",
              "      <td>Tier 3</td>\n",
              "      <td>Supermarket Type3</td>\n",
              "      <td>6474.2392</td>\n",
              "    </tr>\n",
              "    <tr>\n",
              "      <th>FDA15</th>\n",
              "      <td>9.3</td>\n",
              "      <td>LF</td>\n",
              "      <td>0.016113</td>\n",
              "      <td>Dairy</td>\n",
              "      <td>248.8092</td>\n",
              "      <td>OUT017</td>\n",
              "      <td>NaN</td>\n",
              "      <td>Tier 2</td>\n",
              "      <td>Supermarket Type1</td>\n",
              "      <td>5976.2208</td>\n",
              "    </tr>\n",
              "  </tbody>\n",
              "</table>\n",
              "</div>"
            ],
            "text/plain": [
              "                 Item_Weight  ... Item_Outlet_Sales\n",
              "Item_Identifier               ...                  \n",
              "FDA15                    9.3  ...         3735.1380\n",
              "FDA15                    9.3  ...         5976.2208\n",
              "FDA15                    9.3  ...         6474.2392\n",
              "FDA15                    9.3  ...         5976.2208\n",
              "FDA15                    9.3  ...          498.0184\n",
              "FDA15                    9.3  ...         6474.2392\n",
              "FDA15                    NaN  ...         6474.2392\n",
              "FDA15                    9.3  ...         5976.2208\n",
              "\n",
              "[8 rows x 10 columns]"
            ]
          },
          "metadata": {
            "tags": []
          },
          "execution_count": 49
        }
      ]
    },
    {
      "cell_type": "markdown",
      "metadata": {
        "id": "ZJ8-7vqZTPmn"
      },
      "source": [
        "**What if we want to change the index back to positional?**\r\n",
        "\r\n",
        "CAN WE RESET THE INDEX?\r\n",
        "\r\n",
        "Yes, we can reset the index. Let's see how? \r\n",
        "We will use the **reset_index** function."
      ]
    },
    {
      "cell_type": "code",
      "metadata": {
        "id": "nrNNq_tqS87l"
      },
      "source": [
        "# Reset the index\r\n",
        "df.reset_index(inplace = True)"
      ],
      "execution_count": 50,
      "outputs": []
    },
    {
      "cell_type": "code",
      "metadata": {
        "colab": {
          "base_uri": "https://localhost:8080/",
          "height": 206
        },
        "id": "nJZBly44S892",
        "outputId": "f4bd4df3-b68b-4ae7-fe81-b4e4a1b8b01e"
      },
      "source": [
        "df.head(3)"
      ],
      "execution_count": 51,
      "outputs": [
        {
          "output_type": "execute_result",
          "data": {
            "text/html": [
              "<div>\n",
              "<style scoped>\n",
              "    .dataframe tbody tr th:only-of-type {\n",
              "        vertical-align: middle;\n",
              "    }\n",
              "\n",
              "    .dataframe tbody tr th {\n",
              "        vertical-align: top;\n",
              "    }\n",
              "\n",
              "    .dataframe thead th {\n",
              "        text-align: right;\n",
              "    }\n",
              "</style>\n",
              "<table border=\"1\" class=\"dataframe\">\n",
              "  <thead>\n",
              "    <tr style=\"text-align: right;\">\n",
              "      <th></th>\n",
              "      <th>Item_Identifier</th>\n",
              "      <th>Item_Weight</th>\n",
              "      <th>Item_Fat_Content</th>\n",
              "      <th>Item_Visibility</th>\n",
              "      <th>Item_Type</th>\n",
              "      <th>Item_MRP</th>\n",
              "      <th>Outlet_Identifier</th>\n",
              "      <th>Outlet_Size</th>\n",
              "      <th>Outlet_Location_Type</th>\n",
              "      <th>Outlet_Type</th>\n",
              "      <th>Item_Outlet_Sales</th>\n",
              "    </tr>\n",
              "  </thead>\n",
              "  <tbody>\n",
              "    <tr>\n",
              "      <th>0</th>\n",
              "      <td>FDA15</td>\n",
              "      <td>9.30</td>\n",
              "      <td>Low Fat</td>\n",
              "      <td>0.016047</td>\n",
              "      <td>Dairy</td>\n",
              "      <td>249.8092</td>\n",
              "      <td>OUT049</td>\n",
              "      <td>Medium</td>\n",
              "      <td>Tier 1</td>\n",
              "      <td>Supermarket Type1</td>\n",
              "      <td>3735.1380</td>\n",
              "    </tr>\n",
              "    <tr>\n",
              "      <th>1</th>\n",
              "      <td>DRC01</td>\n",
              "      <td>5.92</td>\n",
              "      <td>Regular</td>\n",
              "      <td>0.019278</td>\n",
              "      <td>Soft Drinks</td>\n",
              "      <td>48.2692</td>\n",
              "      <td>OUT018</td>\n",
              "      <td>Medium</td>\n",
              "      <td>Tier 3</td>\n",
              "      <td>Supermarket Type2</td>\n",
              "      <td>443.4228</td>\n",
              "    </tr>\n",
              "    <tr>\n",
              "      <th>2</th>\n",
              "      <td>FDN15</td>\n",
              "      <td>17.50</td>\n",
              "      <td>Low Fat</td>\n",
              "      <td>0.016760</td>\n",
              "      <td>Meat</td>\n",
              "      <td>141.6180</td>\n",
              "      <td>OUT049</td>\n",
              "      <td>Medium</td>\n",
              "      <td>Tier 1</td>\n",
              "      <td>Supermarket Type1</td>\n",
              "      <td>2097.2700</td>\n",
              "    </tr>\n",
              "  </tbody>\n",
              "</table>\n",
              "</div>"
            ],
            "text/plain": [
              "  Item_Identifier  Item_Weight  ...        Outlet_Type  Item_Outlet_Sales\n",
              "0           FDA15         9.30  ...  Supermarket Type1          3735.1380\n",
              "1           DRC01         5.92  ...  Supermarket Type2           443.4228\n",
              "2           FDN15        17.50  ...  Supermarket Type1          2097.2700\n",
              "\n",
              "[3 rows x 11 columns]"
            ]
          },
          "metadata": {
            "tags": []
          },
          "execution_count": 51
        }
      ]
    },
    {
      "cell_type": "code",
      "metadata": {
        "colab": {
          "base_uri": "https://localhost:8080/"
        },
        "id": "ZmW3VP_FS9AJ",
        "outputId": "9f98fa2f-53ff-41ed-e191-50622ea911e0"
      },
      "source": [
        "df.index"
      ],
      "execution_count": 52,
      "outputs": [
        {
          "output_type": "execute_result",
          "data": {
            "text/plain": [
              "RangeIndex(start=0, stop=8523, step=1)"
            ]
          },
          "metadata": {
            "tags": []
          },
          "execution_count": 52
        }
      ]
    },
    {
      "cell_type": "markdown",
      "metadata": {
        "id": "5BJIHM55UHom"
      },
      "source": [
        "**HOW TO SUBSET THE DATA BASED ON A VALUE OF A COLUMN**"
      ]
    },
    {
      "cell_type": "code",
      "metadata": {
        "colab": {
          "base_uri": "https://localhost:8080/",
          "height": 206
        },
        "id": "xoW1s4rdUHKY",
        "outputId": "5ea88af3-8bc2-44dc-b7d2-bc9c05c6e962"
      },
      "source": [
        "df.head(3)"
      ],
      "execution_count": 54,
      "outputs": [
        {
          "output_type": "execute_result",
          "data": {
            "text/html": [
              "<div>\n",
              "<style scoped>\n",
              "    .dataframe tbody tr th:only-of-type {\n",
              "        vertical-align: middle;\n",
              "    }\n",
              "\n",
              "    .dataframe tbody tr th {\n",
              "        vertical-align: top;\n",
              "    }\n",
              "\n",
              "    .dataframe thead th {\n",
              "        text-align: right;\n",
              "    }\n",
              "</style>\n",
              "<table border=\"1\" class=\"dataframe\">\n",
              "  <thead>\n",
              "    <tr style=\"text-align: right;\">\n",
              "      <th></th>\n",
              "      <th>Item_Identifier</th>\n",
              "      <th>Item_Weight</th>\n",
              "      <th>Item_Fat_Content</th>\n",
              "      <th>Item_Visibility</th>\n",
              "      <th>Item_Type</th>\n",
              "      <th>Item_MRP</th>\n",
              "      <th>Outlet_Identifier</th>\n",
              "      <th>Outlet_Size</th>\n",
              "      <th>Outlet_Location_Type</th>\n",
              "      <th>Outlet_Type</th>\n",
              "      <th>Item_Outlet_Sales</th>\n",
              "    </tr>\n",
              "  </thead>\n",
              "  <tbody>\n",
              "    <tr>\n",
              "      <th>0</th>\n",
              "      <td>FDA15</td>\n",
              "      <td>9.30</td>\n",
              "      <td>Low Fat</td>\n",
              "      <td>0.016047</td>\n",
              "      <td>Dairy</td>\n",
              "      <td>249.8092</td>\n",
              "      <td>OUT049</td>\n",
              "      <td>Medium</td>\n",
              "      <td>Tier 1</td>\n",
              "      <td>Supermarket Type1</td>\n",
              "      <td>3735.1380</td>\n",
              "    </tr>\n",
              "    <tr>\n",
              "      <th>1</th>\n",
              "      <td>DRC01</td>\n",
              "      <td>5.92</td>\n",
              "      <td>Regular</td>\n",
              "      <td>0.019278</td>\n",
              "      <td>Soft Drinks</td>\n",
              "      <td>48.2692</td>\n",
              "      <td>OUT018</td>\n",
              "      <td>Medium</td>\n",
              "      <td>Tier 3</td>\n",
              "      <td>Supermarket Type2</td>\n",
              "      <td>443.4228</td>\n",
              "    </tr>\n",
              "    <tr>\n",
              "      <th>2</th>\n",
              "      <td>FDN15</td>\n",
              "      <td>17.50</td>\n",
              "      <td>Low Fat</td>\n",
              "      <td>0.016760</td>\n",
              "      <td>Meat</td>\n",
              "      <td>141.6180</td>\n",
              "      <td>OUT049</td>\n",
              "      <td>Medium</td>\n",
              "      <td>Tier 1</td>\n",
              "      <td>Supermarket Type1</td>\n",
              "      <td>2097.2700</td>\n",
              "    </tr>\n",
              "  </tbody>\n",
              "</table>\n",
              "</div>"
            ],
            "text/plain": [
              "  Item_Identifier  Item_Weight  ...        Outlet_Type  Item_Outlet_Sales\n",
              "0           FDA15         9.30  ...  Supermarket Type1          3735.1380\n",
              "1           DRC01         5.92  ...  Supermarket Type2           443.4228\n",
              "2           FDN15        17.50  ...  Supermarket Type1          2097.2700\n",
              "\n",
              "[3 rows x 11 columns]"
            ]
          },
          "metadata": {
            "tags": []
          },
          "execution_count": 54
        }
      ]
    },
    {
      "cell_type": "code",
      "metadata": {
        "colab": {
          "base_uri": "https://localhost:8080/",
          "height": 590
        },
        "id": "gwf4gNrHS7ww",
        "outputId": "742b97d5-109b-4e77-ba07-6f8c3e8adce2"
      },
      "source": [
        "df[df['Item_Type']=='Dairy'] # FIlter like in excel"
      ],
      "execution_count": 55,
      "outputs": [
        {
          "output_type": "execute_result",
          "data": {
            "text/html": [
              "<div>\n",
              "<style scoped>\n",
              "    .dataframe tbody tr th:only-of-type {\n",
              "        vertical-align: middle;\n",
              "    }\n",
              "\n",
              "    .dataframe tbody tr th {\n",
              "        vertical-align: top;\n",
              "    }\n",
              "\n",
              "    .dataframe thead th {\n",
              "        text-align: right;\n",
              "    }\n",
              "</style>\n",
              "<table border=\"1\" class=\"dataframe\">\n",
              "  <thead>\n",
              "    <tr style=\"text-align: right;\">\n",
              "      <th></th>\n",
              "      <th>Item_Identifier</th>\n",
              "      <th>Item_Weight</th>\n",
              "      <th>Item_Fat_Content</th>\n",
              "      <th>Item_Visibility</th>\n",
              "      <th>Item_Type</th>\n",
              "      <th>Item_MRP</th>\n",
              "      <th>Outlet_Identifier</th>\n",
              "      <th>Outlet_Size</th>\n",
              "      <th>Outlet_Location_Type</th>\n",
              "      <th>Outlet_Type</th>\n",
              "      <th>Item_Outlet_Sales</th>\n",
              "    </tr>\n",
              "  </thead>\n",
              "  <tbody>\n",
              "    <tr>\n",
              "      <th>0</th>\n",
              "      <td>FDA15</td>\n",
              "      <td>9.300</td>\n",
              "      <td>Low Fat</td>\n",
              "      <td>0.016047</td>\n",
              "      <td>Dairy</td>\n",
              "      <td>249.8092</td>\n",
              "      <td>OUT049</td>\n",
              "      <td>Medium</td>\n",
              "      <td>Tier 1</td>\n",
              "      <td>Supermarket Type1</td>\n",
              "      <td>3735.1380</td>\n",
              "    </tr>\n",
              "    <tr>\n",
              "      <th>11</th>\n",
              "      <td>FDA03</td>\n",
              "      <td>18.500</td>\n",
              "      <td>Regular</td>\n",
              "      <td>0.045464</td>\n",
              "      <td>Dairy</td>\n",
              "      <td>144.1102</td>\n",
              "      <td>OUT046</td>\n",
              "      <td>Small</td>\n",
              "      <td>Tier 1</td>\n",
              "      <td>Supermarket Type1</td>\n",
              "      <td>2187.1530</td>\n",
              "    </tr>\n",
              "    <tr>\n",
              "      <th>19</th>\n",
              "      <td>FDU02</td>\n",
              "      <td>13.350</td>\n",
              "      <td>Low Fat</td>\n",
              "      <td>0.102492</td>\n",
              "      <td>Dairy</td>\n",
              "      <td>230.5352</td>\n",
              "      <td>OUT035</td>\n",
              "      <td>Small</td>\n",
              "      <td>Tier 2</td>\n",
              "      <td>Supermarket Type1</td>\n",
              "      <td>2748.4224</td>\n",
              "    </tr>\n",
              "    <tr>\n",
              "      <th>28</th>\n",
              "      <td>FDE51</td>\n",
              "      <td>5.925</td>\n",
              "      <td>Regular</td>\n",
              "      <td>0.161467</td>\n",
              "      <td>Dairy</td>\n",
              "      <td>45.5086</td>\n",
              "      <td>OUT010</td>\n",
              "      <td>NaN</td>\n",
              "      <td>Tier 3</td>\n",
              "      <td>Grocery Store</td>\n",
              "      <td>178.4344</td>\n",
              "    </tr>\n",
              "    <tr>\n",
              "      <th>30</th>\n",
              "      <td>FDV38</td>\n",
              "      <td>19.250</td>\n",
              "      <td>Low Fat</td>\n",
              "      <td>0.170349</td>\n",
              "      <td>Dairy</td>\n",
              "      <td>55.7956</td>\n",
              "      <td>OUT010</td>\n",
              "      <td>NaN</td>\n",
              "      <td>Tier 3</td>\n",
              "      <td>Grocery Store</td>\n",
              "      <td>163.7868</td>\n",
              "    </tr>\n",
              "    <tr>\n",
              "      <th>...</th>\n",
              "      <td>...</td>\n",
              "      <td>...</td>\n",
              "      <td>...</td>\n",
              "      <td>...</td>\n",
              "      <td>...</td>\n",
              "      <td>...</td>\n",
              "      <td>...</td>\n",
              "      <td>...</td>\n",
              "      <td>...</td>\n",
              "      <td>...</td>\n",
              "      <td>...</td>\n",
              "    </tr>\n",
              "    <tr>\n",
              "      <th>8424</th>\n",
              "      <td>FDC39</td>\n",
              "      <td>7.405</td>\n",
              "      <td>Low Fat</td>\n",
              "      <td>0.159165</td>\n",
              "      <td>Dairy</td>\n",
              "      <td>207.1296</td>\n",
              "      <td>OUT035</td>\n",
              "      <td>Small</td>\n",
              "      <td>Tier 2</td>\n",
              "      <td>Supermarket Type1</td>\n",
              "      <td>3739.1328</td>\n",
              "    </tr>\n",
              "    <tr>\n",
              "      <th>8447</th>\n",
              "      <td>FDS26</td>\n",
              "      <td>20.350</td>\n",
              "      <td>Low Fat</td>\n",
              "      <td>0.089975</td>\n",
              "      <td>Dairy</td>\n",
              "      <td>261.6594</td>\n",
              "      <td>OUT017</td>\n",
              "      <td>NaN</td>\n",
              "      <td>Tier 2</td>\n",
              "      <td>Supermarket Type1</td>\n",
              "      <td>7588.1226</td>\n",
              "    </tr>\n",
              "    <tr>\n",
              "      <th>8448</th>\n",
              "      <td>FDV50</td>\n",
              "      <td>14.300</td>\n",
              "      <td>Low Fat</td>\n",
              "      <td>0.123071</td>\n",
              "      <td>Dairy</td>\n",
              "      <td>121.1730</td>\n",
              "      <td>OUT018</td>\n",
              "      <td>Medium</td>\n",
              "      <td>Tier 3</td>\n",
              "      <td>Supermarket Type2</td>\n",
              "      <td>2093.9410</td>\n",
              "    </tr>\n",
              "    <tr>\n",
              "      <th>8457</th>\n",
              "      <td>FDY50</td>\n",
              "      <td>5.800</td>\n",
              "      <td>Low Fat</td>\n",
              "      <td>0.130931</td>\n",
              "      <td>Dairy</td>\n",
              "      <td>89.9172</td>\n",
              "      <td>OUT035</td>\n",
              "      <td>Small</td>\n",
              "      <td>Tier 2</td>\n",
              "      <td>Supermarket Type1</td>\n",
              "      <td>1516.6924</td>\n",
              "    </tr>\n",
              "    <tr>\n",
              "      <th>8512</th>\n",
              "      <td>FDR26</td>\n",
              "      <td>20.700</td>\n",
              "      <td>Low Fat</td>\n",
              "      <td>0.042801</td>\n",
              "      <td>Dairy</td>\n",
              "      <td>178.3028</td>\n",
              "      <td>OUT013</td>\n",
              "      <td>High</td>\n",
              "      <td>Tier 3</td>\n",
              "      <td>Supermarket Type1</td>\n",
              "      <td>2479.4392</td>\n",
              "    </tr>\n",
              "  </tbody>\n",
              "</table>\n",
              "<p>682 rows × 11 columns</p>\n",
              "</div>"
            ],
            "text/plain": [
              "     Item_Identifier  Item_Weight  ...        Outlet_Type  Item_Outlet_Sales\n",
              "0              FDA15        9.300  ...  Supermarket Type1          3735.1380\n",
              "11             FDA03       18.500  ...  Supermarket Type1          2187.1530\n",
              "19             FDU02       13.350  ...  Supermarket Type1          2748.4224\n",
              "28             FDE51        5.925  ...      Grocery Store           178.4344\n",
              "30             FDV38       19.250  ...      Grocery Store           163.7868\n",
              "...              ...          ...  ...                ...                ...\n",
              "8424           FDC39        7.405  ...  Supermarket Type1          3739.1328\n",
              "8447           FDS26       20.350  ...  Supermarket Type1          7588.1226\n",
              "8448           FDV50       14.300  ...  Supermarket Type2          2093.9410\n",
              "8457           FDY50        5.800  ...  Supermarket Type1          1516.6924\n",
              "8512           FDR26       20.700  ...  Supermarket Type1          2479.4392\n",
              "\n",
              "[682 rows x 11 columns]"
            ]
          },
          "metadata": {
            "tags": []
          },
          "execution_count": 55
        }
      ]
    },
    {
      "cell_type": "markdown",
      "metadata": {
        "id": "cfY23k2eUnfD"
      },
      "source": [
        ""
      ]
    }
  ]
}