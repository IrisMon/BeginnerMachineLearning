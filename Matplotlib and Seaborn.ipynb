{
  "nbformat": 4,
  "nbformat_minor": 0,
  "metadata": {
    "colab": {
      "name": "Untitled6.ipynb",
      "provenance": [],
      "authorship_tag": "ABX9TyP/wXplhbA85kCQkLlmGS/S",
      "include_colab_link": true
    },
    "kernelspec": {
      "name": "python3",
      "display_name": "Python 3"
    }
  },
  "cells": [
    {
      "cell_type": "markdown",
      "metadata": {
        "id": "view-in-github",
        "colab_type": "text"
      },
      "source": [
        "<a href=\"https://colab.research.google.com/github/IrisMon/BeginnerMachineLearning/blob/main/Matplotlib%20and%20Seaborn.ipynb\" target=\"_parent\"><img src=\"https://colab.research.google.com/assets/colab-badge.svg\" alt=\"Open In Colab\"/></a>"
      ]
    },
    {
      "cell_type": "markdown",
      "metadata": {
        "id": "g7KRRohGy5M_"
      },
      "source": [
        "**Data Visualisation: Matplotlib and Seaborn**\r\n",
        "\r\n",
        "MATPLOTLIB\r\n",
        "\r\n",
        "* Making plots and static or interative visualizations is one of the most important tasks in data analysis. It may be a part of the exploratory process; for example , helping identify outliers, needed data transformations, or coming up with idead for models.\r\n",
        "* Matplotlib in the most extensively used library of python for data visualization due it's hugh flexibility and extensive functionality thta it provides\r\n",
        "\r\n"
      ]
    },
    {
      "cell_type": "code",
      "metadata": {
        "id": "sSYaU4V0zsOx"
      },
      "source": [
        "import matplotlib "
      ],
      "execution_count": 1,
      "outputs": []
    },
    {
      "cell_type": "code",
      "metadata": {
        "colab": {
          "base_uri": "https://localhost:8080/",
          "height": 35
        },
        "id": "LtFiZFztyjeF",
        "outputId": "6a899726-d16b-4b78-ea06-f83adf48425e"
      },
      "source": [
        "matplotlib.__version__"
      ],
      "execution_count": 2,
      "outputs": [
        {
          "output_type": "execute_result",
          "data": {
            "application/vnd.google.colaboratory.intrinsic+json": {
              "type": "string"
            },
            "text/plain": [
              "'3.2.2'"
            ]
          },
          "metadata": {
            "tags": []
          },
          "execution_count": 2
        }
      ]
    },
    {
      "cell_type": "code",
      "metadata": {
        "id": "cmtGbwU0z3-_"
      },
      "source": [
        "##import matplotlib for plotting\r\n",
        "import matplotlib.pyplot as plt\r\n",
        "%matplotlib inline \r\n",
        "import numpy as np \r\n",
        "import pandas as pd\r\n"
      ],
      "execution_count": 4,
      "outputs": []
    },
    {
      "cell_type": "markdown",
      "metadata": {
        "id": "q1a5E1sQ0QJD"
      },
      "source": [
        "LINE PLOT"
      ]
    },
    {
      "cell_type": "code",
      "metadata": {
        "colab": {
          "base_uri": "https://localhost:8080/",
          "height": 283
        },
        "id": "1Ovt0cB30SNe",
        "outputId": "2915a04c-0a7d-4393-83a4-23ae7dea4988"
      },
      "source": [
        "#Random data\r\n",
        "x= np.linspace(0,10,1000)\r\n",
        "#plot\r\n",
        "plt.plot(x,np.cos(x), label='Cosine')"
      ],
      "execution_count": 5,
      "outputs": [
        {
          "output_type": "execute_result",
          "data": {
            "text/plain": [
              "[<matplotlib.lines.Line2D at 0x7f16f37c2860>]"
            ]
          },
          "metadata": {
            "tags": []
          },
          "execution_count": 5
        },
        {
          "output_type": "display_data",
          "data": {
            "image/png": "[encoded data removed]",
            "text/plain": [
              "<Figure size 432x288 with 1 Axes>"
            ]
          },
          "metadata": {
            "tags": [],
            "needs_background": "light"
          }
        }
      ]
    },
    {
      "cell_type": "markdown",
      "metadata": {
        "id": "J1Ca4oWf0lcH"
      },
      "source": [
        "STACKED BAR PLOT"
      ]
    },
    {
      "cell_type": "code",
      "metadata": {
        "colab": {
          "base_uri": "https://localhost:8080/",
          "height": 262
        },
        "id": "a4LJuki90oOP",
        "outputId": "5d959605-e210-4c3b-f558-72a404617711"
      },
      "source": [
        "#Sample dataframe\r\n",
        "data=pd.DataFrame([[1,2],\r\n",
        "                   [3,4],\r\n",
        "                   [5,6],\r\n",
        "                   [4,3],\r\n",
        "                   [2,1]])\r\n",
        "data.plot(kind='bar',stacked=True);"
      ],
      "execution_count": 8,
      "outputs": [
        {
          "output_type": "display_data",
          "data": {
            "image/png": "[encoded data removed]",
            "text/plain": [
              "<Figure size 432x288 with 1 Axes>"
            ]
          },
          "metadata": {
            "tags": [],
            "needs_background": "light"
          }
        }
      ]
    },
    {
      "cell_type": "markdown",
      "metadata": {
        "id": "4JCNy6mV1UA4"
      },
      "source": [
        ""
      ]
    },
    {
      "cell_type": "code",
      "metadata": {
        "id": "8952UWQg0PGl"
      },
      "source": [
        ""
      ],
      "execution_count": null,
      "outputs": []
    },
    {
      "cell_type": "code",
      "metadata": {
        "id": "PiwkB1PY0L35"
      },
      "source": [
        ""
      ],
      "execution_count": null,
      "outputs": []
    },
    {
      "cell_type": "code",
      "metadata": {
        "id": "Tgio_lSfyzLg"
      },
      "source": [
        ""
      ],
      "execution_count": null,
      "outputs": []
    }
  ]
}