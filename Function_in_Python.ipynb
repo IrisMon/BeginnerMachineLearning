{
  "nbformat": 4,
  "nbformat_minor": 0,
  "metadata": {
    "colab": {
      "name": "Function in Python.ipynb",
      "provenance": [],
      "authorship_tag": "ABX9TyOPWBp327vDe+0AiQt+hMy6",
      "include_colab_link": true
    },
    "kernelspec": {
      "name": "python3",
      "display_name": "Python 3"
    }
  },
  "cells": [
    {
      "cell_type": "markdown",
      "metadata": {
        "id": "view-in-github",
        "colab_type": "text"
      },
      "source": [
        "<a href=\"https://colab.research.google.com/github/IrisMon/BeginnerMachineLearning/blob/main/Function_in_Python.ipynb\" target=\"_parent\"><img src=\"https://colab.research.google.com/assets/colab-badge.svg\" alt=\"Open In Colab\"/></a>"
      ]
    },
    {
      "cell_type": "markdown",
      "metadata": {
        "id": "SPiS2ZDeb0Za"
      },
      "source": [
        "**Defining Functions**"
      ]
    },
    {
      "cell_type": "code",
      "metadata": {
        "id": "-bbj0NJS2eGl"
      },
      "source": [
        "def area_circle(r):\r\n",
        "  area=3.14*r*r\r\n",
        "  return area"
      ],
      "execution_count": 1,
      "outputs": []
    },
    {
      "cell_type": "code",
      "metadata": {
        "colab": {
          "base_uri": "https://localhost:8080/"
        },
        "id": "wz5TVskS2kTS",
        "outputId": "6562ca78-1e48-4c15-8012-4e9b98296f7f"
      },
      "source": [
        "area_circle(1)"
      ],
      "execution_count": 2,
      "outputs": [
        {
          "output_type": "execute_result",
          "data": {
            "text/plain": [
              "3.14"
            ]
          },
          "metadata": {
            "tags": []
          },
          "execution_count": 2
        }
      ]
    },
    {
      "cell_type": "code",
      "metadata": {
        "colab": {
          "base_uri": "https://localhost:8080/"
        },
        "id": "TCUx50zg2mXz",
        "outputId": "d523d2fe-cea9-48c2-859a-f03929d25415"
      },
      "source": [
        "area_circle(2)"
      ],
      "execution_count": 3,
      "outputs": [
        {
          "output_type": "execute_result",
          "data": {
            "text/plain": [
              "12.56"
            ]
          },
          "metadata": {
            "tags": []
          },
          "execution_count": 3
        }
      ]
    },
    {
      "cell_type": "code",
      "metadata": {
        "id": "07bmLQ823Cfa"
      },
      "source": [
        "### Find the area of square\r\n",
        "def area_squere(l):\r\n",
        "  area=l*l\r\n",
        "  return area"
      ],
      "execution_count": 4,
      "outputs": []
    },
    {
      "cell_type": "code",
      "metadata": {
        "colab": {
          "base_uri": "https://localhost:8080/"
        },
        "id": "wOE1UlZdcFAK",
        "outputId": "abce5a2e-1bef-4779-8b85-e691a97c113d"
      },
      "source": [
        "area_squere(2)"
      ],
      "execution_count": 5,
      "outputs": [
        {
          "output_type": "execute_result",
          "data": {
            "text/plain": [
              "4"
            ]
          },
          "metadata": {
            "tags": []
          },
          "execution_count": 5
        }
      ]
    },
    {
      "cell_type": "code",
      "metadata": {
        "id": "Nahjd2kHcIXa"
      },
      "source": [
        "def welcome():\r\n",
        "  print('Welcome to the class')"
      ],
      "execution_count": 9,
      "outputs": []
    },
    {
      "cell_type": "code",
      "metadata": {
        "colab": {
          "base_uri": "https://localhost:8080/"
        },
        "id": "0NVEFt2ucS8C",
        "outputId": "972f9089-1c3f-45dc-eb0e-740ee72784c3"
      },
      "source": [
        "#Calling a function in python\r\n",
        "welcome()"
      ],
      "execution_count": 11,
      "outputs": [
        {
          "output_type": "stream",
          "text": [
            "Welcome to the class\n"
          ],
          "name": "stdout"
        }
      ]
    },
    {
      "cell_type": "markdown",
      "metadata": {
        "id": "8SF27hnlcmIS"
      },
      "source": [
        "**Funtions returned statement**"
      ]
    },
    {
      "cell_type": "code",
      "metadata": {
        "id": "EVkeTlK0ccHj"
      },
      "source": [
        ""
      ],
      "execution_count": null,
      "outputs": []
    },
    {
      "cell_type": "code",
      "metadata": {
        "id": "3YBESdgvc66R"
      },
      "source": [
        ""
      ],
      "execution_count": null,
      "outputs": []
    },
    {
      "cell_type": "code",
      "metadata": {
        "id": "nvMyJ5JPccVR"
      },
      "source": [
        ""
      ],
      "execution_count": null,
      "outputs": []
    }
  ]
}