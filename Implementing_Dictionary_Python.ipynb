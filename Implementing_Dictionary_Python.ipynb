{
  "nbformat": 4,
  "nbformat_minor": 0,
  "metadata": {
    "colab": {
      "name": "Implementing Dictionary Python.ipynb",
      "provenance": [],
      "collapsed_sections": [],
      "authorship_tag": "ABX9TyMRb4U/LivxbYhZe3uvvrY9",
      "include_colab_link": true
    },
    "kernelspec": {
      "name": "python3",
      "display_name": "Python 3"
    }
  },
  "cells": [
    {
      "cell_type": "markdown",
      "metadata": {
        "id": "view-in-github",
        "colab_type": "text"
      },
      "source": [
        "<a href=\"https://colab.research.google.com/github/IrisMon/BeginnerMachineLearning/blob/main/Implementing_Dictionary_Python.ipynb\" target=\"_parent\"><img src=\"https://colab.research.google.com/assets/colab-badge.svg\" alt=\"Open In Colab\"/></a>"
      ]
    },
    {
      "cell_type": "markdown",
      "metadata": {
        "id": "MzOLpj1RzfK_"
      },
      "source": [
        ""
      ]
    },
    {
      "cell_type": "code",
      "metadata": {
        "id": "smy2aKjL1Rf6"
      },
      "source": [
        "dict1={'Rosa':150,'Jesus':146,'Manuel':160}"
      ],
      "execution_count": 5,
      "outputs": []
    },
    {
      "cell_type": "code",
      "metadata": {
        "colab": {
          "base_uri": "https://localhost:8080/"
        },
        "id": "cfmV-PTN1c4C",
        "outputId": "82696f04-ed4b-4c60-a0ee-9ab553572350"
      },
      "source": [
        "dict1"
      ],
      "execution_count": 6,
      "outputs": [
        {
          "output_type": "execute_result",
          "data": {
            "text/plain": [
              "{'Jesus': 146, 'Manuel': 160, 'Rosa': 150}"
            ]
          },
          "metadata": {
            "tags": []
          },
          "execution_count": 6
        }
      ]
    },
    {
      "cell_type": "code",
      "metadata": {
        "id": "NrHvb_xV1d6r"
      },
      "source": [
        "dict1={'Rosa':[150,200],'Jesus':[146,300],'Manuel':[160,500]}"
      ],
      "execution_count": 7,
      "outputs": []
    },
    {
      "cell_type": "code",
      "metadata": {
        "colab": {
          "base_uri": "https://localhost:8080/"
        },
        "id": "rw1rHdNU1wrL",
        "outputId": "48aabe7b-b19a-4761-b2d0-30c20182716f"
      },
      "source": [
        "### Accessing elements of a Dictionary\r\n",
        "dict1['Rosa']"
      ],
      "execution_count": 8,
      "outputs": [
        {
          "output_type": "execute_result",
          "data": {
            "text/plain": [
              "[150, 200]"
            ]
          },
          "metadata": {
            "tags": []
          },
          "execution_count": 8
        }
      ]
    },
    {
      "cell_type": "code",
      "metadata": {
        "id": "Ocaf4Nvv1446"
      },
      "source": [
        "## Adding elements to Dictionary\r\n",
        "dict1['Iris']=[133,180]"
      ],
      "execution_count": 10,
      "outputs": []
    },
    {
      "cell_type": "code",
      "metadata": {
        "colab": {
          "base_uri": "https://localhost:8080/"
        },
        "id": "Wx2utMcm2Klj",
        "outputId": "a65bdbd3-2115-4e9c-c459-66702fbb6745"
      },
      "source": [
        "dict1"
      ],
      "execution_count": 11,
      "outputs": [
        {
          "output_type": "execute_result",
          "data": {
            "text/plain": [
              "{'Iris': [133, 180],\n",
              " 'Jesus': [146, 300],\n",
              " 'Manuel': [160, 500],\n",
              " 'Rosa': [150, 200]}"
            ]
          },
          "metadata": {
            "tags": []
          },
          "execution_count": 11
        }
      ]
    },
    {
      "cell_type": "code",
      "metadata": {
        "id": "JmgTUb8G2Lwy"
      },
      "source": [
        "## Para añadir multiples elementos en un diccionario usamos:\r\n",
        "dict1.update({'Pedro':[200,330],'Maria':[111,110]})"
      ],
      "execution_count": 12,
      "outputs": []
    },
    {
      "cell_type": "code",
      "metadata": {
        "colab": {
          "base_uri": "https://localhost:8080/"
        },
        "id": "lUTaE7Lg2by6",
        "outputId": "e1633cca-5dd3-4699-d7b7-105ab889ea11"
      },
      "source": [
        "dict1"
      ],
      "execution_count": 13,
      "outputs": [
        {
          "output_type": "execute_result",
          "data": {
            "text/plain": [
              "{'Iris': [133, 180],\n",
              " 'Jesus': [146, 300],\n",
              " 'Manuel': [160, 500],\n",
              " 'Maria': [111, 110],\n",
              " 'Pedro': [200, 330],\n",
              " 'Rosa': [150, 200]}"
            ]
          },
          "metadata": {
            "tags": []
          },
          "execution_count": 13
        }
      ]
    },
    {
      "cell_type": "code",
      "metadata": {
        "id": "10IkVZ742kxL"
      },
      "source": [
        "### Para eliminar un elemento en un diccionary\r\n",
        "del dict1['Rosa']"
      ],
      "execution_count": 14,
      "outputs": []
    },
    {
      "cell_type": "code",
      "metadata": {
        "colab": {
          "base_uri": "https://localhost:8080/"
        },
        "id": "WRfHEpvZ2qe7",
        "outputId": "28bfb075-9bc0-42ed-b5a0-c5bb9a3fb1ae"
      },
      "source": [
        "dict1"
      ],
      "execution_count": 15,
      "outputs": [
        {
          "output_type": "execute_result",
          "data": {
            "text/plain": [
              "{'Iris': [133, 180],\n",
              " 'Jesus': [146, 300],\n",
              " 'Manuel': [160, 500],\n",
              " 'Maria': [111, 110],\n",
              " 'Pedro': [200, 330]}"
            ]
          },
          "metadata": {
            "tags": []
          },
          "execution_count": 15
        }
      ]
    },
    {
      "cell_type": "code",
      "metadata": {
        "id": "k6LieK363c-k"
      },
      "source": [
        "# define the key value pairs\r\n",
        "my_dictionary = {\r\n",
        "    'name'       : 'abc',\r\n",
        "    'age'        :  21,\r\n",
        "    'roll_no'    : 'CSE100',\r\n",
        "    'percentage' :  85,\r\n",
        "    'attendance' :  74,\r\n",
        "    'city'       : 'gurugram',\r\n",
        "    'country'    : 'india'\r\n",
        "}"
      ],
      "execution_count": 16,
      "outputs": []
    },
    {
      "cell_type": "code",
      "metadata": {
        "colab": {
          "base_uri": "https://localhost:8080/",
          "height": 35
        },
        "id": "XrJALYvy4G4i",
        "outputId": "0e110e8b-05f4-49d7-9957-306e9b0f9802"
      },
      "source": [
        "my_dictionary['name']"
      ],
      "execution_count": 18,
      "outputs": [
        {
          "output_type": "execute_result",
          "data": {
            "application/vnd.google.colaboratory.intrinsic+json": {
              "type": "string"
            },
            "text/plain": [
              "'abc'"
            ]
          },
          "metadata": {
            "tags": []
          },
          "execution_count": 18
        }
      ]
    },
    {
      "cell_type": "code",
      "metadata": {
        "id": "h6NoS5Ix4LZh"
      },
      "source": [
        "## Update a value of a key \r\n",
        "my_dictionary['age']=35"
      ],
      "execution_count": 19,
      "outputs": []
    },
    {
      "cell_type": "code",
      "metadata": {
        "colab": {
          "base_uri": "https://localhost:8080/"
        },
        "id": "4LKblllG83vx",
        "outputId": "c1e536e1-0abc-4af5-a88d-2597947d5b0d"
      },
      "source": [
        "##Get the keys of the dictionary\r\n",
        "my_dictionary.keys()"
      ],
      "execution_count": 21,
      "outputs": [
        {
          "output_type": "execute_result",
          "data": {
            "text/plain": [
              "dict_keys(['name', 'age', 'roll_no', 'percentage', 'attendance', 'city', 'country'])"
            ]
          },
          "metadata": {
            "tags": []
          },
          "execution_count": 21
        }
      ]
    },
    {
      "cell_type": "code",
      "metadata": {
        "colab": {
          "base_uri": "https://localhost:8080/"
        },
        "id": "D8thjnkU9IMq",
        "outputId": "88c00ba8-d172-461f-eec3-04f9630e3e70"
      },
      "source": [
        "##Get the values of the dictionary\r\n",
        "my_dictionary.values()"
      ],
      "execution_count": 22,
      "outputs": [
        {
          "output_type": "execute_result",
          "data": {
            "text/plain": [
              "dict_values(['abc', 35, 'CSE100', 85, 74, 'gurugram', 'india'])"
            ]
          },
          "metadata": {
            "tags": []
          },
          "execution_count": 22
        }
      ]
    },
    {
      "cell_type": "code",
      "metadata": {
        "colab": {
          "base_uri": "https://localhost:8080/"
        },
        "id": "Gvza-IVT9Mnx",
        "outputId": "8bf28fcb-d88b-4824-a340-50c81ec22926"
      },
      "source": [
        "##Get all the items of the dictionary\r\n",
        "my_dictionary.items()"
      ],
      "execution_count": 23,
      "outputs": [
        {
          "output_type": "execute_result",
          "data": {
            "text/plain": [
              "dict_items([('name', 'abc'), ('age', 35), ('roll_no', 'CSE100'), ('percentage', 85), ('attendance', 74), ('city', 'gurugram'), ('country', 'india')])"
            ]
          },
          "metadata": {
            "tags": []
          },
          "execution_count": 23
        }
      ]
    },
    {
      "cell_type": "code",
      "metadata": {
        "id": "vEz1Hhzx9bd5"
      },
      "source": [
        "###update dictionary with a dictionary \r\n",
        "my_dictionary.update({'pincode':121221,'lastname':'dde'})"
      ],
      "execution_count": 24,
      "outputs": []
    },
    {
      "cell_type": "code",
      "metadata": {
        "colab": {
          "base_uri": "https://localhost:8080/"
        },
        "id": "yFXHsePM9-Ah",
        "outputId": "ac308fc0-af98-45be-c69f-7a70ec3cbceb"
      },
      "source": [
        "my_dictionary"
      ],
      "execution_count": 25,
      "outputs": [
        {
          "output_type": "execute_result",
          "data": {
            "text/plain": [
              "{'age': 35,\n",
              " 'attendance': 74,\n",
              " 'city': 'gurugram',\n",
              " 'country': 'india',\n",
              " 'lastname': 'dde',\n",
              " 'name': 'abc',\n",
              " 'percentage': 85,\n",
              " 'pincode': 121221,\n",
              " 'roll_no': 'CSE100'}"
            ]
          },
          "metadata": {
            "tags": []
          },
          "execution_count": 25
        }
      ]
    },
    {
      "cell_type": "code",
      "metadata": {
        "colab": {
          "base_uri": "https://localhost:8080/"
        },
        "id": "C9ikIg599_Mp",
        "outputId": "4fdeb0e0-6c5b-4326-b2d4-bd528a4df66d"
      },
      "source": [
        "sorted(my_dictionary.items())"
      ],
      "execution_count": 27,
      "outputs": [
        {
          "output_type": "execute_result",
          "data": {
            "text/plain": [
              "[('age', 35),\n",
              " ('attendance', 74),\n",
              " ('city', 'gurugram'),\n",
              " ('country', 'india'),\n",
              " ('lastname', 'dde'),\n",
              " ('name', 'abc'),\n",
              " ('percentage', 85),\n",
              " ('pincode', 121221),\n",
              " ('roll_no', 'CSE100')]"
            ]
          },
          "metadata": {
            "tags": []
          },
          "execution_count": 27
        }
      ]
    }
  ]
}