{
  "nbformat": 4,
  "nbformat_minor": 0,
  "metadata": {
    "colab": {
      "name": "Practica_ML.ipynb",
      "provenance": [],
      "authorship_tag": "ABX9TyOJ9K4iSTm/7YsbiScnrMVs",
      "include_colab_link": true
    },
    "kernelspec": {
      "name": "python3",
      "display_name": "Python 3"
    }
  },
  "cells": [
    {
      "cell_type": "markdown",
      "metadata": {
        "id": "view-in-github",
        "colab_type": "text"
      },
      "source": [
        "<a href=\"https://colab.research.google.com/github/IrisMon/BeginnerMachineLearning/blob/main/PrimerosPasosEnPython.ipynb\" target=\"_parent\"><img src=\"https://colab.research.google.com/assets/colab-badge.svg\" alt=\"Open In Colab\"/></a>"
      ]
    },
    {
      "cell_type": "markdown",
      "metadata": {
        "id": "fW2LIjUv4Fcq"
      },
      "source": [
        "\n",
        "**📍📍 Variables and Data Types 📍 :)**\n",
        "\n",
        "\n",
        "*Practicando en clase\n",
        "\n",
        "\n",
        "\n"
      ]
    },
    {
      "cell_type": "markdown",
      "metadata": {
        "id": "L_A7eol13v49"
      },
      "source": [
        ""
      ]
    },
    {
      "cell_type": "code",
      "metadata": {
        "colab": {
          "base_uri": "https://localhost:8080/"
        },
        "id": "yPh3XQ2I4sKS",
        "outputId": "e32d6580-5d8c-4df1-a803-fcaf6e2aa623"
      },
      "source": [
        "a=74\n",
        "a\n",
        "print(a)"
      ],
      "execution_count": null,
      "outputs": [
        {
          "output_type": "stream",
          "text": [
            "74\n"
          ],
          "name": "stdout"
        }
      ]
    },
    {
      "cell_type": "code",
      "metadata": {
        "id": "36r0VRU-4xQx"
      },
      "source": [
        "a=7\n",
        "b=a\n",
        "a=3"
      ],
      "execution_count": null,
      "outputs": []
    },
    {
      "cell_type": "code",
      "metadata": {
        "colab": {
          "base_uri": "https://localhost:8080/"
        },
        "id": "x15Rw4Gw43XT",
        "outputId": "af28785a-25c9-45b8-e00d-ee21340cc21a"
      },
      "source": [
        "print(a)"
      ],
      "execution_count": null,
      "outputs": [
        {
          "output_type": "stream",
          "text": [
            "3\n"
          ],
          "name": "stdout"
        }
      ]
    },
    {
      "cell_type": "code",
      "metadata": {
        "colab": {
          "base_uri": "https://localhost:8080/"
        },
        "id": "PZ9gt_ye5sjq",
        "outputId": "4fcb4323-e055-4d9a-b730-d9bcaad57b96"
      },
      "source": [
        "type(b)"
      ],
      "execution_count": null,
      "outputs": [
        {
          "output_type": "execute_result",
          "data": {
            "text/plain": [
              "str"
            ]
          },
          "metadata": {
            "tags": []
          },
          "execution_count": 11
        }
      ]
    },
    {
      "cell_type": "code",
      "metadata": {
        "colab": {
          "base_uri": "https://localhost:8080/"
        },
        "id": "az6NxtZ3KYZt",
        "outputId": "05304d2e-6d03-429d-ba5a-8cd073d61ebd"
      },
      "source": [
        "if z>0:\n",
        "  y=z+1\n",
        "  print(y)\n",
        "elif z==0:\n",
        "  y=z+2\n",
        "elif z==10:\n",
        "  y=20\n",
        "else:\n",
        "  print('Adios')"
      ],
      "execution_count": null,
      "outputs": [
        {
          "output_type": "stream",
          "text": [
            "11\n"
          ],
          "name": "stdout"
        }
      ]
    },
    {
      "cell_type": "code",
      "metadata": {
        "id": "8CE1GmufLTOR"
      },
      "source": [
        "x=3\n",
        "if(x==1):\n",
        "  print('The condition value is True')\n"
      ],
      "execution_count": null,
      "outputs": []
    },
    {
      "cell_type": "code",
      "metadata": {
        "colab": {
          "base_uri": "https://localhost:8080/"
        },
        "id": "6u_bXE4EMZuU",
        "outputId": "73973d82-e013-4384-ae31-f8ed5d9e28d1"
      },
      "source": [
        "a=5\n",
        "b=4\n",
        "if (a<=b):\n",
        "  print('a is smaller than b')\n",
        "else:\n",
        "  print('a is greater than b')"
      ],
      "execution_count": null,
      "outputs": [
        {
          "output_type": "stream",
          "text": [
            "a is greater than b\n"
          ],
          "name": "stdout"
        }
      ]
    },
    {
      "cell_type": "code",
      "metadata": {
        "colab": {
          "base_uri": "https://localhost:8080/"
        },
        "id": "PdfJbcsdMZxl",
        "outputId": "7e829a1e-a23c-486f-c8c2-8232b4b9e219"
      },
      "source": [
        "##Multiple conditions \n",
        "a=20\n",
        "b=5\n",
        "if (a>10) and (b>5):\n",
        "  print('Pollo')\n",
        "elif (a<10) or (b>10):\n",
        "  print('Gato')\n",
        "else:\n",
        "  print('Shu chao')"
      ],
      "execution_count": null,
      "outputs": [
        {
          "output_type": "stream",
          "text": [
            "Shu chao\n"
          ],
          "name": "stdout"
        }
      ]
    },
    {
      "cell_type": "code",
      "metadata": {
        "colab": {
          "base_uri": "https://localhost:8080/"
        },
        "id": "D24H2kTKMZ0F",
        "outputId": "dc40f49e-4372-4a84-acc3-a76dcb35cd70"
      },
      "source": [
        "x=input()\n",
        "x=int(x)\n",
        "if x%2==0:\n",
        "  print('Even')\n",
        "else:\n",
        "  print('Odd')"
      ],
      "execution_count": null,
      "outputs": [
        {
          "output_type": "stream",
          "text": [
            "1000\n",
            "Even\n"
          ],
          "name": "stdout"
        }
      ]
    },
    {
      "cell_type": "code",
      "metadata": {
        "colab": {
          "base_uri": "https://localhost:8080/"
        },
        "id": "Y9Qa5WkMMZ23",
        "outputId": "67158655-c5b9-4d72-d125-63c52bcba2b9"
      },
      "source": [
        "y=input()\n",
        "y=int(y)\n",
        "if y >90 :\n",
        "  print('Grade A')\n",
        "elif y>60 and y<=90:\n",
        "  print('Grade B')\n",
        "else:\n",
        "  print('Grade F')\n"
      ],
      "execution_count": null,
      "outputs": [
        {
          "output_type": "stream",
          "text": [
            "4888\n",
            "Grade A\n"
          ],
          "name": "stdout"
        }
      ]
    },
    {
      "cell_type": "markdown",
      "metadata": {
        "id": "uEovadAvRlYr"
      },
      "source": [
        "\n",
        "**Looping Constructs**"
      ]
    },
    {
      "cell_type": "code",
      "metadata": {
        "colab": {
          "base_uri": "https://localhost:8080/"
        },
        "id": "TDLiqTL2Rfhl",
        "outputId": "a5d1d784-e311-4c8f-bd09-a798d8fbfa31"
      },
      "source": [
        "for number in range(4):\n",
        "  print(number)"
      ],
      "execution_count": null,
      "outputs": [
        {
          "output_type": "stream",
          "text": [
            "0\n",
            "1\n",
            "2\n",
            "3\n"
          ],
          "name": "stdout"
        }
      ]
    },
    {
      "cell_type": "code",
      "metadata": {
        "colab": {
          "base_uri": "https://localhost:8080/"
        },
        "id": "KQ_4e2-eT-6b",
        "outputId": "4684512e-ea87-48fe-a57b-bde47eb1b6fb"
      },
      "source": [
        "for numero in range(3,7):\n",
        "  print(numero+3)"
      ],
      "execution_count": null,
      "outputs": [
        {
          "output_type": "stream",
          "text": [
            "6\n",
            "7\n",
            "8\n",
            "9\n"
          ],
          "name": "stdout"
        }
      ]
    },
    {
      "cell_type": "code",
      "metadata": {
        "colab": {
          "base_uri": "https://localhost:8080/"
        },
        "id": "KqJYfwpxUOYD",
        "outputId": "669061ec-1e70-4b3b-f667-a7856f2a184a"
      },
      "source": [
        "for number in range(1,20,4):\n",
        "  print(number,end=' ')"
      ],
      "execution_count": null,
      "outputs": [
        {
          "output_type": "stream",
          "text": [
            "1 5 9 13 17 "
          ],
          "name": "stdout"
        }
      ]
    },
    {
      "cell_type": "code",
      "metadata": {
        "colab": {
          "base_uri": "https://localhost:8080/"
        },
        "id": "8wZHIInsVJGU",
        "outputId": "2292ad9c-040a-4120-b305-a8dc1b548c1d"
      },
      "source": [
        "for Iris in 'Iris Susana':\n",
        "  print(Iris, end='  ')"
      ],
      "execution_count": null,
      "outputs": [
        {
          "output_type": "stream",
          "text": [
            "I  r  i  s     S  u  s  a  n  a  "
          ],
          "name": "stdout"
        }
      ]
    },
    {
      "cell_type": "code",
      "metadata": {
        "colab": {
          "base_uri": "https://localhost:8080/"
        },
        "id": "eK0GZvQxVi36",
        "outputId": "1ac7ab48-0ef5-4562-b84f-3456c99baa05"
      },
      "source": [
        "for Maria in 'MQ':\n",
        "  for Iris in 'IS':\n",
        "    print(Maria, Iris)"
      ],
      "execution_count": null,
      "outputs": [
        {
          "output_type": "stream",
          "text": [
            "M I\n",
            "M S\n",
            "Q I\n",
            "Q S\n"
          ],
          "name": "stdout"
        }
      ]
    },
    {
      "cell_type": "code",
      "metadata": {
        "colab": {
          "base_uri": "https://localhost:8080/"
        },
        "id": "DjLanDJMJxbh",
        "outputId": "35b56c1d-2484-4e0e-c3d3-8f9730a68fbf"
      },
      "source": [
        "for PCA in 'POLLO':\n",
        "  print(PCA)"
      ],
      "execution_count": null,
      "outputs": [
        {
          "output_type": "stream",
          "text": [
            "P\n",
            "O\n",
            "L\n",
            "L\n",
            "O\n"
          ],
          "name": "stdout"
        }
      ]
    },
    {
      "cell_type": "code",
      "metadata": {
        "colab": {
          "base_uri": "https://localhost:8080/"
        },
        "id": "bI3v2KdstMbW",
        "outputId": "c99d3a27-1f0e-4dd8-a208-148252034e23"
      },
      "source": [
        "for outer_loo_number in range(2,4):\n",
        "  for inner_loo_character in \"ABC\":\n",
        "    print(outer_loo_number,inner_loo_character)"
      ],
      "execution_count": null,
      "outputs": [
        {
          "output_type": "stream",
          "text": [
            "2 A\n",
            "2 B\n",
            "2 C\n",
            "3 A\n",
            "3 B\n",
            "3 C\n"
          ],
          "name": "stdout"
        }
      ]
    },
    {
      "cell_type": "markdown",
      "metadata": {
        "id": "lnnurFLcuBOd"
      },
      "source": [
        "**While loop**\n",
        "\n",
        "\n",
        "\n"
      ]
    },
    {
      "cell_type": "code",
      "metadata": {
        "colab": {
          "base_uri": "https://localhost:8080/"
        },
        "id": "pQbpAR40t_d9",
        "outputId": "c6a8c1fd-27d0-4cf2-c1ad-8f00667e5c3b"
      },
      "source": [
        "number=0\n",
        "while (number<7):\n",
        "  print(number)\n",
        "  number=number+1"
      ],
      "execution_count": null,
      "outputs": [
        {
          "output_type": "stream",
          "text": [
            "0\n",
            "1\n",
            "2\n",
            "3\n",
            "4\n",
            "5\n",
            "6\n"
          ],
          "name": "stdout"
        }
      ]
    },
    {
      "cell_type": "code",
      "metadata": {
        "colab": {
          "base_uri": "https://localhost:8080/"
        },
        "id": "cSHAxvKfuaP-",
        "outputId": "284153a5-2ab4-45ea-cb89-773e05d3cb07"
      },
      "source": [
        "number=0\n",
        "while (number<7):\n",
        "  print(number)\n",
        "  number=number+3"
      ],
      "execution_count": null,
      "outputs": [
        {
          "output_type": "stream",
          "text": [
            "0\n",
            "3\n",
            "6\n"
          ],
          "name": "stdout"
        }
      ]
    },
    {
      "cell_type": "code",
      "metadata": {
        "colab": {
          "base_uri": "https://localhost:8080/"
        },
        "id": "9VEGeeHBuj6_",
        "outputId": "fd45c9a5-2fcb-471e-a0b3-1b58fd59ad55"
      },
      "source": [
        "for number in range(2,6,3):\n",
        "  print(number)"
      ],
      "execution_count": null,
      "outputs": [
        {
          "output_type": "stream",
          "text": [
            "2\n",
            "5\n"
          ],
          "name": "stdout"
        }
      ]
    },
    {
      "cell_type": "code",
      "metadata": {
        "colab": {
          "base_uri": "https://localhost:8080/"
        },
        "id": "Ap2WejqCvSnl",
        "outputId": "a769038d-c38e-4e3c-b38f-31ce9d0c58b4"
      },
      "source": [
        "for outer_loop_number in range(1,2):\n",
        "  for inner_loop_number in \"ABCD\":\n",
        "    print(outer_loop_number,inner_loop_number, end=' ')"
      ],
      "execution_count": null,
      "outputs": [
        {
          "output_type": "stream",
          "text": [
            "1 A 1 B 1 C 1 D "
          ],
          "name": "stdout"
        }
      ]
    },
    {
      "cell_type": "code",
      "metadata": {
        "colab": {
          "base_uri": "https://localhost:8080/"
        },
        "id": "HCY93P1ovr8V",
        "outputId": "c1a54768-81e7-4b11-a4df-4ce64cfc66d6"
      },
      "source": [
        "for character in \"analytics\":\n",
        "  if (character==\"a\") or (character==\"i\"):\n",
        "    print(\"x\",end=' ')\n",
        "  else:\n",
        "    print(character, end='x')"
      ],
      "execution_count": null,
      "outputs": [
        {
          "output_type": "stream",
          "text": [
            "x nxx lxyxtxx cxsx"
          ],
          "name": "stdout"
        }
      ]
    },
    {
      "cell_type": "code",
      "metadata": {
        "colab": {
          "base_uri": "https://localhost:8080/"
        },
        "id": "UC4DKAaTwlef",
        "outputId": "c52cb4f4-a8a8-47a8-aef5-01bc55b9f473"
      },
      "source": [
        "number=10\n",
        "while number>5:\n",
        "  print(number,end=' ')\n",
        "  number=number-1\n",
        "  if number==8:\n",
        "    number=2"
      ],
      "execution_count": null,
      "outputs": [
        {
          "output_type": "stream",
          "text": [
            "10 9 "
          ],
          "name": "stdout"
        }
      ]
    },
    {
      "cell_type": "code",
      "metadata": {
        "colab": {
          "base_uri": "https://localhost:8080/"
        },
        "id": "ti6huOMi7GRK",
        "outputId": "19045379-9759-43d0-98e7-e7072f2b6bd4"
      },
      "source": [
        "number=0 \n",
        "for number in range(10):\n",
        "  if number==3:\n",
        "    break\n",
        "  print('Number is '+str(number))\n",
        "print('Out of loop')"
      ],
      "execution_count": null,
      "outputs": [
        {
          "output_type": "stream",
          "text": [
            "Number is 0\n",
            "Number is 1\n",
            "Number is 2\n",
            "Out of loop\n"
          ],
          "name": "stdout"
        }
      ]
    },
    {
      "cell_type": "code",
      "metadata": {
        "colab": {
          "base_uri": "https://localhost:8080/"
        },
        "id": "cyFj-B9w9zQ8",
        "outputId": "816ac1d7-7163-4471-89e3-f0af8a07ceba"
      },
      "source": [
        "password='data'\n",
        "for trial in range(1,5):\n",
        "  if trial==4:\n",
        "    print('One trial left')\n",
        "\n",
        "  enter_pasword=input(\"Enter Password \")\n",
        "  if enter_pasword==password:\n",
        "    print(\"Welcome to Python Course!!\")\n",
        "    break\n",
        "  else:\n",
        "    print(\"Wrong Password\")"
      ],
      "execution_count": null,
      "outputs": [
        {
          "output_type": "stream",
          "text": [
            "Enter Password 4\n",
            "Wrong Password\n",
            "Enter Password data\n",
            "Welcome to Python Course!!\n"
          ],
          "name": "stdout"
        }
      ]
    },
    {
      "cell_type": "code",
      "metadata": {
        "id": "GD4I7PQNBk8X"
      },
      "source": [
        ""
      ],
      "execution_count": null,
      "outputs": []
    },
    {
      "cell_type": "markdown",
      "metadata": {
        "id": "CtUlnK9fBl-4"
      },
      "source": [
        "**Continue Stratement**\n"
      ]
    },
    {
      "cell_type": "code",
      "metadata": {
        "colab": {
          "base_uri": "https://localhost:8080/"
        },
        "id": "I_qEbcCCBlEY",
        "outputId": "0a9bd449-3919-4c87-8d0c-da2c596ae680"
      },
      "source": [
        "number=4\n",
        "for number in range(10):\n",
        "  if number==5:\n",
        "    break ###Inore when number=5\n",
        "  print('number is '+ str(number))\n",
        "print('Out of loop')"
      ],
      "execution_count": null,
      "outputs": [
        {
          "output_type": "stream",
          "text": [
            "number is 0\n",
            "number is 1\n",
            "number is 2\n",
            "number is 3\n",
            "number is 4\n",
            "Out of loop\n"
          ],
          "name": "stdout"
        }
      ]
    },
    {
      "cell_type": "code",
      "metadata": {
        "colab": {
          "base_uri": "https://localhost:8080/"
        },
        "id": "sRMt2LAVNAKG",
        "outputId": "a8947b3e-7569-4832-c283-c81cb11db6e2"
      },
      "source": [
        "number=4\n",
        "for number in range(10):\n",
        "  if number==5:\n",
        "    pass ###Inore when number=5\n",
        "  print('number is '+ str(number))\n",
        "print('Out of loop')"
      ],
      "execution_count": null,
      "outputs": [
        {
          "output_type": "stream",
          "text": [
            "number is 0\n",
            "number is 1\n",
            "number is 2\n",
            "number is 3\n",
            "number is 4\n",
            "number is 5\n",
            "number is 6\n",
            "number is 7\n",
            "number is 8\n",
            "number is 9\n",
            "Out of loop\n"
          ],
          "name": "stdout"
        }
      ]
    },
    {
      "cell_type": "code",
      "metadata": {
        "colab": {
          "base_uri": "https://localhost:8080/"
        },
        "id": "eUjwfxZ-9zgS",
        "outputId": "2d358abb-1a94-4e3a-b736-ba6020d1ea66"
      },
      "source": [
        "for a in range(3):\n",
        " print(a)"
      ],
      "execution_count": null,
      "outputs": [
        {
          "output_type": "stream",
          "text": [
            "0\n",
            "1\n",
            "2\n"
          ],
          "name": "stdout"
        }
      ]
    },
    {
      "cell_type": "code",
      "metadata": {
        "colab": {
          "base_uri": "https://localhost:8080/"
        },
        "id": "M3o3S3PGKAsB",
        "outputId": "1f67a596-21d6-4213-a87d-e8e4f0d24246"
      },
      "source": [
        "OTP='123'\n",
        "for trial in range(1,5):\n",
        "  if trial ==4:\n",
        "    print('One Trial left!!!')\n",
        "  enter_otp=input('Enter OTP: ')\n",
        "  if enter_otp != OTP:\n",
        "    print('Try Again!!')\n",
        "    continue\n",
        "  else:\n",
        "    name= input('Enter Your name: ')\n",
        "    city_name= input('Enter Your city: ')\n",
        "    break"
      ],
      "execution_count": null,
      "outputs": [
        {
          "output_type": "stream",
          "text": [
            "Enter OTP: 1\n",
            "Try Again!!\n",
            "Enter OTP: 123\n",
            "Enter Your name: Iris\n",
            "Enter Your city: Lima\n"
          ],
          "name": "stdout"
        }
      ]
    },
    {
      "cell_type": "code",
      "metadata": {
        "colab": {
          "base_uri": "https://localhost:8080/"
        },
        "id": "TxObp_tHxG7_",
        "outputId": "22db94fe-0682-4322-8b14-2cab4a816c60"
      },
      "source": [
        "number=0\n",
        "for number in range(10):\n",
        "  if number == 2:\n",
        "    continue\n",
        "  print(number, end=' ')"
      ],
      "execution_count": null,
      "outputs": [
        {
          "output_type": "stream",
          "text": [
            "0 1 3 4 5 6 7 8 9 "
          ],
          "name": "stdout"
        }
      ]
    },
    {
      "cell_type": "code",
      "metadata": {
        "colab": {
          "base_uri": "https://localhost:8080/"
        },
        "id": "WrlsA7vuN4B8",
        "outputId": "c4bfdd17-6dd1-46be-9fd1-4113506a563b"
      },
      "source": [
        "number=10\n",
        "while number>3:\n",
        "  if number%2==0:\n",
        "    number=number-1\n",
        "    continue\n",
        "  else:\n",
        "    print(number, end='')\n",
        "    number=number-1"
      ],
      "execution_count": null,
      "outputs": [
        {
          "output_type": "stream",
          "text": [
            "975"
          ],
          "name": "stdout"
        }
      ]
    },
    {
      "cell_type": "code",
      "metadata": {
        "colab": {
          "base_uri": "https://localhost:8080/"
        },
        "id": "rroIqUKdXSHs",
        "outputId": "083a0f7b-5273-4119-ecd8-6f7b4f00ff88"
      },
      "source": [
        "list3=[1,\"pollo\",2,\"gato\",3,\"gallina\"]\n",
        "list3[0]"
      ],
      "execution_count": null,
      "outputs": [
        {
          "output_type": "execute_result",
          "data": {
            "text/plain": [
              "1"
            ]
          },
          "metadata": {
            "tags": []
          },
          "execution_count": 48
        }
      ]
    },
    {
      "cell_type": "code",
      "metadata": {
        "colab": {
          "base_uri": "https://localhost:8080/"
        },
        "id": "jYQyYgiwcB0R",
        "outputId": "8b38dffa-1966-4080-9a74-890df707d534"
      },
      "source": [
        "list3[1:4]"
      ],
      "execution_count": null,
      "outputs": [
        {
          "output_type": "execute_result",
          "data": {
            "text/plain": [
              "['pollo', 2, 'gato']"
            ]
          },
          "metadata": {
            "tags": []
          },
          "execution_count": 49
        }
      ]
    },
    {
      "cell_type": "code",
      "metadata": {
        "colab": {
          "base_uri": "https://localhost:8080/"
        },
        "id": "cZwekBx6cEkg",
        "outputId": "55f97081-3878-47a4-f509-5c78865a5489"
      },
      "source": [
        "## Adding a single element\n",
        "list3.append(6)\n",
        "list3"
      ],
      "execution_count": null,
      "outputs": [
        {
          "output_type": "execute_result",
          "data": {
            "text/plain": [
              "[1, 'pollo', 2, 'gato', 3, 'gallina', 6, 6]"
            ]
          },
          "metadata": {
            "tags": []
          },
          "execution_count": 53
        }
      ]
    },
    {
      "cell_type": "code",
      "metadata": {
        "colab": {
          "base_uri": "https://localhost:8080/"
        },
        "id": "fH6doMfRcxOQ",
        "outputId": "9f497fa1-15cb-4087-c6b9-875515f33211"
      },
      "source": [
        "##Adding multiple elements\n",
        "list3.extend([7,\"Conejo\"])\n",
        "list3"
      ],
      "execution_count": null,
      "outputs": [
        {
          "output_type": "execute_result",
          "data": {
            "text/plain": [
              "[1, 'pollo', 2, 'gato', 3, 'gallina', 6, 6, 7, 'Conejo', 7, 'Conejo']"
            ]
          },
          "metadata": {
            "tags": []
          },
          "execution_count": 55
        }
      ]
    },
    {
      "cell_type": "code",
      "metadata": {
        "colab": {
          "base_uri": "https://localhost:8080/"
        },
        "id": "jcvQjBa-dC3y",
        "outputId": "bdcb281a-cecb-45f9-fb89-5362fd8d2639"
      },
      "source": [
        "##Adding list to a list\n",
        "list3.append([4,5])\n",
        "list3"
      ],
      "execution_count": null,
      "outputs": [
        {
          "output_type": "execute_result",
          "data": {
            "text/plain": [
              "[1, 'pollo', 2, 'gato', 3, 'gallina', 6, 6, 7, 'Conejo', 7, 'Conejo', [4, 5]]"
            ]
          },
          "metadata": {
            "tags": []
          },
          "execution_count": 56
        }
      ]
    },
    {
      "cell_type": "code",
      "metadata": {
        "colab": {
          "base_uri": "https://localhost:8080/"
        },
        "id": "vNQJAaaZdZMa",
        "outputId": "5f1fcdc4-b39e-4a6a-a660-6fd8d2996502"
      },
      "source": [
        "###Deleting an elemento by value\n",
        "list3.remove(6)\n",
        "list3"
      ],
      "execution_count": null,
      "outputs": [
        {
          "output_type": "execute_result",
          "data": {
            "text/plain": [
              "[1, 'pollo', 2, 'gato', 3, 'gallina', 6, 7, 'Conejo', 7, 'Conejo', [4, 5]]"
            ]
          },
          "metadata": {
            "tags": []
          },
          "execution_count": 57
        }
      ]
    },
    {
      "cell_type": "code",
      "metadata": {
        "colab": {
          "base_uri": "https://localhost:8080/"
        },
        "id": "mqb7WEtHcxQ3",
        "outputId": "23ea0346-905a-489d-84d3-e9313d84a29d"
      },
      "source": [
        "del list3[2]\n",
        "list3"
      ],
      "execution_count": null,
      "outputs": [
        {
          "output_type": "execute_result",
          "data": {
            "text/plain": [
              "[1, 'pollo', 6, 7, 'Conejo', 7, 'Conejo', [4, 5]]"
            ]
          },
          "metadata": {
            "tags": []
          },
          "execution_count": 61
        }
      ]
    },
    {
      "cell_type": "code",
      "metadata": {
        "id": "CtP0G4o5eCbp"
      },
      "source": [
        "my_tuple=(2,3,4,5)"
      ],
      "execution_count": null,
      "outputs": []
    },
    {
      "cell_type": "code",
      "metadata": {
        "id": "fedJXb9LfmTw"
      },
      "source": [
        "Lits=[2,3,4]"
      ],
      "execution_count": null,
      "outputs": []
    },
    {
      "cell_type": "code",
      "metadata": {
        "id": "iVqHRcEUfmWy"
      },
      "source": [
        ""
      ],
      "execution_count": null,
      "outputs": []
    }
  ]
}