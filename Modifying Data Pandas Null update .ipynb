{
  "nbformat": 4,
  "nbformat_minor": 0,
  "metadata": {
    "colab": {
      "name": "Untitled9.ipynb",
      "provenance": [],
      "authorship_tag": "ABX9TyPQZVV3yb3mBhAOzkmjWqZN",
      "include_colab_link": true
    },
    "kernelspec": {
      "name": "python3",
      "display_name": "Python 3"
    }
  },
  "cells": [
    {
      "cell_type": "markdown",
      "metadata": {
        "id": "view-in-github",
        "colab_type": "text"
      },
      "source": [
        "<a href=\"https://colab.research.google.com/github/IrisMon/BeginnerMachineLearning/blob/main/Modifying%20Data%20Pandas%20Null%20update%20.ipynb\" target=\"_parent\"><img src=\"https://colab.research.google.com/assets/colab-badge.svg\" alt=\"Open In Colab\"/></a>"
      ]
    },
    {
      "cell_type": "markdown",
      "metadata": {
        "id": "yf3a9Xh3mG7a"
      },
      "source": [
        "**MODIFYING DATA**\r\n",
        "\r\n",
        "**Table of conents**\r\n",
        "\r\n",
        "* How to impute the missing values in any column?\r\n",
        "* How to update the values of a column with a new mapping?\r\n",
        "* How to create a new column by modifying the existing column?\r\n",
        "* How to convert categorical varaibles into numerical?\r\n",
        "\r\n",
        "\r\n",
        "**READ THE DATE**"
      ]
    },
    {
      "cell_type": "code",
      "metadata": {
        "id": "SFJ9jzUtmCvk"
      },
      "source": [
        "import pandas as pd \r\n",
        "import numpy as np\r\n",
        "import os"
      ],
      "execution_count": 52,
      "outputs": []
    },
    {
      "cell_type": "code",
      "metadata": {
        "colab": {
          "base_uri": "https://localhost:8080/"
        },
        "id": "bO3aWGWAnB8B",
        "outputId": "6aa9019e-33dd-4ab9-9136-f0eb3ac39f10"
      },
      "source": [
        "\r\n",
        "!pip install -q xlrd\r\n",
        "!git clone https://github.com/IrisMon/BeginnerMachineLearning.git"
      ],
      "execution_count": 53,
      "outputs": [
        {
          "output_type": "stream",
          "text": [
            "fatal: destination path 'BeginnerMachineLearning' already exists and is not an empty directory.\n"
          ],
          "name": "stdout"
        }
      ]
    },
    {
      "cell_type": "code",
      "metadata": {
        "colab": {
          "base_uri": "https://localhost:8080/"
        },
        "id": "18uXR1MAnEdv",
        "outputId": "2c70f4d5-2634-45ba-d372-f5ca5aa14194"
      },
      "source": [
        "# Files from the cloned git repository.\r\n",
        "!ls BeginnerMachineLearning/Preprocessing_Subsetting_Modifying_Pandas_Dataframes/datasets"
      ],
      "execution_count": 54,
      "outputs": [
        {
          "output_type": "stream",
          "text": [
            "big_mart_sales.csv\n"
          ],
          "name": "stdout"
        }
      ]
    },
    {
      "cell_type": "code",
      "metadata": {
        "colab": {
          "base_uri": "https://localhost:8080/",
          "height": 210
        },
        "id": "u1CTXeuknGIP",
        "outputId": "7a8e596d-dd37-491f-e9dd-ed7b128d78fb"
      },
      "source": [
        "data = pd.read_csv('BeginnerMachineLearning/Preprocessing_Subsetting_Modifying_Pandas_Dataframes/datasets/big_mart_sales.csv')\r\n",
        "data.head(3)"
      ],
      "execution_count": 55,
      "outputs": [
        {
          "output_type": "execute_result",
          "data": {
            "text/html": [
              "<div>\n",
              "<style scoped>\n",
              "    .dataframe tbody tr th:only-of-type {\n",
              "        vertical-align: middle;\n",
              "    }\n",
              "\n",
              "    .dataframe tbody tr th {\n",
              "        vertical-align: top;\n",
              "    }\n",
              "\n",
              "    .dataframe thead th {\n",
              "        text-align: right;\n",
              "    }\n",
              "</style>\n",
              "<table border=\"1\" class=\"dataframe\">\n",
              "  <thead>\n",
              "    <tr style=\"text-align: right;\">\n",
              "      <th></th>\n",
              "      <th>Item_Identifier</th>\n",
              "      <th>Item_Weight</th>\n",
              "      <th>Item_Fat_Content</th>\n",
              "      <th>Item_Visibility</th>\n",
              "      <th>Item_Type</th>\n",
              "      <th>Item_MRP</th>\n",
              "      <th>Outlet_Identifier</th>\n",
              "      <th>Outlet_Establishment_Year</th>\n",
              "      <th>Outlet_Size</th>\n",
              "      <th>Outlet_Location_Type</th>\n",
              "      <th>Outlet_Type</th>\n",
              "      <th>Item_Outlet_Sales</th>\n",
              "    </tr>\n",
              "  </thead>\n",
              "  <tbody>\n",
              "    <tr>\n",
              "      <th>0</th>\n",
              "      <td>FDA15</td>\n",
              "      <td>9.30</td>\n",
              "      <td>Low Fat</td>\n",
              "      <td>0.016047</td>\n",
              "      <td>Dairy</td>\n",
              "      <td>249.8092</td>\n",
              "      <td>OUT049</td>\n",
              "      <td>1999</td>\n",
              "      <td>Medium</td>\n",
              "      <td>Tier 1</td>\n",
              "      <td>Supermarket Type1</td>\n",
              "      <td>3735.1380</td>\n",
              "    </tr>\n",
              "    <tr>\n",
              "      <th>1</th>\n",
              "      <td>DRC01</td>\n",
              "      <td>5.92</td>\n",
              "      <td>Regular</td>\n",
              "      <td>0.019278</td>\n",
              "      <td>Soft Drinks</td>\n",
              "      <td>48.2692</td>\n",
              "      <td>OUT018</td>\n",
              "      <td>2009</td>\n",
              "      <td>Medium</td>\n",
              "      <td>Tier 3</td>\n",
              "      <td>Supermarket Type2</td>\n",
              "      <td>443.4228</td>\n",
              "    </tr>\n",
              "    <tr>\n",
              "      <th>2</th>\n",
              "      <td>FDN15</td>\n",
              "      <td>17.50</td>\n",
              "      <td>Low Fat</td>\n",
              "      <td>0.016760</td>\n",
              "      <td>Meat</td>\n",
              "      <td>141.6180</td>\n",
              "      <td>OUT049</td>\n",
              "      <td>1999</td>\n",
              "      <td>Medium</td>\n",
              "      <td>Tier 1</td>\n",
              "      <td>Supermarket Type1</td>\n",
              "      <td>2097.2700</td>\n",
              "    </tr>\n",
              "  </tbody>\n",
              "</table>\n",
              "</div>"
            ],
            "text/plain": [
              "  Item_Identifier  Item_Weight  ...        Outlet_Type  Item_Outlet_Sales\n",
              "0           FDA15         9.30  ...  Supermarket Type1          3735.1380\n",
              "1           DRC01         5.92  ...  Supermarket Type2           443.4228\n",
              "2           FDN15        17.50  ...  Supermarket Type1          2097.2700\n",
              "\n",
              "[3 rows x 12 columns]"
            ]
          },
          "metadata": {
            "tags": []
          },
          "execution_count": 55
        }
      ]
    },
    {
      "cell_type": "markdown",
      "metadata": {
        "id": "HIj8OVOSqa7w"
      },
      "source": [
        "**HOW TO IMPUTE THE MISSING VALUES USING LOC IN ANY COLUMN?**\r\n",
        "\r\n",
        "**Check the columns with null values.**\r\n",
        "\r\n",
        "Fisrt , we will check the number of missing values in each of the column. Use the function isna().sum()"
      ]
    },
    {
      "cell_type": "code",
      "metadata": {
        "colab": {
          "base_uri": "https://localhost:8080/"
        },
        "id": "ityklQW5qzWX",
        "outputId": "af1f442b-83c3-4148-a175-991efa6d0814"
      },
      "source": [
        "##Check for the null values\r\n",
        "data.isna().sum()"
      ],
      "execution_count": 56,
      "outputs": [
        {
          "output_type": "execute_result",
          "data": {
            "text/plain": [
              "Item_Identifier                 0\n",
              "Item_Weight                  1463\n",
              "Item_Fat_Content                0\n",
              "Item_Visibility                 0\n",
              "Item_Type                       0\n",
              "Item_MRP                        0\n",
              "Outlet_Identifier               0\n",
              "Outlet_Establishment_Year       0\n",
              "Outlet_Size                  2410\n",
              "Outlet_Location_Type            0\n",
              "Outlet_Type                     0\n",
              "Item_Outlet_Sales               0\n",
              "dtype: int64"
            ]
          },
          "metadata": {
            "tags": []
          },
          "execution_count": 56
        }
      ]
    },
    {
      "cell_type": "markdown",
      "metadata": {
        "id": "120T9AeVq8Hv"
      },
      "source": [
        "So , we have missing values in the column **Item_Weight** and **Outlet_Size**\r\n",
        "\r\n",
        "**Select the columns where Item_weight has missing values using loc**"
      ]
    },
    {
      "cell_type": "code",
      "metadata": {
        "id": "CSWqNu3m78O1",
        "outputId": "e9443c79-8a56-40ed-d460-5543fb0882ed",
        "colab": {
          "base_uri": "https://localhost:8080/",
          "height": 600
        }
      },
      "source": [
        "data.loc[data.Item_Weight.isna()==True]"
      ],
      "execution_count": 57,
      "outputs": [
        {
          "output_type": "execute_result",
          "data": {
            "text/html": [
              "<div>\n",
              "<style scoped>\n",
              "    .dataframe tbody tr th:only-of-type {\n",
              "        vertical-align: middle;\n",
              "    }\n",
              "\n",
              "    .dataframe tbody tr th {\n",
              "        vertical-align: top;\n",
              "    }\n",
              "\n",
              "    .dataframe thead th {\n",
              "        text-align: right;\n",
              "    }\n",
              "</style>\n",
              "<table border=\"1\" class=\"dataframe\">\n",
              "  <thead>\n",
              "    <tr style=\"text-align: right;\">\n",
              "      <th></th>\n",
              "      <th>Item_Identifier</th>\n",
              "      <th>Item_Weight</th>\n",
              "      <th>Item_Fat_Content</th>\n",
              "      <th>Item_Visibility</th>\n",
              "      <th>Item_Type</th>\n",
              "      <th>Item_MRP</th>\n",
              "      <th>Outlet_Identifier</th>\n",
              "      <th>Outlet_Establishment_Year</th>\n",
              "      <th>Outlet_Size</th>\n",
              "      <th>Outlet_Location_Type</th>\n",
              "      <th>Outlet_Type</th>\n",
              "      <th>Item_Outlet_Sales</th>\n",
              "    </tr>\n",
              "  </thead>\n",
              "  <tbody>\n",
              "    <tr>\n",
              "      <th>7</th>\n",
              "      <td>FDP10</td>\n",
              "      <td>NaN</td>\n",
              "      <td>Low Fat</td>\n",
              "      <td>0.127470</td>\n",
              "      <td>Snack Foods</td>\n",
              "      <td>107.7622</td>\n",
              "      <td>OUT027</td>\n",
              "      <td>1985</td>\n",
              "      <td>Medium</td>\n",
              "      <td>Tier 3</td>\n",
              "      <td>Supermarket Type3</td>\n",
              "      <td>4022.7636</td>\n",
              "    </tr>\n",
              "    <tr>\n",
              "      <th>18</th>\n",
              "      <td>DRI11</td>\n",
              "      <td>NaN</td>\n",
              "      <td>Low Fat</td>\n",
              "      <td>0.034238</td>\n",
              "      <td>Hard Drinks</td>\n",
              "      <td>113.2834</td>\n",
              "      <td>OUT027</td>\n",
              "      <td>1985</td>\n",
              "      <td>Medium</td>\n",
              "      <td>Tier 3</td>\n",
              "      <td>Supermarket Type3</td>\n",
              "      <td>2303.6680</td>\n",
              "    </tr>\n",
              "    <tr>\n",
              "      <th>21</th>\n",
              "      <td>FDW12</td>\n",
              "      <td>NaN</td>\n",
              "      <td>Regular</td>\n",
              "      <td>0.035400</td>\n",
              "      <td>Baking Goods</td>\n",
              "      <td>144.5444</td>\n",
              "      <td>OUT027</td>\n",
              "      <td>1985</td>\n",
              "      <td>Medium</td>\n",
              "      <td>Tier 3</td>\n",
              "      <td>Supermarket Type3</td>\n",
              "      <td>4064.0432</td>\n",
              "    </tr>\n",
              "    <tr>\n",
              "      <th>23</th>\n",
              "      <td>FDC37</td>\n",
              "      <td>NaN</td>\n",
              "      <td>Low Fat</td>\n",
              "      <td>0.057557</td>\n",
              "      <td>Baking Goods</td>\n",
              "      <td>107.6938</td>\n",
              "      <td>OUT019</td>\n",
              "      <td>1985</td>\n",
              "      <td>Small</td>\n",
              "      <td>Tier 1</td>\n",
              "      <td>Grocery Store</td>\n",
              "      <td>214.3876</td>\n",
              "    </tr>\n",
              "    <tr>\n",
              "      <th>29</th>\n",
              "      <td>FDC14</td>\n",
              "      <td>NaN</td>\n",
              "      <td>Regular</td>\n",
              "      <td>0.072222</td>\n",
              "      <td>Canned</td>\n",
              "      <td>43.6454</td>\n",
              "      <td>OUT019</td>\n",
              "      <td>1985</td>\n",
              "      <td>Small</td>\n",
              "      <td>Tier 1</td>\n",
              "      <td>Grocery Store</td>\n",
              "      <td>125.8362</td>\n",
              "    </tr>\n",
              "    <tr>\n",
              "      <th>...</th>\n",
              "      <td>...</td>\n",
              "      <td>...</td>\n",
              "      <td>...</td>\n",
              "      <td>...</td>\n",
              "      <td>...</td>\n",
              "      <td>...</td>\n",
              "      <td>...</td>\n",
              "      <td>...</td>\n",
              "      <td>...</td>\n",
              "      <td>...</td>\n",
              "      <td>...</td>\n",
              "      <td>...</td>\n",
              "    </tr>\n",
              "    <tr>\n",
              "      <th>8485</th>\n",
              "      <td>DRK37</td>\n",
              "      <td>NaN</td>\n",
              "      <td>Low Fat</td>\n",
              "      <td>0.043792</td>\n",
              "      <td>Soft Drinks</td>\n",
              "      <td>189.0530</td>\n",
              "      <td>OUT027</td>\n",
              "      <td>1985</td>\n",
              "      <td>Medium</td>\n",
              "      <td>Tier 3</td>\n",
              "      <td>Supermarket Type3</td>\n",
              "      <td>6261.8490</td>\n",
              "    </tr>\n",
              "    <tr>\n",
              "      <th>8487</th>\n",
              "      <td>DRG13</td>\n",
              "      <td>NaN</td>\n",
              "      <td>Low Fat</td>\n",
              "      <td>0.037006</td>\n",
              "      <td>Soft Drinks</td>\n",
              "      <td>164.7526</td>\n",
              "      <td>OUT027</td>\n",
              "      <td>1985</td>\n",
              "      <td>Medium</td>\n",
              "      <td>Tier 3</td>\n",
              "      <td>Supermarket Type3</td>\n",
              "      <td>4111.3150</td>\n",
              "    </tr>\n",
              "    <tr>\n",
              "      <th>8488</th>\n",
              "      <td>NCN14</td>\n",
              "      <td>NaN</td>\n",
              "      <td>Low Fat</td>\n",
              "      <td>0.091473</td>\n",
              "      <td>Others</td>\n",
              "      <td>184.6608</td>\n",
              "      <td>OUT027</td>\n",
              "      <td>1985</td>\n",
              "      <td>Medium</td>\n",
              "      <td>Tier 3</td>\n",
              "      <td>Supermarket Type3</td>\n",
              "      <td>2756.4120</td>\n",
              "    </tr>\n",
              "    <tr>\n",
              "      <th>8490</th>\n",
              "      <td>FDU44</td>\n",
              "      <td>NaN</td>\n",
              "      <td>Regular</td>\n",
              "      <td>0.102296</td>\n",
              "      <td>Fruits and Vegetables</td>\n",
              "      <td>162.3552</td>\n",
              "      <td>OUT019</td>\n",
              "      <td>1985</td>\n",
              "      <td>Small</td>\n",
              "      <td>Tier 1</td>\n",
              "      <td>Grocery Store</td>\n",
              "      <td>487.3656</td>\n",
              "    </tr>\n",
              "    <tr>\n",
              "      <th>8504</th>\n",
              "      <td>NCN18</td>\n",
              "      <td>NaN</td>\n",
              "      <td>Low Fat</td>\n",
              "      <td>0.124111</td>\n",
              "      <td>Household</td>\n",
              "      <td>111.7544</td>\n",
              "      <td>OUT027</td>\n",
              "      <td>1985</td>\n",
              "      <td>Medium</td>\n",
              "      <td>Tier 3</td>\n",
              "      <td>Supermarket Type3</td>\n",
              "      <td>4138.6128</td>\n",
              "    </tr>\n",
              "  </tbody>\n",
              "</table>\n",
              "<p>1463 rows × 12 columns</p>\n",
              "</div>"
            ],
            "text/plain": [
              "     Item_Identifier  Item_Weight  ...        Outlet_Type  Item_Outlet_Sales\n",
              "7              FDP10          NaN  ...  Supermarket Type3          4022.7636\n",
              "18             DRI11          NaN  ...  Supermarket Type3          2303.6680\n",
              "21             FDW12          NaN  ...  Supermarket Type3          4064.0432\n",
              "23             FDC37          NaN  ...      Grocery Store           214.3876\n",
              "29             FDC14          NaN  ...      Grocery Store           125.8362\n",
              "...              ...          ...  ...                ...                ...\n",
              "8485           DRK37          NaN  ...  Supermarket Type3          6261.8490\n",
              "8487           DRG13          NaN  ...  Supermarket Type3          4111.3150\n",
              "8488           NCN14          NaN  ...  Supermarket Type3          2756.4120\n",
              "8490           FDU44          NaN  ...      Grocery Store           487.3656\n",
              "8504           NCN18          NaN  ...  Supermarket Type3          4138.6128\n",
              "\n",
              "[1463 rows x 12 columns]"
            ]
          },
          "metadata": {
            "tags": []
          },
          "execution_count": 57
        }
      ]
    },
    {
      "cell_type": "code",
      "metadata": {
        "colab": {
          "base_uri": "https://localhost:8080/",
          "height": 600
        },
        "id": "GPqXikCdrHYn",
        "outputId": "b8183dd0-5661-406a-8d22-590ef1b3c85a"
      },
      "source": [
        "#Row with null values in the Item Weight\r\n",
        "data.loc[data.Item_Weight.isna()==True]\r\n",
        "data.loc[data.Item_Weight.isna()==True]"
      ],
      "execution_count": 58,
      "outputs": [
        {
          "output_type": "execute_result",
          "data": {
            "text/html": [
              "<div>\n",
              "<style scoped>\n",
              "    .dataframe tbody tr th:only-of-type {\n",
              "        vertical-align: middle;\n",
              "    }\n",
              "\n",
              "    .dataframe tbody tr th {\n",
              "        vertical-align: top;\n",
              "    }\n",
              "\n",
              "    .dataframe thead th {\n",
              "        text-align: right;\n",
              "    }\n",
              "</style>\n",
              "<table border=\"1\" class=\"dataframe\">\n",
              "  <thead>\n",
              "    <tr style=\"text-align: right;\">\n",
              "      <th></th>\n",
              "      <th>Item_Identifier</th>\n",
              "      <th>Item_Weight</th>\n",
              "      <th>Item_Fat_Content</th>\n",
              "      <th>Item_Visibility</th>\n",
              "      <th>Item_Type</th>\n",
              "      <th>Item_MRP</th>\n",
              "      <th>Outlet_Identifier</th>\n",
              "      <th>Outlet_Establishment_Year</th>\n",
              "      <th>Outlet_Size</th>\n",
              "      <th>Outlet_Location_Type</th>\n",
              "      <th>Outlet_Type</th>\n",
              "      <th>Item_Outlet_Sales</th>\n",
              "    </tr>\n",
              "  </thead>\n",
              "  <tbody>\n",
              "    <tr>\n",
              "      <th>7</th>\n",
              "      <td>FDP10</td>\n",
              "      <td>NaN</td>\n",
              "      <td>Low Fat</td>\n",
              "      <td>0.127470</td>\n",
              "      <td>Snack Foods</td>\n",
              "      <td>107.7622</td>\n",
              "      <td>OUT027</td>\n",
              "      <td>1985</td>\n",
              "      <td>Medium</td>\n",
              "      <td>Tier 3</td>\n",
              "      <td>Supermarket Type3</td>\n",
              "      <td>4022.7636</td>\n",
              "    </tr>\n",
              "    <tr>\n",
              "      <th>18</th>\n",
              "      <td>DRI11</td>\n",
              "      <td>NaN</td>\n",
              "      <td>Low Fat</td>\n",
              "      <td>0.034238</td>\n",
              "      <td>Hard Drinks</td>\n",
              "      <td>113.2834</td>\n",
              "      <td>OUT027</td>\n",
              "      <td>1985</td>\n",
              "      <td>Medium</td>\n",
              "      <td>Tier 3</td>\n",
              "      <td>Supermarket Type3</td>\n",
              "      <td>2303.6680</td>\n",
              "    </tr>\n",
              "    <tr>\n",
              "      <th>21</th>\n",
              "      <td>FDW12</td>\n",
              "      <td>NaN</td>\n",
              "      <td>Regular</td>\n",
              "      <td>0.035400</td>\n",
              "      <td>Baking Goods</td>\n",
              "      <td>144.5444</td>\n",
              "      <td>OUT027</td>\n",
              "      <td>1985</td>\n",
              "      <td>Medium</td>\n",
              "      <td>Tier 3</td>\n",
              "      <td>Supermarket Type3</td>\n",
              "      <td>4064.0432</td>\n",
              "    </tr>\n",
              "    <tr>\n",
              "      <th>23</th>\n",
              "      <td>FDC37</td>\n",
              "      <td>NaN</td>\n",
              "      <td>Low Fat</td>\n",
              "      <td>0.057557</td>\n",
              "      <td>Baking Goods</td>\n",
              "      <td>107.6938</td>\n",
              "      <td>OUT019</td>\n",
              "      <td>1985</td>\n",
              "      <td>Small</td>\n",
              "      <td>Tier 1</td>\n",
              "      <td>Grocery Store</td>\n",
              "      <td>214.3876</td>\n",
              "    </tr>\n",
              "    <tr>\n",
              "      <th>29</th>\n",
              "      <td>FDC14</td>\n",
              "      <td>NaN</td>\n",
              "      <td>Regular</td>\n",
              "      <td>0.072222</td>\n",
              "      <td>Canned</td>\n",
              "      <td>43.6454</td>\n",
              "      <td>OUT019</td>\n",
              "      <td>1985</td>\n",
              "      <td>Small</td>\n",
              "      <td>Tier 1</td>\n",
              "      <td>Grocery Store</td>\n",
              "      <td>125.8362</td>\n",
              "    </tr>\n",
              "    <tr>\n",
              "      <th>...</th>\n",
              "      <td>...</td>\n",
              "      <td>...</td>\n",
              "      <td>...</td>\n",
              "      <td>...</td>\n",
              "      <td>...</td>\n",
              "      <td>...</td>\n",
              "      <td>...</td>\n",
              "      <td>...</td>\n",
              "      <td>...</td>\n",
              "      <td>...</td>\n",
              "      <td>...</td>\n",
              "      <td>...</td>\n",
              "    </tr>\n",
              "    <tr>\n",
              "      <th>8485</th>\n",
              "      <td>DRK37</td>\n",
              "      <td>NaN</td>\n",
              "      <td>Low Fat</td>\n",
              "      <td>0.043792</td>\n",
              "      <td>Soft Drinks</td>\n",
              "      <td>189.0530</td>\n",
              "      <td>OUT027</td>\n",
              "      <td>1985</td>\n",
              "      <td>Medium</td>\n",
              "      <td>Tier 3</td>\n",
              "      <td>Supermarket Type3</td>\n",
              "      <td>6261.8490</td>\n",
              "    </tr>\n",
              "    <tr>\n",
              "      <th>8487</th>\n",
              "      <td>DRG13</td>\n",
              "      <td>NaN</td>\n",
              "      <td>Low Fat</td>\n",
              "      <td>0.037006</td>\n",
              "      <td>Soft Drinks</td>\n",
              "      <td>164.7526</td>\n",
              "      <td>OUT027</td>\n",
              "      <td>1985</td>\n",
              "      <td>Medium</td>\n",
              "      <td>Tier 3</td>\n",
              "      <td>Supermarket Type3</td>\n",
              "      <td>4111.3150</td>\n",
              "    </tr>\n",
              "    <tr>\n",
              "      <th>8488</th>\n",
              "      <td>NCN14</td>\n",
              "      <td>NaN</td>\n",
              "      <td>Low Fat</td>\n",
              "      <td>0.091473</td>\n",
              "      <td>Others</td>\n",
              "      <td>184.6608</td>\n",
              "      <td>OUT027</td>\n",
              "      <td>1985</td>\n",
              "      <td>Medium</td>\n",
              "      <td>Tier 3</td>\n",
              "      <td>Supermarket Type3</td>\n",
              "      <td>2756.4120</td>\n",
              "    </tr>\n",
              "    <tr>\n",
              "      <th>8490</th>\n",
              "      <td>FDU44</td>\n",
              "      <td>NaN</td>\n",
              "      <td>Regular</td>\n",
              "      <td>0.102296</td>\n",
              "      <td>Fruits and Vegetables</td>\n",
              "      <td>162.3552</td>\n",
              "      <td>OUT019</td>\n",
              "      <td>1985</td>\n",
              "      <td>Small</td>\n",
              "      <td>Tier 1</td>\n",
              "      <td>Grocery Store</td>\n",
              "      <td>487.3656</td>\n",
              "    </tr>\n",
              "    <tr>\n",
              "      <th>8504</th>\n",
              "      <td>NCN18</td>\n",
              "      <td>NaN</td>\n",
              "      <td>Low Fat</td>\n",
              "      <td>0.124111</td>\n",
              "      <td>Household</td>\n",
              "      <td>111.7544</td>\n",
              "      <td>OUT027</td>\n",
              "      <td>1985</td>\n",
              "      <td>Medium</td>\n",
              "      <td>Tier 3</td>\n",
              "      <td>Supermarket Type3</td>\n",
              "      <td>4138.6128</td>\n",
              "    </tr>\n",
              "  </tbody>\n",
              "</table>\n",
              "<p>1463 rows × 12 columns</p>\n",
              "</div>"
            ],
            "text/plain": [
              "     Item_Identifier  Item_Weight  ...        Outlet_Type  Item_Outlet_Sales\n",
              "7              FDP10          NaN  ...  Supermarket Type3          4022.7636\n",
              "18             DRI11          NaN  ...  Supermarket Type3          2303.6680\n",
              "21             FDW12          NaN  ...  Supermarket Type3          4064.0432\n",
              "23             FDC37          NaN  ...      Grocery Store           214.3876\n",
              "29             FDC14          NaN  ...      Grocery Store           125.8362\n",
              "...              ...          ...  ...                ...                ...\n",
              "8485           DRK37          NaN  ...  Supermarket Type3          6261.8490\n",
              "8487           DRG13          NaN  ...  Supermarket Type3          4111.3150\n",
              "8488           NCN14          NaN  ...  Supermarket Type3          2756.4120\n",
              "8490           FDU44          NaN  ...      Grocery Store           487.3656\n",
              "8504           NCN18          NaN  ...  Supermarket Type3          4138.6128\n",
              "\n",
              "[1463 rows x 12 columns]"
            ]
          },
          "metadata": {
            "tags": []
          },
          "execution_count": 58
        }
      ]
    },
    {
      "cell_type": "code",
      "metadata": {
        "colab": {
          "base_uri": "https://localhost:8080/"
        },
        "id": "CG61pKeCuoen",
        "outputId": "d176ed11-203e-47ca-9390-34133e905811"
      },
      "source": [
        "data.Item_Weight.mean()"
      ],
      "execution_count": 59,
      "outputs": [
        {
          "output_type": "execute_result",
          "data": {
            "text/plain": [
              "12.857645184136183"
            ]
          },
          "metadata": {
            "tags": []
          },
          "execution_count": 59
        }
      ]
    },
    {
      "cell_type": "code",
      "metadata": {
        "id": "05y-GFMq8Ezu",
        "outputId": "982a9fe2-174c-4e13-ffb3-630093bab3ab",
        "colab": {
          "base_uri": "https://localhost:8080/"
        }
      },
      "source": [
        "data.Item_Weight.mean()"
      ],
      "execution_count": 60,
      "outputs": [
        {
          "output_type": "execute_result",
          "data": {
            "text/plain": [
              "12.857645184136183"
            ]
          },
          "metadata": {
            "tags": []
          },
          "execution_count": 60
        }
      ]
    },
    {
      "cell_type": "code",
      "metadata": {
        "id": "zNEowKEmq7Y3"
      },
      "source": [
        "#Fill the null values in Item_Weight by mean \r\n",
        "data.loc[(data.Item_Weight.isna()==True),'Item_Weight']=data.Item_Weight.mean()"
      ],
      "execution_count": 61,
      "outputs": []
    },
    {
      "cell_type": "code",
      "metadata": {
        "colab": {
          "base_uri": "https://localhost:8080/"
        },
        "id": "9MLhlML2t8vh",
        "outputId": "7901c9df-5ac9-4c00-b8cc-d88b57158cc9"
      },
      "source": [
        "data.isnull().sum()"
      ],
      "execution_count": 62,
      "outputs": [
        {
          "output_type": "execute_result",
          "data": {
            "text/plain": [
              "Item_Identifier                 0\n",
              "Item_Weight                     0\n",
              "Item_Fat_Content                0\n",
              "Item_Visibility                 0\n",
              "Item_Type                       0\n",
              "Item_MRP                        0\n",
              "Outlet_Identifier               0\n",
              "Outlet_Establishment_Year       0\n",
              "Outlet_Size                  2410\n",
              "Outlet_Location_Type            0\n",
              "Outlet_Type                     0\n",
              "Item_Outlet_Sales               0\n",
              "dtype: int64"
            ]
          },
          "metadata": {
            "tags": []
          },
          "execution_count": 62
        }
      ]
    },
    {
      "cell_type": "code",
      "metadata": {
        "colab": {
          "base_uri": "https://localhost:8080/"
        },
        "id": "T45_qHRBuxEn",
        "outputId": "b0597340-91ac-426f-a88d-f49d52bcae77"
      },
      "source": [
        "data.dtypes"
      ],
      "execution_count": 63,
      "outputs": [
        {
          "output_type": "execute_result",
          "data": {
            "text/plain": [
              "Item_Identifier               object\n",
              "Item_Weight                  float64\n",
              "Item_Fat_Content              object\n",
              "Item_Visibility              float64\n",
              "Item_Type                     object\n",
              "Item_MRP                     float64\n",
              "Outlet_Identifier             object\n",
              "Outlet_Establishment_Year      int64\n",
              "Outlet_Size                   object\n",
              "Outlet_Location_Type          object\n",
              "Outlet_Type                   object\n",
              "Item_Outlet_Sales            float64\n",
              "dtype: object"
            ]
          },
          "metadata": {
            "tags": []
          },
          "execution_count": 63
        }
      ]
    },
    {
      "cell_type": "code",
      "metadata": {
        "colab": {
          "base_uri": "https://localhost:8080/",
          "height": 210
        },
        "id": "j89L6kg1u2BH",
        "outputId": "985f6b1e-9084-4893-bbff-c69c06d49fed"
      },
      "source": [
        "data.head(3)"
      ],
      "execution_count": 64,
      "outputs": [
        {
          "output_type": "execute_result",
          "data": {
            "text/html": [
              "<div>\n",
              "<style scoped>\n",
              "    .dataframe tbody tr th:only-of-type {\n",
              "        vertical-align: middle;\n",
              "    }\n",
              "\n",
              "    .dataframe tbody tr th {\n",
              "        vertical-align: top;\n",
              "    }\n",
              "\n",
              "    .dataframe thead th {\n",
              "        text-align: right;\n",
              "    }\n",
              "</style>\n",
              "<table border=\"1\" class=\"dataframe\">\n",
              "  <thead>\n",
              "    <tr style=\"text-align: right;\">\n",
              "      <th></th>\n",
              "      <th>Item_Identifier</th>\n",
              "      <th>Item_Weight</th>\n",
              "      <th>Item_Fat_Content</th>\n",
              "      <th>Item_Visibility</th>\n",
              "      <th>Item_Type</th>\n",
              "      <th>Item_MRP</th>\n",
              "      <th>Outlet_Identifier</th>\n",
              "      <th>Outlet_Establishment_Year</th>\n",
              "      <th>Outlet_Size</th>\n",
              "      <th>Outlet_Location_Type</th>\n",
              "      <th>Outlet_Type</th>\n",
              "      <th>Item_Outlet_Sales</th>\n",
              "    </tr>\n",
              "  </thead>\n",
              "  <tbody>\n",
              "    <tr>\n",
              "      <th>0</th>\n",
              "      <td>FDA15</td>\n",
              "      <td>9.30</td>\n",
              "      <td>Low Fat</td>\n",
              "      <td>0.016047</td>\n",
              "      <td>Dairy</td>\n",
              "      <td>249.8092</td>\n",
              "      <td>OUT049</td>\n",
              "      <td>1999</td>\n",
              "      <td>Medium</td>\n",
              "      <td>Tier 1</td>\n",
              "      <td>Supermarket Type1</td>\n",
              "      <td>3735.1380</td>\n",
              "    </tr>\n",
              "    <tr>\n",
              "      <th>1</th>\n",
              "      <td>DRC01</td>\n",
              "      <td>5.92</td>\n",
              "      <td>Regular</td>\n",
              "      <td>0.019278</td>\n",
              "      <td>Soft Drinks</td>\n",
              "      <td>48.2692</td>\n",
              "      <td>OUT018</td>\n",
              "      <td>2009</td>\n",
              "      <td>Medium</td>\n",
              "      <td>Tier 3</td>\n",
              "      <td>Supermarket Type2</td>\n",
              "      <td>443.4228</td>\n",
              "    </tr>\n",
              "    <tr>\n",
              "      <th>2</th>\n",
              "      <td>FDN15</td>\n",
              "      <td>17.50</td>\n",
              "      <td>Low Fat</td>\n",
              "      <td>0.016760</td>\n",
              "      <td>Meat</td>\n",
              "      <td>141.6180</td>\n",
              "      <td>OUT049</td>\n",
              "      <td>1999</td>\n",
              "      <td>Medium</td>\n",
              "      <td>Tier 1</td>\n",
              "      <td>Supermarket Type1</td>\n",
              "      <td>2097.2700</td>\n",
              "    </tr>\n",
              "  </tbody>\n",
              "</table>\n",
              "</div>"
            ],
            "text/plain": [
              "  Item_Identifier  Item_Weight  ...        Outlet_Type  Item_Outlet_Sales\n",
              "0           FDA15         9.30  ...  Supermarket Type1          3735.1380\n",
              "1           DRC01         5.92  ...  Supermarket Type2           443.4228\n",
              "2           FDN15        17.50  ...  Supermarket Type1          2097.2700\n",
              "\n",
              "[3 rows x 12 columns]"
            ]
          },
          "metadata": {
            "tags": []
          },
          "execution_count": 64
        }
      ]
    },
    {
      "cell_type": "markdown",
      "metadata": {
        "id": "h5LuwNIjuPqH"
      },
      "source": [
        "**Fill the missing values in the column : Outlet_Size by most frequent value using Loc**\r\n"
      ]
    },
    {
      "cell_type": "markdown",
      "metadata": {
        "id": "kzoM6bB2u8AX"
      },
      "source": [
        "***Mode of Outlet Size***"
      ]
    },
    {
      "cell_type": "code",
      "metadata": {
        "colab": {
          "base_uri": "https://localhost:8080/"
        },
        "id": "DJz9MWXTuaxX",
        "outputId": "4243e1b7-ed4d-4194-a7a4-10a43e706921"
      },
      "source": [
        "data.Outlet_Size.mode()"
      ],
      "execution_count": 65,
      "outputs": [
        {
          "output_type": "execute_result",
          "data": {
            "text/plain": [
              "0    Medium\n",
              "dtype: object"
            ]
          },
          "metadata": {
            "tags": []
          },
          "execution_count": 65
        }
      ]
    },
    {
      "cell_type": "code",
      "metadata": {
        "id": "VsM7OvCN8wmO",
        "outputId": "3d06fddb-cb16-427b-98b4-a49f4a2e928f",
        "colab": {
          "base_uri": "https://localhost:8080/"
        }
      },
      "source": [
        "data.Outlet_Size.value_counts()"
      ],
      "execution_count": 66,
      "outputs": [
        {
          "output_type": "execute_result",
          "data": {
            "text/plain": [
              "Medium    2793\n",
              "Small     2388\n",
              "High       932\n",
              "Name: Outlet_Size, dtype: int64"
            ]
          },
          "metadata": {
            "tags": []
          },
          "execution_count": 66
        }
      ]
    },
    {
      "cell_type": "code",
      "metadata": {
        "id": "HNqzfh_8836u"
      },
      "source": [
        "data.loc[(data.Outlet_Size.isnull()==True),'Outlet_Size']='Medium'"
      ],
      "execution_count": 29,
      "outputs": []
    },
    {
      "cell_type": "code",
      "metadata": {
        "id": "P0_HilVFw6bA",
        "outputId": "30fae153-8751-4cb5-f89a-453bf241bf11",
        "colab": {
          "base_uri": "https://localhost:8080/"
        }
      },
      "source": [
        "data.isnull().sum()"
      ],
      "execution_count": 25,
      "outputs": [
        {
          "output_type": "execute_result",
          "data": {
            "text/plain": [
              "Item_Identifier              0\n",
              "Item_Weight                  0\n",
              "Item_Fat_Content             0\n",
              "Item_Visibility              0\n",
              "Item_Type                    0\n",
              "Item_MRP                     0\n",
              "Outlet_Identifier            0\n",
              "Outlet_Establishment_Year    0\n",
              "Outlet_Size                  0\n",
              "Outlet_Location_Type         0\n",
              "Outlet_Type                  0\n",
              "Item_Outlet_Sales            0\n",
              "dtype: int64"
            ]
          },
          "metadata": {
            "tags": []
          },
          "execution_count": 25
        }
      ]
    },
    {
      "cell_type": "markdown",
      "metadata": {
        "id": "xAuxnadcvsD3"
      },
      "source": [
        "**Use the fillna function to impute the missing values.**\r\n",
        "\r\n",
        "\r\n",
        "\r\n",
        "*fillna funtion is another way to impute the missing values. Use the parameter **inplace=True** to store the results in the dataframe*\r\n",
        "\r\n",
        "---\r\n",
        "\r\n"
      ]
    },
    {
      "cell_type": "code",
      "metadata": {
        "id": "CRfDBPUrqah3"
      },
      "source": [
        "##Fill the null values in Outlet size by the most frequent value: \"Medium\"\r\n",
        "\r\n",
        "data.Outlet_Size.fillna('Medium',inplace=True)"
      ],
      "execution_count": 26,
      "outputs": []
    },
    {
      "cell_type": "code",
      "metadata": {
        "id": "0smtQLPh9vpv",
        "outputId": "160d3b20-2291-4529-8834-95564a860323",
        "colab": {
          "base_uri": "https://localhost:8080/"
        }
      },
      "source": [
        "data.isna().sum()"
      ],
      "execution_count": 28,
      "outputs": [
        {
          "output_type": "execute_result",
          "data": {
            "text/plain": [
              "Item_Identifier              0\n",
              "Item_Weight                  0\n",
              "Item_Fat_Content             0\n",
              "Item_Visibility              0\n",
              "Item_Type                    0\n",
              "Item_MRP                     0\n",
              "Outlet_Identifier            0\n",
              "Outlet_Establishment_Year    0\n",
              "Outlet_Size                  0\n",
              "Outlet_Location_Type         0\n",
              "Outlet_Type                  0\n",
              "Item_Outlet_Sales            0\n",
              "dtype: int64"
            ]
          },
          "metadata": {
            "tags": []
          },
          "execution_count": 28
        }
      ]
    },
    {
      "cell_type": "code",
      "metadata": {
        "colab": {
          "base_uri": "https://localhost:8080/"
        },
        "id": "tGoExQnjxfe7",
        "outputId": "bef67c7e-74ea-4bac-fb68-63b6b55264a4"
      },
      "source": [
        "#Check the null values again \r\n",
        "data.isna().sum()"
      ],
      "execution_count": null,
      "outputs": [
        {
          "output_type": "execute_result",
          "data": {
            "text/plain": [
              "Item_Identifier              0\n",
              "Item_Weight                  0\n",
              "Item_Fat_Content             0\n",
              "Item_Visibility              0\n",
              "Item_Type                    0\n",
              "Item_MRP                     0\n",
              "Outlet_Identifier            0\n",
              "Outlet_Establishment_Year    0\n",
              "Outlet_Size                  0\n",
              "Outlet_Location_Type         0\n",
              "Outlet_Type                  0\n",
              "Item_Outlet_Sales            0\n",
              "dtype: int64"
            ]
          },
          "metadata": {
            "tags": []
          },
          "execution_count": 25
        }
      ]
    },
    {
      "cell_type": "markdown",
      "metadata": {
        "id": "nc64xdRTyFiw"
      },
      "source": [
        "\r\n",
        "**HOW TO UPDATE THE VALUES OF A COLUMN?**\r\n",
        "\r\n"
      ]
    },
    {
      "cell_type": "code",
      "metadata": {
        "colab": {
          "base_uri": "https://localhost:8080/",
          "height": 210
        },
        "id": "GSoJNmOAyK-_",
        "outputId": "76226848-8e76-47e4-bea0-4419afbe292f"
      },
      "source": [
        "#Look at the data \r\n",
        "data.head(3)"
      ],
      "execution_count": 30,
      "outputs": [
        {
          "output_type": "execute_result",
          "data": {
            "text/html": [
              "<div>\n",
              "<style scoped>\n",
              "    .dataframe tbody tr th:only-of-type {\n",
              "        vertical-align: middle;\n",
              "    }\n",
              "\n",
              "    .dataframe tbody tr th {\n",
              "        vertical-align: top;\n",
              "    }\n",
              "\n",
              "    .dataframe thead th {\n",
              "        text-align: right;\n",
              "    }\n",
              "</style>\n",
              "<table border=\"1\" class=\"dataframe\">\n",
              "  <thead>\n",
              "    <tr style=\"text-align: right;\">\n",
              "      <th></th>\n",
              "      <th>Item_Identifier</th>\n",
              "      <th>Item_Weight</th>\n",
              "      <th>Item_Fat_Content</th>\n",
              "      <th>Item_Visibility</th>\n",
              "      <th>Item_Type</th>\n",
              "      <th>Item_MRP</th>\n",
              "      <th>Outlet_Identifier</th>\n",
              "      <th>Outlet_Establishment_Year</th>\n",
              "      <th>Outlet_Size</th>\n",
              "      <th>Outlet_Location_Type</th>\n",
              "      <th>Outlet_Type</th>\n",
              "      <th>Item_Outlet_Sales</th>\n",
              "    </tr>\n",
              "  </thead>\n",
              "  <tbody>\n",
              "    <tr>\n",
              "      <th>0</th>\n",
              "      <td>FDA15</td>\n",
              "      <td>9.30</td>\n",
              "      <td>Low Fat</td>\n",
              "      <td>0.016047</td>\n",
              "      <td>Dairy</td>\n",
              "      <td>249.8092</td>\n",
              "      <td>OUT049</td>\n",
              "      <td>1999</td>\n",
              "      <td>Medium</td>\n",
              "      <td>Tier 1</td>\n",
              "      <td>Supermarket Type1</td>\n",
              "      <td>3735.1380</td>\n",
              "    </tr>\n",
              "    <tr>\n",
              "      <th>1</th>\n",
              "      <td>DRC01</td>\n",
              "      <td>5.92</td>\n",
              "      <td>Regular</td>\n",
              "      <td>0.019278</td>\n",
              "      <td>Soft Drinks</td>\n",
              "      <td>48.2692</td>\n",
              "      <td>OUT018</td>\n",
              "      <td>2009</td>\n",
              "      <td>Medium</td>\n",
              "      <td>Tier 3</td>\n",
              "      <td>Supermarket Type2</td>\n",
              "      <td>443.4228</td>\n",
              "    </tr>\n",
              "    <tr>\n",
              "      <th>2</th>\n",
              "      <td>FDN15</td>\n",
              "      <td>17.50</td>\n",
              "      <td>Low Fat</td>\n",
              "      <td>0.016760</td>\n",
              "      <td>Meat</td>\n",
              "      <td>141.6180</td>\n",
              "      <td>OUT049</td>\n",
              "      <td>1999</td>\n",
              "      <td>Medium</td>\n",
              "      <td>Tier 1</td>\n",
              "      <td>Supermarket Type1</td>\n",
              "      <td>2097.2700</td>\n",
              "    </tr>\n",
              "  </tbody>\n",
              "</table>\n",
              "</div>"
            ],
            "text/plain": [
              "  Item_Identifier  Item_Weight  ...        Outlet_Type  Item_Outlet_Sales\n",
              "0           FDA15         9.30  ...  Supermarket Type1          3735.1380\n",
              "1           DRC01         5.92  ...  Supermarket Type2           443.4228\n",
              "2           FDN15        17.50  ...  Supermarket Type1          2097.2700\n",
              "\n",
              "[3 rows x 12 columns]"
            ]
          },
          "metadata": {
            "tags": []
          },
          "execution_count": 30
        }
      ]
    },
    {
      "cell_type": "markdown",
      "metadata": {
        "id": "fnn63iBQyRc-"
      },
      "source": [
        "***Let's have a look at the count of each category in the column *** **Item_Fat_Content** . We will use **values_counts** function to do that***"
      ]
    },
    {
      "cell_type": "code",
      "metadata": {
        "colab": {
          "base_uri": "https://localhost:8080/"
        },
        "id": "StthctPwyrsP",
        "outputId": "75f09dec-e741-4730-9ed7-c9ce462869ef"
      },
      "source": [
        "data.Item_Fat_Content.value_counts()"
      ],
      "execution_count": 31,
      "outputs": [
        {
          "output_type": "execute_result",
          "data": {
            "text/plain": [
              "Low Fat    5089\n",
              "Regular    2889\n",
              "LF          316\n",
              "reg         117\n",
              "low fat     112\n",
              "Name: Item_Fat_Content, dtype: int64"
            ]
          },
          "metadata": {
            "tags": []
          },
          "execution_count": 31
        }
      ]
    },
    {
      "cell_type": "markdown",
      "metadata": {
        "id": "JoeIYvGDzGJx"
      },
      "source": [
        "We can see that categories Low Fat , LF and low fat are same and also Regular, reg are same . So to keep the data clean we will map all these to only two categories to LF and R using the map function. Let's see how?\r\n",
        "\r\n",
        "\r\n",
        "---\r\n"
      ]
    },
    {
      "cell_type": "code",
      "metadata": {
        "id": "EJsTvJMPqam9"
      },
      "source": [
        "#create a new mapping (dictionary)\r\n",
        "\r\n",
        "mapping ={\r\n",
        "    'Low Fat':'LF',\r\n",
        "    'Regular':'R',\r\n",
        "    'LF':'LF',\r\n",
        "    'reg':'R',\r\n",
        "    'low fat':'LF'\r\n",
        "}"
      ],
      "execution_count": 32,
      "outputs": []
    },
    {
      "cell_type": "code",
      "metadata": {
        "id": "wARMv-BO0E7X"
      },
      "source": [
        "#Use the map function to update the values\r\n",
        "\r\n",
        "data.Item_Fat_Content=data.Item_Fat_Content.map(mapping)"
      ],
      "execution_count": 33,
      "outputs": []
    },
    {
      "cell_type": "code",
      "metadata": {
        "colab": {
          "base_uri": "https://localhost:8080/"
        },
        "id": "IrLFocor0Nru",
        "outputId": "d919feb5-180e-49ff-82a1-507c3f18d783"
      },
      "source": [
        "data.Item_Fat_Content.value_counts()\r\n"
      ],
      "execution_count": 34,
      "outputs": [
        {
          "output_type": "execute_result",
          "data": {
            "text/plain": [
              "LF    5517\n",
              "R     3006\n",
              "Name: Item_Fat_Content, dtype: int64"
            ]
          },
          "metadata": {
            "tags": []
          },
          "execution_count": 34
        }
      ]
    },
    {
      "cell_type": "markdown",
      "metadata": {
        "id": "RH6k8vGP_3PQ"
      },
      "source": [
        "**HOW TO CREATE A NEW COLUMN BY MODIFYING THE EXISTING COLUMN?**"
      ]
    },
    {
      "cell_type": "code",
      "metadata": {
        "id": "qHVrPoWzAASj",
        "outputId": "66489cff-1f69-4052-84a7-10c6b5c2911f",
        "colab": {
          "base_uri": "https://localhost:8080/"
        }
      },
      "source": [
        "data.Item_MRP"
      ],
      "execution_count": 35,
      "outputs": [
        {
          "output_type": "execute_result",
          "data": {
            "text/plain": [
              "0       249.8092\n",
              "1        48.2692\n",
              "2       141.6180\n",
              "3       182.0950\n",
              "4        53.8614\n",
              "          ...   \n",
              "8518    214.5218\n",
              "8519    108.1570\n",
              "8520     85.1224\n",
              "8521    103.1332\n",
              "8522     75.4670\n",
              "Name: Item_MRP, Length: 8523, dtype: float64"
            ]
          },
          "metadata": {
            "tags": []
          },
          "execution_count": 35
        }
      ]
    },
    {
      "cell_type": "markdown",
      "metadata": {
        "id": "sNiZe7RpAcp5"
      },
      "source": [
        "**APPLY** \r\n",
        "\r\n",
        "**Create a new column Item_MRP_in_USD by dividing the each value in the column Item_MRP by 74 using the apply function- Let's see how ?**"
      ]
    },
    {
      "cell_type": "code",
      "metadata": {
        "id": "iBDA4NM1AxdL",
        "outputId": "528cd781-d647-4c65-af60-e59581c58303",
        "colab": {
          "base_uri": "https://localhost:8080/"
        }
      },
      "source": [
        "data.Item_MRP.apply(lambda x : x+10)"
      ],
      "execution_count": 37,
      "outputs": [
        {
          "output_type": "execute_result",
          "data": {
            "text/plain": [
              "0       259.8092\n",
              "1        58.2692\n",
              "2       151.6180\n",
              "3       192.0950\n",
              "4        63.8614\n",
              "          ...   \n",
              "8518    224.5218\n",
              "8519    118.1570\n",
              "8520     95.1224\n",
              "8521    113.1332\n",
              "8522     85.4670\n",
              "Name: Item_MRP, Length: 8523, dtype: float64"
            ]
          },
          "metadata": {
            "tags": []
          },
          "execution_count": 37
        }
      ]
    },
    {
      "cell_type": "code",
      "metadata": {
        "id": "Jixb4rCAqapP"
      },
      "source": [
        " data['Item_MRP_USD']=data.Item_MRP.apply(lambda x: x/74)"
      ],
      "execution_count": 39,
      "outputs": []
    },
    {
      "cell_type": "code",
      "metadata": {
        "id": "YuXzBlRmBCr3",
        "outputId": "626dc0f5-00b8-40be-f640-2019916250ad",
        "colab": {
          "base_uri": "https://localhost:8080/",
          "height": 210
        }
      },
      "source": [
        "data.head(3)"
      ],
      "execution_count": 40,
      "outputs": [
        {
          "output_type": "execute_result",
          "data": {
            "text/html": [
              "<div>\n",
              "<style scoped>\n",
              "    .dataframe tbody tr th:only-of-type {\n",
              "        vertical-align: middle;\n",
              "    }\n",
              "\n",
              "    .dataframe tbody tr th {\n",
              "        vertical-align: top;\n",
              "    }\n",
              "\n",
              "    .dataframe thead th {\n",
              "        text-align: right;\n",
              "    }\n",
              "</style>\n",
              "<table border=\"1\" class=\"dataframe\">\n",
              "  <thead>\n",
              "    <tr style=\"text-align: right;\">\n",
              "      <th></th>\n",
              "      <th>Item_Identifier</th>\n",
              "      <th>Item_Weight</th>\n",
              "      <th>Item_Fat_Content</th>\n",
              "      <th>Item_Visibility</th>\n",
              "      <th>Item_Type</th>\n",
              "      <th>Item_MRP</th>\n",
              "      <th>Outlet_Identifier</th>\n",
              "      <th>Outlet_Establishment_Year</th>\n",
              "      <th>Outlet_Size</th>\n",
              "      <th>Outlet_Location_Type</th>\n",
              "      <th>Outlet_Type</th>\n",
              "      <th>Item_Outlet_Sales</th>\n",
              "      <th>Item_MRP_USD</th>\n",
              "    </tr>\n",
              "  </thead>\n",
              "  <tbody>\n",
              "    <tr>\n",
              "      <th>0</th>\n",
              "      <td>FDA15</td>\n",
              "      <td>9.30</td>\n",
              "      <td>LF</td>\n",
              "      <td>0.016047</td>\n",
              "      <td>Dairy</td>\n",
              "      <td>249.8092</td>\n",
              "      <td>OUT049</td>\n",
              "      <td>1999</td>\n",
              "      <td>Medium</td>\n",
              "      <td>Tier 1</td>\n",
              "      <td>Supermarket Type1</td>\n",
              "      <td>3735.1380</td>\n",
              "      <td>3.375800</td>\n",
              "    </tr>\n",
              "    <tr>\n",
              "      <th>1</th>\n",
              "      <td>DRC01</td>\n",
              "      <td>5.92</td>\n",
              "      <td>R</td>\n",
              "      <td>0.019278</td>\n",
              "      <td>Soft Drinks</td>\n",
              "      <td>48.2692</td>\n",
              "      <td>OUT018</td>\n",
              "      <td>2009</td>\n",
              "      <td>Medium</td>\n",
              "      <td>Tier 3</td>\n",
              "      <td>Supermarket Type2</td>\n",
              "      <td>443.4228</td>\n",
              "      <td>0.652286</td>\n",
              "    </tr>\n",
              "    <tr>\n",
              "      <th>2</th>\n",
              "      <td>FDN15</td>\n",
              "      <td>17.50</td>\n",
              "      <td>LF</td>\n",
              "      <td>0.016760</td>\n",
              "      <td>Meat</td>\n",
              "      <td>141.6180</td>\n",
              "      <td>OUT049</td>\n",
              "      <td>1999</td>\n",
              "      <td>Medium</td>\n",
              "      <td>Tier 1</td>\n",
              "      <td>Supermarket Type1</td>\n",
              "      <td>2097.2700</td>\n",
              "      <td>1.913757</td>\n",
              "    </tr>\n",
              "  </tbody>\n",
              "</table>\n",
              "</div>"
            ],
            "text/plain": [
              "  Item_Identifier  Item_Weight  ... Item_Outlet_Sales  Item_MRP_USD\n",
              "0           FDA15         9.30  ...         3735.1380      3.375800\n",
              "1           DRC01         5.92  ...          443.4228      0.652286\n",
              "2           FDN15        17.50  ...         2097.2700      1.913757\n",
              "\n",
              "[3 rows x 13 columns]"
            ]
          },
          "metadata": {
            "tags": []
          },
          "execution_count": 40
        }
      ]
    },
    {
      "cell_type": "code",
      "metadata": {
        "id": "6XBGw1epBnQf",
        "outputId": "a036fd89-39ca-429b-ddc1-cea2f76dd8f6",
        "colab": {
          "base_uri": "https://localhost:8080/",
          "height": 407
        }
      },
      "source": [
        "data[['Item_MRP','Item_MRP_USD']]"
      ],
      "execution_count": 41,
      "outputs": [
        {
          "output_type": "execute_result",
          "data": {
            "text/html": [
              "<div>\n",
              "<style scoped>\n",
              "    .dataframe tbody tr th:only-of-type {\n",
              "        vertical-align: middle;\n",
              "    }\n",
              "\n",
              "    .dataframe tbody tr th {\n",
              "        vertical-align: top;\n",
              "    }\n",
              "\n",
              "    .dataframe thead th {\n",
              "        text-align: right;\n",
              "    }\n",
              "</style>\n",
              "<table border=\"1\" class=\"dataframe\">\n",
              "  <thead>\n",
              "    <tr style=\"text-align: right;\">\n",
              "      <th></th>\n",
              "      <th>Item_MRP</th>\n",
              "      <th>Item_MRP_USD</th>\n",
              "    </tr>\n",
              "  </thead>\n",
              "  <tbody>\n",
              "    <tr>\n",
              "      <th>0</th>\n",
              "      <td>249.8092</td>\n",
              "      <td>3.375800</td>\n",
              "    </tr>\n",
              "    <tr>\n",
              "      <th>1</th>\n",
              "      <td>48.2692</td>\n",
              "      <td>0.652286</td>\n",
              "    </tr>\n",
              "    <tr>\n",
              "      <th>2</th>\n",
              "      <td>141.6180</td>\n",
              "      <td>1.913757</td>\n",
              "    </tr>\n",
              "    <tr>\n",
              "      <th>3</th>\n",
              "      <td>182.0950</td>\n",
              "      <td>2.460743</td>\n",
              "    </tr>\n",
              "    <tr>\n",
              "      <th>4</th>\n",
              "      <td>53.8614</td>\n",
              "      <td>0.727857</td>\n",
              "    </tr>\n",
              "    <tr>\n",
              "      <th>...</th>\n",
              "      <td>...</td>\n",
              "      <td>...</td>\n",
              "    </tr>\n",
              "    <tr>\n",
              "      <th>8518</th>\n",
              "      <td>214.5218</td>\n",
              "      <td>2.898943</td>\n",
              "    </tr>\n",
              "    <tr>\n",
              "      <th>8519</th>\n",
              "      <td>108.1570</td>\n",
              "      <td>1.461581</td>\n",
              "    </tr>\n",
              "    <tr>\n",
              "      <th>8520</th>\n",
              "      <td>85.1224</td>\n",
              "      <td>1.150303</td>\n",
              "    </tr>\n",
              "    <tr>\n",
              "      <th>8521</th>\n",
              "      <td>103.1332</td>\n",
              "      <td>1.393692</td>\n",
              "    </tr>\n",
              "    <tr>\n",
              "      <th>8522</th>\n",
              "      <td>75.4670</td>\n",
              "      <td>1.019824</td>\n",
              "    </tr>\n",
              "  </tbody>\n",
              "</table>\n",
              "<p>8523 rows × 2 columns</p>\n",
              "</div>"
            ],
            "text/plain": [
              "      Item_MRP  Item_MRP_USD\n",
              "0     249.8092      3.375800\n",
              "1      48.2692      0.652286\n",
              "2     141.6180      1.913757\n",
              "3     182.0950      2.460743\n",
              "4      53.8614      0.727857\n",
              "...        ...           ...\n",
              "8518  214.5218      2.898943\n",
              "8519  108.1570      1.461581\n",
              "8520   85.1224      1.150303\n",
              "8521  103.1332      1.393692\n",
              "8522   75.4670      1.019824\n",
              "\n",
              "[8523 rows x 2 columns]"
            ]
          },
          "metadata": {
            "tags": []
          },
          "execution_count": 41
        }
      ]
    },
    {
      "cell_type": "code",
      "metadata": {
        "id": "8KkBp0gYBu_f"
      },
      "source": [
        "def conver(price):\r\n",
        "  price=price/74\r\n",
        "  price =price +1.28\r\n",
        "  return price "
      ],
      "execution_count": 42,
      "outputs": []
    },
    {
      "cell_type": "code",
      "metadata": {
        "id": "Ij_mnKD8BCvr"
      },
      "source": [
        "data['Item_MRP_USD_Update']=data.Item_MRP.apply(lambda x: conver(x))"
      ],
      "execution_count": 43,
      "outputs": []
    },
    {
      "cell_type": "code",
      "metadata": {
        "id": "pTX11M02CMhv",
        "outputId": "ecfb79af-721c-4f00-90e7-20ce8e4815da",
        "colab": {
          "base_uri": "https://localhost:8080/",
          "height": 210
        }
      },
      "source": [
        "data.head(3)"
      ],
      "execution_count": 44,
      "outputs": [
        {
          "output_type": "execute_result",
          "data": {
            "text/html": [
              "<div>\n",
              "<style scoped>\n",
              "    .dataframe tbody tr th:only-of-type {\n",
              "        vertical-align: middle;\n",
              "    }\n",
              "\n",
              "    .dataframe tbody tr th {\n",
              "        vertical-align: top;\n",
              "    }\n",
              "\n",
              "    .dataframe thead th {\n",
              "        text-align: right;\n",
              "    }\n",
              "</style>\n",
              "<table border=\"1\" class=\"dataframe\">\n",
              "  <thead>\n",
              "    <tr style=\"text-align: right;\">\n",
              "      <th></th>\n",
              "      <th>Item_Identifier</th>\n",
              "      <th>Item_Weight</th>\n",
              "      <th>Item_Fat_Content</th>\n",
              "      <th>Item_Visibility</th>\n",
              "      <th>Item_Type</th>\n",
              "      <th>Item_MRP</th>\n",
              "      <th>Outlet_Identifier</th>\n",
              "      <th>Outlet_Establishment_Year</th>\n",
              "      <th>Outlet_Size</th>\n",
              "      <th>Outlet_Location_Type</th>\n",
              "      <th>Outlet_Type</th>\n",
              "      <th>Item_Outlet_Sales</th>\n",
              "      <th>Item_MRP_USD</th>\n",
              "      <th>Item_MRP_USD_Update</th>\n",
              "    </tr>\n",
              "  </thead>\n",
              "  <tbody>\n",
              "    <tr>\n",
              "      <th>0</th>\n",
              "      <td>FDA15</td>\n",
              "      <td>9.30</td>\n",
              "      <td>LF</td>\n",
              "      <td>0.016047</td>\n",
              "      <td>Dairy</td>\n",
              "      <td>249.8092</td>\n",
              "      <td>OUT049</td>\n",
              "      <td>1999</td>\n",
              "      <td>Medium</td>\n",
              "      <td>Tier 1</td>\n",
              "      <td>Supermarket Type1</td>\n",
              "      <td>3735.1380</td>\n",
              "      <td>3.375800</td>\n",
              "      <td>4.655800</td>\n",
              "    </tr>\n",
              "    <tr>\n",
              "      <th>1</th>\n",
              "      <td>DRC01</td>\n",
              "      <td>5.92</td>\n",
              "      <td>R</td>\n",
              "      <td>0.019278</td>\n",
              "      <td>Soft Drinks</td>\n",
              "      <td>48.2692</td>\n",
              "      <td>OUT018</td>\n",
              "      <td>2009</td>\n",
              "      <td>Medium</td>\n",
              "      <td>Tier 3</td>\n",
              "      <td>Supermarket Type2</td>\n",
              "      <td>443.4228</td>\n",
              "      <td>0.652286</td>\n",
              "      <td>1.932286</td>\n",
              "    </tr>\n",
              "    <tr>\n",
              "      <th>2</th>\n",
              "      <td>FDN15</td>\n",
              "      <td>17.50</td>\n",
              "      <td>LF</td>\n",
              "      <td>0.016760</td>\n",
              "      <td>Meat</td>\n",
              "      <td>141.6180</td>\n",
              "      <td>OUT049</td>\n",
              "      <td>1999</td>\n",
              "      <td>Medium</td>\n",
              "      <td>Tier 1</td>\n",
              "      <td>Supermarket Type1</td>\n",
              "      <td>2097.2700</td>\n",
              "      <td>1.913757</td>\n",
              "      <td>3.193757</td>\n",
              "    </tr>\n",
              "  </tbody>\n",
              "</table>\n",
              "</div>"
            ],
            "text/plain": [
              "  Item_Identifier  Item_Weight  ... Item_MRP_USD  Item_MRP_USD_Update\n",
              "0           FDA15         9.30  ...     3.375800             4.655800\n",
              "1           DRC01         5.92  ...     0.652286             1.932286\n",
              "2           FDN15        17.50  ...     1.913757             3.193757\n",
              "\n",
              "[3 rows x 14 columns]"
            ]
          },
          "metadata": {
            "tags": []
          },
          "execution_count": 44
        }
      ]
    },
    {
      "cell_type": "markdown",
      "metadata": {
        "id": "nPJYB1ofCr4s"
      },
      "source": [
        "![image.png](data:image/png;base64,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)"
      ]
    },
    {
      "cell_type": "markdown",
      "metadata": {
        "id": "U1_OvdLADE08"
      },
      "source": [
        "This also know as **One Hot Encoding**. You will learn more encoding techniques in the data pre-processing moule."
      ]
    },
    {
      "cell_type": "code",
      "metadata": {
        "id": "nTz5oKyfCvJh",
        "outputId": "de100d1b-afc6-4959-c201-7d2f585e674a",
        "colab": {
          "base_uri": "https://localhost:8080/",
          "height": 163
        }
      },
      "source": [
        "##Let's look at the data again \r\n",
        "data.head(2)"
      ],
      "execution_count": 45,
      "outputs": [
        {
          "output_type": "execute_result",
          "data": {
            "text/html": [
              "<div>\n",
              "<style scoped>\n",
              "    .dataframe tbody tr th:only-of-type {\n",
              "        vertical-align: middle;\n",
              "    }\n",
              "\n",
              "    .dataframe tbody tr th {\n",
              "        vertical-align: top;\n",
              "    }\n",
              "\n",
              "    .dataframe thead th {\n",
              "        text-align: right;\n",
              "    }\n",
              "</style>\n",
              "<table border=\"1\" class=\"dataframe\">\n",
              "  <thead>\n",
              "    <tr style=\"text-align: right;\">\n",
              "      <th></th>\n",
              "      <th>Item_Identifier</th>\n",
              "      <th>Item_Weight</th>\n",
              "      <th>Item_Fat_Content</th>\n",
              "      <th>Item_Visibility</th>\n",
              "      <th>Item_Type</th>\n",
              "      <th>Item_MRP</th>\n",
              "      <th>Outlet_Identifier</th>\n",
              "      <th>Outlet_Establishment_Year</th>\n",
              "      <th>Outlet_Size</th>\n",
              "      <th>Outlet_Location_Type</th>\n",
              "      <th>Outlet_Type</th>\n",
              "      <th>Item_Outlet_Sales</th>\n",
              "      <th>Item_MRP_USD</th>\n",
              "      <th>Item_MRP_USD_Update</th>\n",
              "    </tr>\n",
              "  </thead>\n",
              "  <tbody>\n",
              "    <tr>\n",
              "      <th>0</th>\n",
              "      <td>FDA15</td>\n",
              "      <td>9.30</td>\n",
              "      <td>LF</td>\n",
              "      <td>0.016047</td>\n",
              "      <td>Dairy</td>\n",
              "      <td>249.8092</td>\n",
              "      <td>OUT049</td>\n",
              "      <td>1999</td>\n",
              "      <td>Medium</td>\n",
              "      <td>Tier 1</td>\n",
              "      <td>Supermarket Type1</td>\n",
              "      <td>3735.1380</td>\n",
              "      <td>3.375800</td>\n",
              "      <td>4.655800</td>\n",
              "    </tr>\n",
              "    <tr>\n",
              "      <th>1</th>\n",
              "      <td>DRC01</td>\n",
              "      <td>5.92</td>\n",
              "      <td>R</td>\n",
              "      <td>0.019278</td>\n",
              "      <td>Soft Drinks</td>\n",
              "      <td>48.2692</td>\n",
              "      <td>OUT018</td>\n",
              "      <td>2009</td>\n",
              "      <td>Medium</td>\n",
              "      <td>Tier 3</td>\n",
              "      <td>Supermarket Type2</td>\n",
              "      <td>443.4228</td>\n",
              "      <td>0.652286</td>\n",
              "      <td>1.932286</td>\n",
              "    </tr>\n",
              "  </tbody>\n",
              "</table>\n",
              "</div>"
            ],
            "text/plain": [
              "  Item_Identifier  Item_Weight  ... Item_MRP_USD  Item_MRP_USD_Update\n",
              "0           FDA15         9.30  ...     3.375800             4.655800\n",
              "1           DRC01         5.92  ...     0.652286             1.932286\n",
              "\n",
              "[2 rows x 14 columns]"
            ]
          },
          "metadata": {
            "tags": []
          },
          "execution_count": 45
        }
      ]
    },
    {
      "cell_type": "code",
      "metadata": {
        "id": "QOccVZPcDWD8",
        "outputId": "f7c1121b-fb17-4c4c-c6ec-5d3de664b0ad",
        "colab": {
          "base_uri": "https://localhost:8080/"
        }
      },
      "source": [
        "data.shape"
      ],
      "execution_count": 47,
      "outputs": [
        {
          "output_type": "execute_result",
          "data": {
            "text/plain": [
              "(8523, 14)"
            ]
          },
          "metadata": {
            "tags": []
          },
          "execution_count": 47
        }
      ]
    },
    {
      "cell_type": "markdown",
      "metadata": {
        "id": "Xc1Zt5kgDept"
      },
      "source": [
        "**USE GET_DUMMIES**"
      ]
    },
    {
      "cell_type": "code",
      "metadata": {
        "id": "idL0k6ZVDWKs"
      },
      "source": [
        "#Convert categorical variables into numerical variables.\r\n",
        "data=pd.get_dummies(data)"
      ],
      "execution_count": 48,
      "outputs": []
    },
    {
      "cell_type": "code",
      "metadata": {
        "id": "XLwQ7TwfCeWN",
        "outputId": "c3d0cedc-e86f-4ef6-9a9c-80eb99c98556",
        "colab": {
          "base_uri": "https://localhost:8080/",
          "height": 205
        }
      },
      "source": [
        "data.head(3)"
      ],
      "execution_count": 49,
      "outputs": [
        {
          "output_type": "execute_result",
          "data": {
            "text/html": [
              "<div>\n",
              "<style scoped>\n",
              "    .dataframe tbody tr th:only-of-type {\n",
              "        vertical-align: middle;\n",
              "    }\n",
              "\n",
              "    .dataframe tbody tr th {\n",
              "        vertical-align: top;\n",
              "    }\n",
              "\n",
              "    .dataframe thead th {\n",
              "        text-align: right;\n",
              "    }\n",
              "</style>\n",
              "<table border=\"1\" class=\"dataframe\">\n",
              "  <thead>\n",
              "    <tr style=\"text-align: right;\">\n",
              "      <th></th>\n",
              "      <th>Item_Weight</th>\n",
              "      <th>Item_Visibility</th>\n",
              "      <th>Item_MRP</th>\n",
              "      <th>Outlet_Establishment_Year</th>\n",
              "      <th>Item_Outlet_Sales</th>\n",
              "      <th>Item_MRP_USD</th>\n",
              "      <th>Item_MRP_USD_Update</th>\n",
              "      <th>Item_Identifier_DRA12</th>\n",
              "      <th>Item_Identifier_DRA24</th>\n",
              "      <th>Item_Identifier_DRA59</th>\n",
              "      <th>Item_Identifier_DRB01</th>\n",
              "      <th>Item_Identifier_DRB13</th>\n",
              "      <th>Item_Identifier_DRB24</th>\n",
              "      <th>Item_Identifier_DRB25</th>\n",
              "      <th>Item_Identifier_DRB48</th>\n",
              "      <th>Item_Identifier_DRC01</th>\n",
              "      <th>Item_Identifier_DRC12</th>\n",
              "      <th>Item_Identifier_DRC13</th>\n",
              "      <th>Item_Identifier_DRC24</th>\n",
              "      <th>Item_Identifier_DRC25</th>\n",
              "      <th>Item_Identifier_DRC27</th>\n",
              "      <th>Item_Identifier_DRC36</th>\n",
              "      <th>Item_Identifier_DRC49</th>\n",
              "      <th>Item_Identifier_DRD01</th>\n",
              "      <th>Item_Identifier_DRD12</th>\n",
              "      <th>Item_Identifier_DRD13</th>\n",
              "      <th>Item_Identifier_DRD15</th>\n",
              "      <th>Item_Identifier_DRD24</th>\n",
              "      <th>Item_Identifier_DRD25</th>\n",
              "      <th>Item_Identifier_DRD27</th>\n",
              "      <th>Item_Identifier_DRD37</th>\n",
              "      <th>Item_Identifier_DRD49</th>\n",
              "      <th>Item_Identifier_DRD60</th>\n",
              "      <th>Item_Identifier_DRE01</th>\n",
              "      <th>Item_Identifier_DRE03</th>\n",
              "      <th>Item_Identifier_DRE12</th>\n",
              "      <th>Item_Identifier_DRE13</th>\n",
              "      <th>Item_Identifier_DRE15</th>\n",
              "      <th>Item_Identifier_DRE25</th>\n",
              "      <th>Item_Identifier_DRE27</th>\n",
              "      <th>...</th>\n",
              "      <th>Item_Identifier_NCZ53</th>\n",
              "      <th>Item_Identifier_NCZ54</th>\n",
              "      <th>Item_Fat_Content_LF</th>\n",
              "      <th>Item_Fat_Content_R</th>\n",
              "      <th>Item_Type_Baking Goods</th>\n",
              "      <th>Item_Type_Breads</th>\n",
              "      <th>Item_Type_Breakfast</th>\n",
              "      <th>Item_Type_Canned</th>\n",
              "      <th>Item_Type_Dairy</th>\n",
              "      <th>Item_Type_Frozen Foods</th>\n",
              "      <th>Item_Type_Fruits and Vegetables</th>\n",
              "      <th>Item_Type_Hard Drinks</th>\n",
              "      <th>Item_Type_Health and Hygiene</th>\n",
              "      <th>Item_Type_Household</th>\n",
              "      <th>Item_Type_Meat</th>\n",
              "      <th>Item_Type_Others</th>\n",
              "      <th>Item_Type_Seafood</th>\n",
              "      <th>Item_Type_Snack Foods</th>\n",
              "      <th>Item_Type_Soft Drinks</th>\n",
              "      <th>Item_Type_Starchy Foods</th>\n",
              "      <th>Outlet_Identifier_OUT010</th>\n",
              "      <th>Outlet_Identifier_OUT013</th>\n",
              "      <th>Outlet_Identifier_OUT017</th>\n",
              "      <th>Outlet_Identifier_OUT018</th>\n",
              "      <th>Outlet_Identifier_OUT019</th>\n",
              "      <th>Outlet_Identifier_OUT027</th>\n",
              "      <th>Outlet_Identifier_OUT035</th>\n",
              "      <th>Outlet_Identifier_OUT045</th>\n",
              "      <th>Outlet_Identifier_OUT046</th>\n",
              "      <th>Outlet_Identifier_OUT049</th>\n",
              "      <th>Outlet_Size_High</th>\n",
              "      <th>Outlet_Size_Medium</th>\n",
              "      <th>Outlet_Size_Small</th>\n",
              "      <th>Outlet_Location_Type_Tier 1</th>\n",
              "      <th>Outlet_Location_Type_Tier 2</th>\n",
              "      <th>Outlet_Location_Type_Tier 3</th>\n",
              "      <th>Outlet_Type_Grocery Store</th>\n",
              "      <th>Outlet_Type_Supermarket Type1</th>\n",
              "      <th>Outlet_Type_Supermarket Type2</th>\n",
              "      <th>Outlet_Type_Supermarket Type3</th>\n",
              "    </tr>\n",
              "  </thead>\n",
              "  <tbody>\n",
              "    <tr>\n",
              "      <th>0</th>\n",
              "      <td>9.30</td>\n",
              "      <td>0.016047</td>\n",
              "      <td>249.8092</td>\n",
              "      <td>1999</td>\n",
              "      <td>3735.1380</td>\n",
              "      <td>3.375800</td>\n",
              "      <td>4.655800</td>\n",
              "      <td>0</td>\n",
              "      <td>0</td>\n",
              "      <td>0</td>\n",
              "      <td>0</td>\n",
              "      <td>0</td>\n",
              "      <td>0</td>\n",
              "      <td>0</td>\n",
              "      <td>0</td>\n",
              "      <td>0</td>\n",
              "      <td>0</td>\n",
              "      <td>0</td>\n",
              "      <td>0</td>\n",
              "      <td>0</td>\n",
              "      <td>0</td>\n",
              "      <td>0</td>\n",
              "      <td>0</td>\n",
              "      <td>0</td>\n",
              "      <td>0</td>\n",
              "      <td>0</td>\n",
              "      <td>0</td>\n",
              "      <td>0</td>\n",
              "      <td>0</td>\n",
              "      <td>0</td>\n",
              "      <td>0</td>\n",
              "      <td>0</td>\n",
              "      <td>0</td>\n",
              "      <td>0</td>\n",
              "      <td>0</td>\n",
              "      <td>0</td>\n",
              "      <td>0</td>\n",
              "      <td>0</td>\n",
              "      <td>0</td>\n",
              "      <td>0</td>\n",
              "      <td>...</td>\n",
              "      <td>0</td>\n",
              "      <td>0</td>\n",
              "      <td>1</td>\n",
              "      <td>0</td>\n",
              "      <td>0</td>\n",
              "      <td>0</td>\n",
              "      <td>0</td>\n",
              "      <td>0</td>\n",
              "      <td>1</td>\n",
              "      <td>0</td>\n",
              "      <td>0</td>\n",
              "      <td>0</td>\n",
              "      <td>0</td>\n",
              "      <td>0</td>\n",
              "      <td>0</td>\n",
              "      <td>0</td>\n",
              "      <td>0</td>\n",
              "      <td>0</td>\n",
              "      <td>0</td>\n",
              "      <td>0</td>\n",
              "      <td>0</td>\n",
              "      <td>0</td>\n",
              "      <td>0</td>\n",
              "      <td>0</td>\n",
              "      <td>0</td>\n",
              "      <td>0</td>\n",
              "      <td>0</td>\n",
              "      <td>0</td>\n",
              "      <td>0</td>\n",
              "      <td>1</td>\n",
              "      <td>0</td>\n",
              "      <td>1</td>\n",
              "      <td>0</td>\n",
              "      <td>1</td>\n",
              "      <td>0</td>\n",
              "      <td>0</td>\n",
              "      <td>0</td>\n",
              "      <td>1</td>\n",
              "      <td>0</td>\n",
              "      <td>0</td>\n",
              "    </tr>\n",
              "    <tr>\n",
              "      <th>1</th>\n",
              "      <td>5.92</td>\n",
              "      <td>0.019278</td>\n",
              "      <td>48.2692</td>\n",
              "      <td>2009</td>\n",
              "      <td>443.4228</td>\n",
              "      <td>0.652286</td>\n",
              "      <td>1.932286</td>\n",
              "      <td>0</td>\n",
              "      <td>0</td>\n",
              "      <td>0</td>\n",
              "      <td>0</td>\n",
              "      <td>0</td>\n",
              "      <td>0</td>\n",
              "      <td>0</td>\n",
              "      <td>0</td>\n",
              "      <td>1</td>\n",
              "      <td>0</td>\n",
              "      <td>0</td>\n",
              "      <td>0</td>\n",
              "      <td>0</td>\n",
              "      <td>0</td>\n",
              "      <td>0</td>\n",
              "      <td>0</td>\n",
              "      <td>0</td>\n",
              "      <td>0</td>\n",
              "      <td>0</td>\n",
              "      <td>0</td>\n",
              "      <td>0</td>\n",
              "      <td>0</td>\n",
              "      <td>0</td>\n",
              "      <td>0</td>\n",
              "      <td>0</td>\n",
              "      <td>0</td>\n",
              "      <td>0</td>\n",
              "      <td>0</td>\n",
              "      <td>0</td>\n",
              "      <td>0</td>\n",
              "      <td>0</td>\n",
              "      <td>0</td>\n",
              "      <td>0</td>\n",
              "      <td>...</td>\n",
              "      <td>0</td>\n",
              "      <td>0</td>\n",
              "      <td>0</td>\n",
              "      <td>1</td>\n",
              "      <td>0</td>\n",
              "      <td>0</td>\n",
              "      <td>0</td>\n",
              "      <td>0</td>\n",
              "      <td>0</td>\n",
              "      <td>0</td>\n",
              "      <td>0</td>\n",
              "      <td>0</td>\n",
              "      <td>0</td>\n",
              "      <td>0</td>\n",
              "      <td>0</td>\n",
              "      <td>0</td>\n",
              "      <td>0</td>\n",
              "      <td>0</td>\n",
              "      <td>1</td>\n",
              "      <td>0</td>\n",
              "      <td>0</td>\n",
              "      <td>0</td>\n",
              "      <td>0</td>\n",
              "      <td>1</td>\n",
              "      <td>0</td>\n",
              "      <td>0</td>\n",
              "      <td>0</td>\n",
              "      <td>0</td>\n",
              "      <td>0</td>\n",
              "      <td>0</td>\n",
              "      <td>0</td>\n",
              "      <td>1</td>\n",
              "      <td>0</td>\n",
              "      <td>0</td>\n",
              "      <td>0</td>\n",
              "      <td>1</td>\n",
              "      <td>0</td>\n",
              "      <td>0</td>\n",
              "      <td>1</td>\n",
              "      <td>0</td>\n",
              "    </tr>\n",
              "    <tr>\n",
              "      <th>2</th>\n",
              "      <td>17.50</td>\n",
              "      <td>0.016760</td>\n",
              "      <td>141.6180</td>\n",
              "      <td>1999</td>\n",
              "      <td>2097.2700</td>\n",
              "      <td>1.913757</td>\n",
              "      <td>3.193757</td>\n",
              "      <td>0</td>\n",
              "      <td>0</td>\n",
              "      <td>0</td>\n",
              "      <td>0</td>\n",
              "      <td>0</td>\n",
              "      <td>0</td>\n",
              "      <td>0</td>\n",
              "      <td>0</td>\n",
              "      <td>0</td>\n",
              "      <td>0</td>\n",
              "      <td>0</td>\n",
              "      <td>0</td>\n",
              "      <td>0</td>\n",
              "      <td>0</td>\n",
              "      <td>0</td>\n",
              "      <td>0</td>\n",
              "      <td>0</td>\n",
              "      <td>0</td>\n",
              "      <td>0</td>\n",
              "      <td>0</td>\n",
              "      <td>0</td>\n",
              "      <td>0</td>\n",
              "      <td>0</td>\n",
              "      <td>0</td>\n",
              "      <td>0</td>\n",
              "      <td>0</td>\n",
              "      <td>0</td>\n",
              "      <td>0</td>\n",
              "      <td>0</td>\n",
              "      <td>0</td>\n",
              "      <td>0</td>\n",
              "      <td>0</td>\n",
              "      <td>0</td>\n",
              "      <td>...</td>\n",
              "      <td>0</td>\n",
              "      <td>0</td>\n",
              "      <td>1</td>\n",
              "      <td>0</td>\n",
              "      <td>0</td>\n",
              "      <td>0</td>\n",
              "      <td>0</td>\n",
              "      <td>0</td>\n",
              "      <td>0</td>\n",
              "      <td>0</td>\n",
              "      <td>0</td>\n",
              "      <td>0</td>\n",
              "      <td>0</td>\n",
              "      <td>0</td>\n",
              "      <td>1</td>\n",
              "      <td>0</td>\n",
              "      <td>0</td>\n",
              "      <td>0</td>\n",
              "      <td>0</td>\n",
              "      <td>0</td>\n",
              "      <td>0</td>\n",
              "      <td>0</td>\n",
              "      <td>0</td>\n",
              "      <td>0</td>\n",
              "      <td>0</td>\n",
              "      <td>0</td>\n",
              "      <td>0</td>\n",
              "      <td>0</td>\n",
              "      <td>0</td>\n",
              "      <td>1</td>\n",
              "      <td>0</td>\n",
              "      <td>1</td>\n",
              "      <td>0</td>\n",
              "      <td>1</td>\n",
              "      <td>0</td>\n",
              "      <td>0</td>\n",
              "      <td>0</td>\n",
              "      <td>1</td>\n",
              "      <td>0</td>\n",
              "      <td>0</td>\n",
              "    </tr>\n",
              "  </tbody>\n",
              "</table>\n",
              "<p>3 rows × 1604 columns</p>\n",
              "</div>"
            ],
            "text/plain": [
              "   Item_Weight  ...  Outlet_Type_Supermarket Type3\n",
              "0         9.30  ...                              0\n",
              "1         5.92  ...                              0\n",
              "2        17.50  ...                              0\n",
              "\n",
              "[3 rows x 1604 columns]"
            ]
          },
          "metadata": {
            "tags": []
          },
          "execution_count": 49
        }
      ]
    },
    {
      "cell_type": "code",
      "metadata": {
        "id": "rhCVgmQqDxTK",
        "outputId": "cd99a82a-4301-4186-b2b4-281971ca9c38",
        "colab": {
          "base_uri": "https://localhost:8080/"
        }
      },
      "source": [
        "data.shape"
      ],
      "execution_count": 51,
      "outputs": [
        {
          "output_type": "execute_result",
          "data": {
            "text/plain": [
              "(8523, 1604)"
            ]
          },
          "metadata": {
            "tags": []
          },
          "execution_count": 51
        }
      ]
    },
    {
      "cell_type": "code",
      "metadata": {
        "id": "l6j5JN2bDz5V",
        "outputId": "34dde92e-f602-40c1-8a95-be3b9b47d2bd",
        "colab": {
          "base_uri": "https://localhost:8080/",
          "height": 210
        }
      },
      "source": [
        "data.head(3)"
      ],
      "execution_count": 67,
      "outputs": [
        {
          "output_type": "execute_result",
          "data": {
            "text/html": [
              "<div>\n",
              "<style scoped>\n",
              "    .dataframe tbody tr th:only-of-type {\n",
              "        vertical-align: middle;\n",
              "    }\n",
              "\n",
              "    .dataframe tbody tr th {\n",
              "        vertical-align: top;\n",
              "    }\n",
              "\n",
              "    .dataframe thead th {\n",
              "        text-align: right;\n",
              "    }\n",
              "</style>\n",
              "<table border=\"1\" class=\"dataframe\">\n",
              "  <thead>\n",
              "    <tr style=\"text-align: right;\">\n",
              "      <th></th>\n",
              "      <th>Item_Identifier</th>\n",
              "      <th>Item_Weight</th>\n",
              "      <th>Item_Fat_Content</th>\n",
              "      <th>Item_Visibility</th>\n",
              "      <th>Item_Type</th>\n",
              "      <th>Item_MRP</th>\n",
              "      <th>Outlet_Identifier</th>\n",
              "      <th>Outlet_Establishment_Year</th>\n",
              "      <th>Outlet_Size</th>\n",
              "      <th>Outlet_Location_Type</th>\n",
              "      <th>Outlet_Type</th>\n",
              "      <th>Item_Outlet_Sales</th>\n",
              "    </tr>\n",
              "  </thead>\n",
              "  <tbody>\n",
              "    <tr>\n",
              "      <th>0</th>\n",
              "      <td>FDA15</td>\n",
              "      <td>9.30</td>\n",
              "      <td>Low Fat</td>\n",
              "      <td>0.016047</td>\n",
              "      <td>Dairy</td>\n",
              "      <td>249.8092</td>\n",
              "      <td>OUT049</td>\n",
              "      <td>1999</td>\n",
              "      <td>Medium</td>\n",
              "      <td>Tier 1</td>\n",
              "      <td>Supermarket Type1</td>\n",
              "      <td>3735.1380</td>\n",
              "    </tr>\n",
              "    <tr>\n",
              "      <th>1</th>\n",
              "      <td>DRC01</td>\n",
              "      <td>5.92</td>\n",
              "      <td>Regular</td>\n",
              "      <td>0.019278</td>\n",
              "      <td>Soft Drinks</td>\n",
              "      <td>48.2692</td>\n",
              "      <td>OUT018</td>\n",
              "      <td>2009</td>\n",
              "      <td>Medium</td>\n",
              "      <td>Tier 3</td>\n",
              "      <td>Supermarket Type2</td>\n",
              "      <td>443.4228</td>\n",
              "    </tr>\n",
              "    <tr>\n",
              "      <th>2</th>\n",
              "      <td>FDN15</td>\n",
              "      <td>17.50</td>\n",
              "      <td>Low Fat</td>\n",
              "      <td>0.016760</td>\n",
              "      <td>Meat</td>\n",
              "      <td>141.6180</td>\n",
              "      <td>OUT049</td>\n",
              "      <td>1999</td>\n",
              "      <td>Medium</td>\n",
              "      <td>Tier 1</td>\n",
              "      <td>Supermarket Type1</td>\n",
              "      <td>2097.2700</td>\n",
              "    </tr>\n",
              "  </tbody>\n",
              "</table>\n",
              "</div>"
            ],
            "text/plain": [
              "  Item_Identifier  Item_Weight  ...        Outlet_Type  Item_Outlet_Sales\n",
              "0           FDA15         9.30  ...  Supermarket Type1          3735.1380\n",
              "1           DRC01         5.92  ...  Supermarket Type2           443.4228\n",
              "2           FDN15        17.50  ...  Supermarket Type1          2097.2700\n",
              "\n",
              "[3 rows x 12 columns]"
            ]
          },
          "metadata": {
            "tags": []
          },
          "execution_count": 67
        }
      ]
    },
    {
      "cell_type": "code",
      "metadata": {
        "id": "j2mpOdVdCZ_i",
        "outputId": "b9f1a0c0-2407-43dc-b1a9-b95c00e8b921",
        "colab": {
          "base_uri": "https://localhost:8080/",
          "height": 600
        }
      },
      "source": [
        "pd.get_dummies(data,columns=['Outlet_Size'])"
      ],
      "execution_count": 68,
      "outputs": [
        {
          "output_type": "execute_result",
          "data": {
            "text/html": [
              "<div>\n",
              "<style scoped>\n",
              "    .dataframe tbody tr th:only-of-type {\n",
              "        vertical-align: middle;\n",
              "    }\n",
              "\n",
              "    .dataframe tbody tr th {\n",
              "        vertical-align: top;\n",
              "    }\n",
              "\n",
              "    .dataframe thead th {\n",
              "        text-align: right;\n",
              "    }\n",
              "</style>\n",
              "<table border=\"1\" class=\"dataframe\">\n",
              "  <thead>\n",
              "    <tr style=\"text-align: right;\">\n",
              "      <th></th>\n",
              "      <th>Item_Identifier</th>\n",
              "      <th>Item_Weight</th>\n",
              "      <th>Item_Fat_Content</th>\n",
              "      <th>Item_Visibility</th>\n",
              "      <th>Item_Type</th>\n",
              "      <th>Item_MRP</th>\n",
              "      <th>Outlet_Identifier</th>\n",
              "      <th>Outlet_Establishment_Year</th>\n",
              "      <th>Outlet_Location_Type</th>\n",
              "      <th>Outlet_Type</th>\n",
              "      <th>Item_Outlet_Sales</th>\n",
              "      <th>Outlet_Size_High</th>\n",
              "      <th>Outlet_Size_Medium</th>\n",
              "      <th>Outlet_Size_Small</th>\n",
              "    </tr>\n",
              "  </thead>\n",
              "  <tbody>\n",
              "    <tr>\n",
              "      <th>0</th>\n",
              "      <td>FDA15</td>\n",
              "      <td>9.300</td>\n",
              "      <td>Low Fat</td>\n",
              "      <td>0.016047</td>\n",
              "      <td>Dairy</td>\n",
              "      <td>249.8092</td>\n",
              "      <td>OUT049</td>\n",
              "      <td>1999</td>\n",
              "      <td>Tier 1</td>\n",
              "      <td>Supermarket Type1</td>\n",
              "      <td>3735.1380</td>\n",
              "      <td>0</td>\n",
              "      <td>1</td>\n",
              "      <td>0</td>\n",
              "    </tr>\n",
              "    <tr>\n",
              "      <th>1</th>\n",
              "      <td>DRC01</td>\n",
              "      <td>5.920</td>\n",
              "      <td>Regular</td>\n",
              "      <td>0.019278</td>\n",
              "      <td>Soft Drinks</td>\n",
              "      <td>48.2692</td>\n",
              "      <td>OUT018</td>\n",
              "      <td>2009</td>\n",
              "      <td>Tier 3</td>\n",
              "      <td>Supermarket Type2</td>\n",
              "      <td>443.4228</td>\n",
              "      <td>0</td>\n",
              "      <td>1</td>\n",
              "      <td>0</td>\n",
              "    </tr>\n",
              "    <tr>\n",
              "      <th>2</th>\n",
              "      <td>FDN15</td>\n",
              "      <td>17.500</td>\n",
              "      <td>Low Fat</td>\n",
              "      <td>0.016760</td>\n",
              "      <td>Meat</td>\n",
              "      <td>141.6180</td>\n",
              "      <td>OUT049</td>\n",
              "      <td>1999</td>\n",
              "      <td>Tier 1</td>\n",
              "      <td>Supermarket Type1</td>\n",
              "      <td>2097.2700</td>\n",
              "      <td>0</td>\n",
              "      <td>1</td>\n",
              "      <td>0</td>\n",
              "    </tr>\n",
              "    <tr>\n",
              "      <th>3</th>\n",
              "      <td>FDX07</td>\n",
              "      <td>19.200</td>\n",
              "      <td>Regular</td>\n",
              "      <td>0.000000</td>\n",
              "      <td>Fruits and Vegetables</td>\n",
              "      <td>182.0950</td>\n",
              "      <td>OUT010</td>\n",
              "      <td>1998</td>\n",
              "      <td>Tier 3</td>\n",
              "      <td>Grocery Store</td>\n",
              "      <td>732.3800</td>\n",
              "      <td>0</td>\n",
              "      <td>0</td>\n",
              "      <td>0</td>\n",
              "    </tr>\n",
              "    <tr>\n",
              "      <th>4</th>\n",
              "      <td>NCD19</td>\n",
              "      <td>8.930</td>\n",
              "      <td>Low Fat</td>\n",
              "      <td>0.000000</td>\n",
              "      <td>Household</td>\n",
              "      <td>53.8614</td>\n",
              "      <td>OUT013</td>\n",
              "      <td>1987</td>\n",
              "      <td>Tier 3</td>\n",
              "      <td>Supermarket Type1</td>\n",
              "      <td>994.7052</td>\n",
              "      <td>1</td>\n",
              "      <td>0</td>\n",
              "      <td>0</td>\n",
              "    </tr>\n",
              "    <tr>\n",
              "      <th>...</th>\n",
              "      <td>...</td>\n",
              "      <td>...</td>\n",
              "      <td>...</td>\n",
              "      <td>...</td>\n",
              "      <td>...</td>\n",
              "      <td>...</td>\n",
              "      <td>...</td>\n",
              "      <td>...</td>\n",
              "      <td>...</td>\n",
              "      <td>...</td>\n",
              "      <td>...</td>\n",
              "      <td>...</td>\n",
              "      <td>...</td>\n",
              "      <td>...</td>\n",
              "    </tr>\n",
              "    <tr>\n",
              "      <th>8518</th>\n",
              "      <td>FDF22</td>\n",
              "      <td>6.865</td>\n",
              "      <td>Low Fat</td>\n",
              "      <td>0.056783</td>\n",
              "      <td>Snack Foods</td>\n",
              "      <td>214.5218</td>\n",
              "      <td>OUT013</td>\n",
              "      <td>1987</td>\n",
              "      <td>Tier 3</td>\n",
              "      <td>Supermarket Type1</td>\n",
              "      <td>2778.3834</td>\n",
              "      <td>1</td>\n",
              "      <td>0</td>\n",
              "      <td>0</td>\n",
              "    </tr>\n",
              "    <tr>\n",
              "      <th>8519</th>\n",
              "      <td>FDS36</td>\n",
              "      <td>8.380</td>\n",
              "      <td>Regular</td>\n",
              "      <td>0.046982</td>\n",
              "      <td>Baking Goods</td>\n",
              "      <td>108.1570</td>\n",
              "      <td>OUT045</td>\n",
              "      <td>2002</td>\n",
              "      <td>Tier 2</td>\n",
              "      <td>Supermarket Type1</td>\n",
              "      <td>549.2850</td>\n",
              "      <td>0</td>\n",
              "      <td>0</td>\n",
              "      <td>0</td>\n",
              "    </tr>\n",
              "    <tr>\n",
              "      <th>8520</th>\n",
              "      <td>NCJ29</td>\n",
              "      <td>10.600</td>\n",
              "      <td>Low Fat</td>\n",
              "      <td>0.035186</td>\n",
              "      <td>Health and Hygiene</td>\n",
              "      <td>85.1224</td>\n",
              "      <td>OUT035</td>\n",
              "      <td>2004</td>\n",
              "      <td>Tier 2</td>\n",
              "      <td>Supermarket Type1</td>\n",
              "      <td>1193.1136</td>\n",
              "      <td>0</td>\n",
              "      <td>0</td>\n",
              "      <td>1</td>\n",
              "    </tr>\n",
              "    <tr>\n",
              "      <th>8521</th>\n",
              "      <td>FDN46</td>\n",
              "      <td>7.210</td>\n",
              "      <td>Regular</td>\n",
              "      <td>0.145221</td>\n",
              "      <td>Snack Foods</td>\n",
              "      <td>103.1332</td>\n",
              "      <td>OUT018</td>\n",
              "      <td>2009</td>\n",
              "      <td>Tier 3</td>\n",
              "      <td>Supermarket Type2</td>\n",
              "      <td>1845.5976</td>\n",
              "      <td>0</td>\n",
              "      <td>1</td>\n",
              "      <td>0</td>\n",
              "    </tr>\n",
              "    <tr>\n",
              "      <th>8522</th>\n",
              "      <td>DRG01</td>\n",
              "      <td>14.800</td>\n",
              "      <td>Low Fat</td>\n",
              "      <td>0.044878</td>\n",
              "      <td>Soft Drinks</td>\n",
              "      <td>75.4670</td>\n",
              "      <td>OUT046</td>\n",
              "      <td>1997</td>\n",
              "      <td>Tier 1</td>\n",
              "      <td>Supermarket Type1</td>\n",
              "      <td>765.6700</td>\n",
              "      <td>0</td>\n",
              "      <td>0</td>\n",
              "      <td>1</td>\n",
              "    </tr>\n",
              "  </tbody>\n",
              "</table>\n",
              "<p>8523 rows × 14 columns</p>\n",
              "</div>"
            ],
            "text/plain": [
              "     Item_Identifier  Item_Weight  ... Outlet_Size_Medium  Outlet_Size_Small\n",
              "0              FDA15        9.300  ...                  1                  0\n",
              "1              DRC01        5.920  ...                  1                  0\n",
              "2              FDN15       17.500  ...                  1                  0\n",
              "3              FDX07       19.200  ...                  0                  0\n",
              "4              NCD19        8.930  ...                  0                  0\n",
              "...              ...          ...  ...                ...                ...\n",
              "8518           FDF22        6.865  ...                  0                  0\n",
              "8519           FDS36        8.380  ...                  0                  0\n",
              "8520           NCJ29       10.600  ...                  0                  1\n",
              "8521           FDN46        7.210  ...                  1                  0\n",
              "8522           DRG01       14.800  ...                  0                  1\n",
              "\n",
              "[8523 rows x 14 columns]"
            ]
          },
          "metadata": {
            "tags": []
          },
          "execution_count": 68
        }
      ]
    }
  ]
}