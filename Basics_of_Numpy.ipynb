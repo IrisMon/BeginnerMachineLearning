{
  "nbformat": 4,
  "nbformat_minor": 0,
  "metadata": {
    "colab": {
      "name": "Basics of Numpy.ipynb",
      "provenance": [],
      "authorship_tag": "ABX9TyMVOzIa/lB7QiIQfvInf4ZU",
      "include_colab_link": true
    },
    "kernelspec": {
      "name": "python3",
      "display_name": "Python 3"
    }
  },
  "cells": [
    {
      "cell_type": "markdown",
      "metadata": {
        "id": "view-in-github",
        "colab_type": "text"
      },
      "source": [
        "<a href=\"https://colab.research.google.com/github/IrisMon/BeginnerMachineLearning/blob/main/Basics_of_Numpy.ipynb\" target=\"_parent\"><img src=\"https://colab.research.google.com/assets/colab-badge.svg\" alt=\"Open In Colab\"/></a>"
      ]
    },
    {
      "cell_type": "markdown",
      "metadata": {
        "id": "6SvPjefCMzbi"
      },
      "source": [
        "**Basics of Numpy**\r\n",
        "\r\n",
        "```\r\n",
        "Numpy is the fundamental package for scientific computing with Python. It contains among  other things:\r\n",
        "\r\n",
        "* A powerful N-dimensional array object\r\n",
        "* Sophisticated (broadcasting) functions\r\n",
        "* Tools for integrating C/C++ and Fortran code\r\n",
        "* Useful linear algebra , Fourier transform , and random number capabilities\r\n",
        "```\r\n",
        "\r\n"
      ]
    },
    {
      "cell_type": "code",
      "metadata": {
        "id": "y3XMZBA1NfYz"
      },
      "source": [
        "## Importing the numpy library \r\n",
        "import numpy as np"
      ],
      "execution_count": 1,
      "outputs": []
    },
    {
      "cell_type": "code",
      "metadata": {
        "id": "cXiXJN68Nm-C",
        "outputId": "2ce7cd87-6266-4a26-bca8-7c27e481b698",
        "colab": {
          "base_uri": "https://localhost:8080/",
          "height": 35
        }
      },
      "source": [
        "##Check version of the numpy library\r\n",
        "np.__version__"
      ],
      "execution_count": 4,
      "outputs": [
        {
          "output_type": "execute_result",
          "data": {
            "application/vnd.google.colaboratory.intrinsic+json": {
              "type": "string"
            },
            "text/plain": [
              "'1.19.5'"
            ]
          },
          "metadata": {
            "tags": []
          },
          "execution_count": 4
        }
      ]
    },
    {
      "cell_type": "code",
      "metadata": {
        "id": "VrsBLIUMM5H6",
        "outputId": "907f5aa2-5558-4821-d84a-28f6b84a2bc3",
        "colab": {
          "base_uri": "https://localhost:8080/"
        }
      },
      "source": [
        "## Create a numpy array\r\n",
        "np.array([1,4,2,5,3])"
      ],
      "execution_count": 5,
      "outputs": [
        {
          "output_type": "execute_result",
          "data": {
            "text/plain": [
              "array([1, 4, 2, 5, 3])"
            ]
          },
          "metadata": {
            "tags": []
          },
          "execution_count": 5
        }
      ]
    },
    {
      "cell_type": "code",
      "metadata": {
        "id": "RRM5sw7R6Y-g",
        "outputId": "0ed4e6dc-22c9-4ec0-d239-fd590facc9bc",
        "colab": {
          "base_uri": "https://localhost:8080/"
        }
      },
      "source": [
        "[1,2,'2',5,False]"
      ],
      "execution_count": 6,
      "outputs": [
        {
          "output_type": "execute_result",
          "data": {
            "text/plain": [
              "[1, 2, '2', 5, False]"
            ]
          },
          "metadata": {
            "tags": []
          },
          "execution_count": 6
        }
      ]
    },
    {
      "cell_type": "code",
      "metadata": {
        "id": "QGeeQuxA6fE8",
        "outputId": "18146a2c-9a80-487f-ca65-1085e40eb50e",
        "colab": {
          "base_uri": "https://localhost:8080/"
        }
      },
      "source": [
        "## Only create a the same type of date\r\n",
        "np.array([1,2,'2',5,False])"
      ],
      "execution_count": 7,
      "outputs": [
        {
          "output_type": "execute_result",
          "data": {
            "text/plain": [
              "array(['1', '2', '2', '5', 'False'], dtype='<U21')"
            ]
          },
          "metadata": {
            "tags": []
          },
          "execution_count": 7
        }
      ]
    },
    {
      "cell_type": "code",
      "metadata": {
        "id": "mRZ5kVcX6iYV",
        "outputId": "38adba17-6900-40ee-9411-8ea2b8e2361a",
        "colab": {
          "base_uri": "https://localhost:8080/"
        }
      },
      "source": [
        "# Create a sample list\r\n",
        "sample_list=[1,2,3,4,5,6]\r\n",
        "print(sample_list)"
      ],
      "execution_count": 9,
      "outputs": [
        {
          "output_type": "stream",
          "text": [
            "[1, 2, 3, 4, 5, 6]\n"
          ],
          "name": "stdout"
        }
      ]
    },
    {
      "cell_type": "code",
      "metadata": {
        "id": "GqukLROm62S3",
        "outputId": "34e79159-62c7-41ac-9e28-2300ad561bf9",
        "colab": {
          "base_uri": "https://localhost:8080/"
        }
      },
      "source": [
        "sample_list*2 ## Just repit 2 twice the same information"
      ],
      "execution_count": 10,
      "outputs": [
        {
          "output_type": "execute_result",
          "data": {
            "text/plain": [
              "[1, 2, 3, 4, 5, 6, 1, 2, 3, 4, 5, 6]"
            ]
          },
          "metadata": {
            "tags": []
          },
          "execution_count": 10
        }
      ]
    },
    {
      "cell_type": "code",
      "metadata": {
        "id": "DvaJdS5y7OuT",
        "outputId": "de456b53-f0fa-4e0b-d33a-19ed487552dc",
        "colab": {
          "base_uri": "https://localhost:8080/"
        }
      },
      "source": [
        "sample_list*3"
      ],
      "execution_count": 11,
      "outputs": [
        {
          "output_type": "execute_result",
          "data": {
            "text/plain": [
              "[1, 2, 3, 4, 5, 6, 1, 2, 3, 4, 5, 6, 1, 2, 3, 4, 5, 6]"
            ]
          },
          "metadata": {
            "tags": []
          },
          "execution_count": 11
        }
      ]
    },
    {
      "cell_type": "code",
      "metadata": {
        "id": "zOC59XH_7OxL",
        "outputId": "a0dbbec7-9c06-4777-ac78-4e317a9f9192",
        "colab": {
          "base_uri": "https://localhost:8080/"
        }
      },
      "source": [
        "## Now create a sample numpy array \r\n",
        "sample_numpy_array=np.array([1,2,3,4,5,6])\r\n",
        "print(sample_numpy_array)"
      ],
      "execution_count": 13,
      "outputs": [
        {
          "output_type": "stream",
          "text": [
            "[1 2 3 4 5 6]\n"
          ],
          "name": "stdout"
        }
      ]
    },
    {
      "cell_type": "code",
      "metadata": {
        "id": "3IhWNE5R7Ozr",
        "outputId": "948d3f0b-597d-44ae-8839-2c6a997619ac",
        "colab": {
          "base_uri": "https://localhost:8080/"
        }
      },
      "source": [
        "sample_numpy_array*2"
      ],
      "execution_count": 14,
      "outputs": [
        {
          "output_type": "execute_result",
          "data": {
            "text/plain": [
              "array([ 2,  4,  6,  8, 10, 12])"
            ]
          },
          "metadata": {
            "tags": []
          },
          "execution_count": 14
        }
      ]
    },
    {
      "cell_type": "code",
      "metadata": {
        "id": "soXcw1AK7xS0",
        "outputId": "01461cb9-9635-424a-fff1-2a851d91789d",
        "colab": {
          "base_uri": "https://localhost:8080/"
        }
      },
      "source": [
        "sample_numpy_array*3"
      ],
      "execution_count": 15,
      "outputs": [
        {
          "output_type": "execute_result",
          "data": {
            "text/plain": [
              "array([ 3,  6,  9, 12, 15, 18])"
            ]
          },
          "metadata": {
            "tags": []
          },
          "execution_count": 15
        }
      ]
    },
    {
      "cell_type": "markdown",
      "metadata": {
        "id": "kqFSvkJV7k4t"
      },
      "source": [
        "Create a matrix using numpy"
      ]
    },
    {
      "cell_type": "code",
      "metadata": {
        "id": "wq5_zbTd7O2F"
      },
      "source": [
        "a=[[1,2,3],\r\n",
        "   [4,5,6],\r\n",
        "   [7,8,9]]"
      ],
      "execution_count": 16,
      "outputs": []
    },
    {
      "cell_type": "code",
      "metadata": {
        "id": "jFbyDlMU738M",
        "outputId": "029f5e31-2e09-4fe6-ee63-2b86413f0a29",
        "colab": {
          "base_uri": "https://localhost:8080/"
        }
      },
      "source": [
        "a"
      ],
      "execution_count": 17,
      "outputs": [
        {
          "output_type": "execute_result",
          "data": {
            "text/plain": [
              "[[1, 2, 3], [4, 5, 6], [7, 8, 9]]"
            ]
          },
          "metadata": {
            "tags": []
          },
          "execution_count": 17
        }
      ]
    },
    {
      "cell_type": "code",
      "metadata": {
        "id": "C2kzIJe875Hk"
      },
      "source": [
        "a=np.array(a)"
      ],
      "execution_count": 18,
      "outputs": []
    },
    {
      "cell_type": "code",
      "metadata": {
        "id": "MdQeaeBX79el",
        "outputId": "f69d2803-fe0d-459e-8838-01d11b747158",
        "colab": {
          "base_uri": "https://localhost:8080/"
        }
      },
      "source": [
        "a"
      ],
      "execution_count": 19,
      "outputs": [
        {
          "output_type": "execute_result",
          "data": {
            "text/plain": [
              "array([[1, 2, 3],\n",
              "       [4, 5, 6],\n",
              "       [7, 8, 9]])"
            ]
          },
          "metadata": {
            "tags": []
          },
          "execution_count": 19
        }
      ]
    },
    {
      "cell_type": "code",
      "metadata": {
        "id": "fVWFCUjE7-h9",
        "outputId": "c9cad876-adf6-4016-b4e8-28e5291638a4",
        "colab": {
          "base_uri": "https://localhost:8080/"
        }
      },
      "source": [
        "a[0][1]"
      ],
      "execution_count": 20,
      "outputs": [
        {
          "output_type": "execute_result",
          "data": {
            "text/plain": [
              "2"
            ]
          },
          "metadata": {
            "tags": []
          },
          "execution_count": 20
        }
      ]
    },
    {
      "cell_type": "code",
      "metadata": {
        "id": "gtjgBTUw8B2M",
        "outputId": "ccad3841-57c1-4118-e41c-548033451edc",
        "colab": {
          "base_uri": "https://localhost:8080/"
        }
      },
      "source": [
        "b=np.array([[1,2,3],\r\n",
        "   [4,5,6],\r\n",
        "   [7,8,9]])\r\n",
        "b"
      ],
      "execution_count": 21,
      "outputs": [
        {
          "output_type": "execute_result",
          "data": {
            "text/plain": [
              "array([[1, 2, 3],\n",
              "       [4, 5, 6],\n",
              "       [7, 8, 9]])"
            ]
          },
          "metadata": {
            "tags": []
          },
          "execution_count": 21
        }
      ]
    },
    {
      "cell_type": "code",
      "metadata": {
        "id": "MPYFcNFi8NmU",
        "outputId": "e9116d67-08da-4b86-f228-7c830f945c17",
        "colab": {
          "base_uri": "https://localhost:8080/"
        }
      },
      "source": [
        "#Create a 3x3 array of random integers in the interval [0,10]\r\n",
        "np.random.randint(0,10,(3,3))"
      ],
      "execution_count": 22,
      "outputs": [
        {
          "output_type": "execute_result",
          "data": {
            "text/plain": [
              "array([[2, 3, 3],\n",
              "       [5, 5, 6],\n",
              "       [9, 2, 9]])"
            ]
          },
          "metadata": {
            "tags": []
          },
          "execution_count": 22
        }
      ]
    },
    {
      "cell_type": "code",
      "metadata": {
        "id": "15EvTotB8b0d",
        "outputId": "e8e4e70b-8883-4669-9e88-1fe6e5440195",
        "colab": {
          "base_uri": "https://localhost:8080/"
        }
      },
      "source": [
        "#Create another matrix\r\n",
        "np.random.randint(1,1000,(5,5))"
      ],
      "execution_count": 23,
      "outputs": [
        {
          "output_type": "execute_result",
          "data": {
            "text/plain": [
              "array([[ 23, 493, 181, 154, 994],\n",
              "       [ 92, 782, 445, 340, 223],\n",
              "       [759, 432, 996, 152,  17],\n",
              "       [368, 771, 161, 271, 969],\n",
              "       [141, 496, 423, 941, 908]])"
            ]
          },
          "metadata": {
            "tags": []
          },
          "execution_count": 23
        }
      ]
    },
    {
      "cell_type": "markdown",
      "metadata": {
        "id": "Xu3AhL7u8zVE"
      },
      "source": [
        "We got a different matrix when we generated another random matrix: We can get the same matrix again by fixinf the seed."
      ]
    },
    {
      "cell_type": "code",
      "metadata": {
        "id": "uMkf_VNu8_FG",
        "outputId": "3f1633db-e85b-4f1f-e1e6-4906368f6350",
        "colab": {
          "base_uri": "https://localhost:8080/"
        }
      },
      "source": [
        "#Fixing the random seed\r\n",
        "np.random.seed(1)\r\n",
        "np.random.randint(0,20,(3,3))"
      ],
      "execution_count": 26,
      "outputs": [
        {
          "output_type": "execute_result",
          "data": {
            "text/plain": [
              "array([[ 5, 11, 12],\n",
              "       [ 8,  9, 11],\n",
              "       [ 5, 15,  0]])"
            ]
          },
          "metadata": {
            "tags": []
          },
          "execution_count": 26
        }
      ]
    },
    {
      "cell_type": "code",
      "metadata": {
        "id": "PaXKAFUT9Qr0",
        "outputId": "2cff26bf-31ed-4276-cf3a-f826855577e5",
        "colab": {
          "base_uri": "https://localhost:8080/"
        }
      },
      "source": [
        "np.random.seed(1)\r\n",
        "np.random.randint(0,20,(3,3))"
      ],
      "execution_count": 27,
      "outputs": [
        {
          "output_type": "execute_result",
          "data": {
            "text/plain": [
              "array([[ 5, 11, 12],\n",
              "       [ 8,  9, 11],\n",
              "       [ 5, 15,  0]])"
            ]
          },
          "metadata": {
            "tags": []
          },
          "execution_count": 27
        }
      ]
    },
    {
      "cell_type": "markdown",
      "metadata": {
        "id": "_UZvPEMg9Xcn"
      },
      "source": [
        "Creae a matrix of Zeros of specific dimension "
      ]
    },
    {
      "cell_type": "code",
      "metadata": {
        "id": "5APioFq29b7b",
        "outputId": "0b43395a-e740-4abb-e680-f5449b2a1dd3",
        "colab": {
          "base_uri": "https://localhost:8080/"
        }
      },
      "source": [
        "# createa 2x10 integer array filled with zerops\r\n",
        "np.zeros((2,10),dtype=int)"
      ],
      "execution_count": 30,
      "outputs": [
        {
          "output_type": "execute_result",
          "data": {
            "text/plain": [
              "array([[0, 0, 0, 0, 0, 0, 0, 0, 0, 0],\n",
              "       [0, 0, 0, 0, 0, 0, 0, 0, 0, 0]])"
            ]
          },
          "metadata": {
            "tags": []
          },
          "execution_count": 30
        }
      ]
    },
    {
      "cell_type": "code",
      "metadata": {
        "id": "YRTlAlZt9WE1",
        "outputId": "3feed788-ad54-478a-f926-b5e29a0ac1d4",
        "colab": {
          "base_uri": "https://localhost:8080/"
        }
      },
      "source": [
        "# createa 4x5 integer array filled with zerops\r\n",
        "np.zeros((4,5),dtype=int)"
      ],
      "execution_count": 29,
      "outputs": [
        {
          "output_type": "execute_result",
          "data": {
            "text/plain": [
              "array([[0, 0, 0, 0, 0],\n",
              "       [0, 0, 0, 0, 0],\n",
              "       [0, 0, 0, 0, 0],\n",
              "       [0, 0, 0, 0, 0]])"
            ]
          },
          "metadata": {
            "tags": []
          },
          "execution_count": 29
        }
      ]
    },
    {
      "cell_type": "code",
      "metadata": {
        "id": "7JnP9yDt8u8T",
        "outputId": "afa4de09-aaa8-4219-84e0-b58f9049a30b",
        "colab": {
          "base_uri": "https://localhost:8080/"
        }
      },
      "source": [
        "#Create a 2x10 matrix of Ones of specific dimension\r\n",
        "np.ones((2,3),dtype=int)"
      ],
      "execution_count": 32,
      "outputs": [
        {
          "output_type": "execute_result",
          "data": {
            "text/plain": [
              "array([[1, 1, 1],\n",
              "       [1, 1, 1]])"
            ]
          },
          "metadata": {
            "tags": []
          },
          "execution_count": 32
        }
      ]
    },
    {
      "cell_type": "code",
      "metadata": {
        "id": "WC07jYer-AN-",
        "outputId": "b581397d-8782-4854-f51f-336b16688340",
        "colab": {
          "base_uri": "https://localhost:8080/"
        }
      },
      "source": [
        "np.ones((2,6),dtype=int)"
      ],
      "execution_count": 34,
      "outputs": [
        {
          "output_type": "execute_result",
          "data": {
            "text/plain": [
              "array([[1, 1, 1, 1, 1, 1],\n",
              "       [1, 1, 1, 1, 1, 1]])"
            ]
          },
          "metadata": {
            "tags": []
          },
          "execution_count": 34
        }
      ]
    },
    {
      "cell_type": "code",
      "metadata": {
        "id": "0lnGUQRm-E7E",
        "outputId": "609a4957-a038-4e5f-be95-6f1b9dcc1968",
        "colab": {
          "base_uri": "https://localhost:8080/"
        }
      },
      "source": [
        "## Creating a Identity matrix\r\n",
        "np.identity(5,dtype=int)"
      ],
      "execution_count": 35,
      "outputs": [
        {
          "output_type": "execute_result",
          "data": {
            "text/plain": [
              "array([[1, 0, 0, 0, 0],\n",
              "       [0, 1, 0, 0, 0],\n",
              "       [0, 0, 1, 0, 0],\n",
              "       [0, 0, 0, 1, 0],\n",
              "       [0, 0, 0, 0, 1]])"
            ]
          },
          "metadata": {
            "tags": []
          },
          "execution_count": 35
        }
      ]
    },
    {
      "cell_type": "code",
      "metadata": {
        "id": "TW-4-u3i-SXM",
        "outputId": "af024534-a42f-486f-a337-79f1bfa37e19",
        "colab": {
          "base_uri": "https://localhost:8080/"
        }
      },
      "source": [
        "np.identity(2,dtype=int)"
      ],
      "execution_count": 36,
      "outputs": [
        {
          "output_type": "execute_result",
          "data": {
            "text/plain": [
              "array([[1, 0],\n",
              "       [0, 1]])"
            ]
          },
          "metadata": {
            "tags": []
          },
          "execution_count": 36
        }
      ]
    },
    {
      "cell_type": "markdown",
      "metadata": {
        "id": "kupQXxxe-ZQO"
      },
      "source": [
        "Create a matrix of filled with any specific number of specific dimension"
      ]
    },
    {
      "cell_type": "code",
      "metadata": {
        "id": "3-0a-p8y-hSM",
        "outputId": "20d3d0ff-05ef-4ec9-932c-00572d814942",
        "colab": {
          "base_uri": "https://localhost:8080/"
        }
      },
      "source": [
        "#Create a 3x5 array filled with 3.14\r\n",
        "np.full((3,5),3.22)"
      ],
      "execution_count": 37,
      "outputs": [
        {
          "output_type": "execute_result",
          "data": {
            "text/plain": [
              "array([[3.22, 3.22, 3.22, 3.22, 3.22],\n",
              "       [3.22, 3.22, 3.22, 3.22, 3.22],\n",
              "       [3.22, 3.22, 3.22, 3.22, 3.22]])"
            ]
          },
          "metadata": {
            "tags": []
          },
          "execution_count": 37
        }
      ]
    },
    {
      "cell_type": "code",
      "metadata": {
        "id": "R8-exuDp8lAF",
        "outputId": "33211d8a-611f-4075-c37b-3fc877fd4813",
        "colab": {
          "base_uri": "https://localhost:8080/"
        }
      },
      "source": [
        "np.full((3,5),3)"
      ],
      "execution_count": 38,
      "outputs": [
        {
          "output_type": "execute_result",
          "data": {
            "text/plain": [
              "array([[3, 3, 3, 3, 3],\n",
              "       [3, 3, 3, 3, 3],\n",
              "       [3, 3, 3, 3, 3]])"
            ]
          },
          "metadata": {
            "tags": []
          },
          "execution_count": 38
        }
      ]
    },
    {
      "cell_type": "code",
      "metadata": {
        "id": "o8NH8FHL7-5U",
        "outputId": "4d343c7f-c73f-4032-8b30-6f1cd48f8127",
        "colab": {
          "base_uri": "https://localhost:8080/"
        }
      },
      "source": [
        "## Create a 2x4 array filled with 7\r\n",
        "np.full((2,4),7)"
      ],
      "execution_count": 39,
      "outputs": [
        {
          "output_type": "execute_result",
          "data": {
            "text/plain": [
              "array([[7, 7, 7, 7],\n",
              "       [7, 7, 7, 7]])"
            ]
          },
          "metadata": {
            "tags": []
          },
          "execution_count": 39
        }
      ]
    },
    {
      "cell_type": "markdown",
      "metadata": {
        "id": "Nn9H-7lu-15s"
      },
      "source": [
        "Array Concatenation"
      ]
    },
    {
      "cell_type": "code",
      "metadata": {
        "id": "wHMnYJKT7-7v",
        "outputId": "1ed9394f-78a3-41cf-9d16-2df131df6d5b",
        "colab": {
          "base_uri": "https://localhost:8080/"
        }
      },
      "source": [
        "#Convatenating 2-D array\r\n",
        "matrix1=np.array([[1,2,3],\r\n",
        "                  [4,5,6]])\r\n",
        "print(matrix1)"
      ],
      "execution_count": 41,
      "outputs": [
        {
          "output_type": "stream",
          "text": [
            "[[1 2 3]\n",
            " [4 5 6]]\n"
          ],
          "name": "stdout"
        }
      ]
    },
    {
      "cell_type": "code",
      "metadata": {
        "id": "-cOWB3Hg_HSL",
        "outputId": "a8d8d413-e59c-4c11-a1ce-00be16a406ec",
        "colab": {
          "base_uri": "https://localhost:8080/"
        }
      },
      "source": [
        "matrix2=np.array([[7,8,9],\r\n",
        "                  [10,11,12]])\r\n",
        "print(matrix2)\r\n",
        "matrix2"
      ],
      "execution_count": 45,
      "outputs": [
        {
          "output_type": "stream",
          "text": [
            "[[ 7  8  9]\n",
            " [10 11 12]]\n"
          ],
          "name": "stdout"
        },
        {
          "output_type": "execute_result",
          "data": {
            "text/plain": [
              "array([[ 7,  8,  9],\n",
              "       [10, 11, 12]])"
            ]
          },
          "metadata": {
            "tags": []
          },
          "execution_count": 45
        }
      ]
    },
    {
      "cell_type": "markdown",
      "metadata": {
        "id": "KzKXxqRQ_m-s"
      },
      "source": [
        "Concatenate Row rise"
      ]
    },
    {
      "cell_type": "code",
      "metadata": {
        "id": "u3SXiyuI_o5T",
        "outputId": "0d49003f-e51d-40c6-8d08-3584574f5e98",
        "colab": {
          "base_uri": "https://localhost:8080/"
        }
      },
      "source": [
        "# Concatenate along the first axis\r\n",
        "matrix_1_2_combineRowwise=np.concatenate([matrix1,matrix2],axis=0)\r\n",
        "print('Combined on row (axis=0)')\r\n",
        "matrix_1_2_combineRowwise"
      ],
      "execution_count": 46,
      "outputs": [
        {
          "output_type": "stream",
          "text": [
            "Combined on row (axis=0)\n"
          ],
          "name": "stdout"
        },
        {
          "output_type": "execute_result",
          "data": {
            "text/plain": [
              "array([[ 1,  2,  3],\n",
              "       [ 4,  5,  6],\n",
              "       [ 7,  8,  9],\n",
              "       [10, 11, 12]])"
            ]
          },
          "metadata": {
            "tags": []
          },
          "execution_count": 46
        }
      ]
    },
    {
      "cell_type": "markdown",
      "metadata": {
        "id": "Q-2g_ZE6ALIO"
      },
      "source": [
        "Concatenate Column wise"
      ]
    },
    {
      "cell_type": "code",
      "metadata": {
        "id": "IwUc9C8FARBu",
        "outputId": "f07bb05e-9c1e-4757-dba2-d9e0d2e418fd",
        "colab": {
          "base_uri": "https://localhost:8080/"
        }
      },
      "source": [
        "matrix_1_2_combineColwise=np.concatenate([matrix1,matrix2],axis=1)\r\n",
        "print('Combined on Col (axis=1)')\r\n",
        "matrix_1_2_combineColwise"
      ],
      "execution_count": 47,
      "outputs": [
        {
          "output_type": "stream",
          "text": [
            "Combined on Col (axis=1)\n"
          ],
          "name": "stdout"
        },
        {
          "output_type": "execute_result",
          "data": {
            "text/plain": [
              "array([[ 1,  2,  3,  7,  8,  9],\n",
              "       [ 4,  5,  6, 10, 11, 12]])"
            ]
          },
          "metadata": {
            "tags": []
          },
          "execution_count": 47
        }
      ]
    },
    {
      "cell_type": "code",
      "metadata": {
        "id": "xuiW_kKn_jLM"
      },
      "source": [
        ""
      ],
      "execution_count": null,
      "outputs": []
    },
    {
      "cell_type": "code",
      "metadata": {
        "id": "6bXBV2d67--r"
      },
      "source": [
        ""
      ],
      "execution_count": null,
      "outputs": []
    }
  ]
}