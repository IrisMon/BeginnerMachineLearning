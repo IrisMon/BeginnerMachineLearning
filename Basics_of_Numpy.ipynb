{
  "nbformat": 4,
  "nbformat_minor": 0,
  "metadata": {
    "colab": {
      "name": "Basics of Numpy.ipynb",
      "provenance": [],
      "authorship_tag": "ABX9TyNWgytDdo0SUp79vrOdno5Z",
      "include_colab_link": true
    },
    "kernelspec": {
      "name": "python3",
      "display_name": "Python 3"
    }
  },
  "cells": [
    {
      "cell_type": "markdown",
      "metadata": {
        "id": "view-in-github",
        "colab_type": "text"
      },
      "source": [
        "<a href=\"https://colab.research.google.com/github/IrisMon/BeginnerMachineLearning/blob/main/Basics_of_Numpy.ipynb\" target=\"_parent\"><img src=\"https://colab.research.google.com/assets/colab-badge.svg\" alt=\"Open In Colab\"/></a>"
      ]
    },
    {
      "cell_type": "markdown",
      "metadata": {
        "id": "6SvPjefCMzbi"
      },
      "source": [
        "**Basics of Numpy**\r\n",
        "\r\n",
        "```\r\n",
        "Numpy is the fundamental package for scientific computing with Python. It contains among  other things:\r\n",
        "\r\n",
        "* A powerful N-dimensional array object\r\n",
        "* Sophisticated (broadcasting) functions\r\n",
        "* Tools for integrating C/C++ and Fortran code\r\n",
        "* Useful linear algebra , Fourier transform , and random number capabilities\r\n",
        "```\r\n",
        "\r\n"
      ]
    },
    {
      "cell_type": "code",
      "metadata": {
        "id": "y3XMZBA1NfYz"
      },
      "source": [
        "## Importing the numpy library \r\n",
        "import numpy as np"
      ],
      "execution_count": 1,
      "outputs": []
    },
    {
      "cell_type": "code",
      "metadata": {
        "id": "cXiXJN68Nm-C"
      },
      "source": [
        ""
      ],
      "execution_count": null,
      "outputs": []
    },
    {
      "cell_type": "code",
      "metadata": {
        "id": "VrsBLIUMM5H6"
      },
      "source": [
        ""
      ],
      "execution_count": null,
      "outputs": []
    }
  ]
}