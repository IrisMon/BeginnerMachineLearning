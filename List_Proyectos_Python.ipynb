{
  "nbformat": 4,
  "nbformat_minor": 0,
  "metadata": {
    "colab": {
      "name": "List - Proyectos_Python.ipynb",
      "provenance": [],
      "authorship_tag": "ABX9TyNiiXya7uafbzjilx1TfuBK",
      "include_colab_link": true
    },
    "kernelspec": {
      "name": "python3",
      "display_name": "Python 3"
    }
  },
  "cells": [
    {
      "cell_type": "markdown",
      "metadata": {
        "id": "view-in-github",
        "colab_type": "text"
      },
      "source": [
        "<a href=\"https://colab.research.google.com/github/IrisMon/BeginnerMachineLearning/blob/main/List_Proyectos_Python.ipynb\" target=\"_parent\"><img src=\"https://colab.research.google.com/assets/colab-badge.svg\" alt=\"Open In Colab\"/></a>"
      ]
    },
    {
      "cell_type": "markdown",
      "metadata": {
        "id": "uK4eHijKwFkr"
      },
      "source": [
        "**Problem Statement**\r\n"
      ]
    },
    {
      "cell_type": "code",
      "metadata": {
        "id": "mAJjY55gv0lV"
      },
      "source": [
        "student_marks = [['Name',  ['A','B','C','D','E']],\r\n",
        "                 ['Ankit',  [41, 34, 45, 55, 63]],\r\n",
        "                 ['Aravind',[42, 23, 34, 44, 53]],\r\n",
        "                 ['Lakshay',[32, 23, 13, 54, 67]],\r\n",
        "                 ['Gyan',   [23, 82, 23, 63, 34]],\r\n",
        "                 ['Pranav', [21, 23, 25, 56, 56]]\r\n",
        "                ]"
      ],
      "execution_count": null,
      "outputs": []
    },
    {
      "cell_type": "code",
      "metadata": {
        "colab": {
          "base_uri": "https://localhost:8080/"
        },
        "id": "6aOuvi6nvtOF",
        "outputId": "512907d7-65b9-492d-b782-b28857cd5bb1"
      },
      "source": [
        "student_marks[1][1][0]"
      ],
      "execution_count": null,
      "outputs": [
        {
          "output_type": "execute_result",
          "data": {
            "text/plain": [
              "41"
            ]
          },
          "metadata": {
            "tags": []
          },
          "execution_count": 8
        }
      ]
    },
    {
      "cell_type": "code",
      "metadata": {
        "colab": {
          "base_uri": "https://localhost:8080/"
        },
        "id": "DVgppklEx28b",
        "outputId": "c8d7979c-2e63-4235-f90f-75356da37eb7"
      },
      "source": [
        "student_marks[1:]"
      ],
      "execution_count": null,
      "outputs": [
        {
          "output_type": "execute_result",
          "data": {
            "text/plain": [
              "[['Ankit', [41, 34, 45, 55, 63]],\n",
              " ['Aravind', [42, 23, 34, 44, 53]],\n",
              " ['Lakshay', [32, 23, 13, 54, 67]],\n",
              " ['Gyan', [23, 82, 23, 63, 34]],\n",
              " ['Pranav', [21, 23, 25, 56, 56]]]"
            ]
          },
          "metadata": {
            "tags": []
          },
          "execution_count": 11
        }
      ]
    },
    {
      "cell_type": "code",
      "metadata": {
        "colab": {
          "base_uri": "https://localhost:8080/"
        },
        "id": "jw-OAlzux_lz",
        "outputId": "dc61aaea-e325-40b0-cfaf-14226a5f3a79"
      },
      "source": [
        "student_marks[1][1][1]"
      ],
      "execution_count": null,
      "outputs": [
        {
          "output_type": "execute_result",
          "data": {
            "text/plain": [
              "34"
            ]
          },
          "metadata": {
            "tags": []
          },
          "execution_count": 15
        }
      ]
    },
    {
      "cell_type": "markdown",
      "metadata": {
        "id": "u-ltH6IxxWUE"
      },
      "source": [
        "Quien tiene el mejor score en el tema B\r\n"
      ]
    },
    {
      "cell_type": "code",
      "metadata": {
        "colab": {
          "base_uri": "https://localhost:8080/"
        },
        "id": "XfuSeg2FxQ1y",
        "outputId": "6f6945d4-d8f5-42f9-f097-b7eaa3869337"
      },
      "source": [
        "## Primero extraeremos el nombre de cada estudiante y la nota que alcanzo en el topic B\r\n",
        "for student in student_marks[1:]:\r\n",
        "  name=student[0]\r\n",
        "  score_B=student[1][1]\r\n",
        "  print(name,score_B)"
      ],
      "execution_count": null,
      "outputs": [
        {
          "output_type": "stream",
          "text": [
            "Ankit 34\n",
            "Aravind 23\n",
            "Lakshay 23\n",
            "Gyan 82\n",
            "Pranav 23\n"
          ],
          "name": "stdout"
        }
      ]
    },
    {
      "cell_type": "code",
      "metadata": {
        "id": "FEpl0EQ3w0jc"
      },
      "source": [
        "student_with_marks_B=[]\r\n",
        "for student in student_marks[1:]:\r\n",
        "  name=student[0]\r\n",
        "  score_B=student[1][1]\r\n",
        "  student_with_marks_B.append([score_B,name])"
      ],
      "execution_count": null,
      "outputs": []
    },
    {
      "cell_type": "code",
      "metadata": {
        "colab": {
          "base_uri": "https://localhost:8080/"
        },
        "id": "dLS0F4q90-t8",
        "outputId": "b27f68d4-faf3-4572-88a7-cb943d5162b4"
      },
      "source": [
        "student_with_marks_B"
      ],
      "execution_count": null,
      "outputs": [
        {
          "output_type": "execute_result",
          "data": {
            "text/plain": [
              "[[34, 'Ankit'], [23, 'Aravind'], [23, 'Lakshay'], [82, 'Gyan'], [23, 'Pranav']]"
            ]
          },
          "metadata": {
            "tags": []
          },
          "execution_count": 18
        }
      ]
    },
    {
      "cell_type": "code",
      "metadata": {
        "colab": {
          "base_uri": "https://localhost:8080/"
        },
        "id": "gQW8obAE0_iL",
        "outputId": "3aeaaed9-b486-46ea-9a28-aae36d6876b6"
      },
      "source": [
        "sorted(student_with_marks_B,reverse=True)"
      ],
      "execution_count": null,
      "outputs": [
        {
          "output_type": "execute_result",
          "data": {
            "text/plain": [
              "[[82, 'Gyan'], [34, 'Ankit'], [23, 'Pranav'], [23, 'Lakshay'], [23, 'Aravind']]"
            ]
          },
          "metadata": {
            "tags": []
          },
          "execution_count": 23
        }
      ]
    },
    {
      "cell_type": "code",
      "metadata": {
        "colab": {
          "base_uri": "https://localhost:8080/",
          "height": 35
        },
        "id": "_usThdtv1UG0",
        "outputId": "1c24527a-30ce-4f54-a2e7-4be48e27dde1"
      },
      "source": [
        "sorted(student_with_marks_B)[-1][1]"
      ],
      "execution_count": null,
      "outputs": [
        {
          "output_type": "execute_result",
          "data": {
            "application/vnd.google.colaboratory.intrinsic+json": {
              "type": "string"
            },
            "text/plain": [
              "'Gyan'"
            ]
          },
          "metadata": {
            "tags": []
          },
          "execution_count": 22
        }
      ]
    },
    {
      "cell_type": "markdown",
      "metadata": {
        "id": "shZxiCe8159F"
      },
      "source": [
        "Data Structure Tuple"
      ]
    },
    {
      "cell_type": "code",
      "metadata": {
        "id": "-ul26_fq1_Vq"
      },
      "source": [
        "my_tuple=('A','B','C','D','E',1,'D','D')"
      ],
      "execution_count": null,
      "outputs": []
    },
    {
      "cell_type": "code",
      "metadata": {
        "colab": {
          "base_uri": "https://localhost:8080/",
          "height": 35
        },
        "id": "zo0K6kOr1_Zs",
        "outputId": "49ff6042-203d-4370-e4e1-6803abeaa1e3"
      },
      "source": [
        "my_tuple[-2]"
      ],
      "execution_count": null,
      "outputs": [
        {
          "output_type": "execute_result",
          "data": {
            "application/vnd.google.colaboratory.intrinsic+json": {
              "type": "string"
            },
            "text/plain": [
              "'E'"
            ]
          },
          "metadata": {
            "tags": []
          },
          "execution_count": 27
        }
      ]
    },
    {
      "cell_type": "code",
      "metadata": {
        "colab": {
          "base_uri": "https://localhost:8080/"
        },
        "id": "eoskAnaA1_c6",
        "outputId": "44ab0793-da25-425f-d906-fdaafdfc2c3d"
      },
      "source": [
        "my_tuple.index('E')"
      ],
      "execution_count": null,
      "outputs": [
        {
          "output_type": "execute_result",
          "data": {
            "text/plain": [
              "4"
            ]
          },
          "metadata": {
            "tags": []
          },
          "execution_count": 28
        }
      ]
    },
    {
      "cell_type": "code",
      "metadata": {
        "colab": {
          "base_uri": "https://localhost:8080/"
        },
        "id": "ARPL2uEu2XBq",
        "outputId": "e6dacb07-67ce-4a25-b4c4-ade66d34d9d7"
      },
      "source": [
        "### contar cuantos elementos igual a E hay en la tuple\r\n",
        "my_tuple.count('E')"
      ],
      "execution_count": null,
      "outputs": [
        {
          "output_type": "execute_result",
          "data": {
            "text/plain": [
              "1"
            ]
          },
          "metadata": {
            "tags": []
          },
          "execution_count": 29
        }
      ]
    },
    {
      "cell_type": "code",
      "metadata": {
        "colab": {
          "base_uri": "https://localhost:8080/"
        },
        "id": "vdkcb_qk2dEc",
        "outputId": "98d888e8-7e89-4e5a-b645-cdc8045be1fc"
      },
      "source": [
        "for element in my_tuple:\r\n",
        "  print(element)"
      ],
      "execution_count": null,
      "outputs": [
        {
          "output_type": "stream",
          "text": [
            "A\n",
            "B\n",
            "C\n",
            "D\n",
            "E\n",
            "1\n"
          ],
          "name": "stdout"
        }
      ]
    },
    {
      "cell_type": "code",
      "metadata": {
        "colab": {
          "base_uri": "https://localhost:8080/"
        },
        "id": "VIF_VhIR21D1",
        "outputId": "6a1bcc93-166b-4fc2-8c82-9e28528ebbad"
      },
      "source": [
        "my_tuple"
      ],
      "execution_count": null,
      "outputs": [
        {
          "output_type": "execute_result",
          "data": {
            "text/plain": [
              "('A', 'B', 'C', 'D', 'E', 1)"
            ]
          },
          "metadata": {
            "tags": []
          },
          "execution_count": 35
        }
      ]
    },
    {
      "cell_type": "code",
      "metadata": {
        "colab": {
          "base_uri": "https://localhost:8080/"
        },
        "id": "N-umZSW_2qwD",
        "outputId": "270dda13-43c3-4cde-d751-5bbb1f850ff2"
      },
      "source": [
        "## Extraer los elementos de la posicion 3 a la 8\r\n",
        "my_tuple[3:8]"
      ],
      "execution_count": null,
      "outputs": [
        {
          "output_type": "execute_result",
          "data": {
            "text/plain": [
              "('D', 'E', 1, 'D', 'D')"
            ]
          },
          "metadata": {
            "tags": []
          },
          "execution_count": 39
        }
      ]
    },
    {
      "cell_type": "code",
      "metadata": {
        "colab": {
          "base_uri": "https://localhost:8080/"
        },
        "id": "S3EFXE9O2mRb",
        "outputId": "58f84689-7d59-4c32-c05e-67ee8b416d2b"
      },
      "source": [
        "### Contar cuantos elementos tengo en la lista\r\n",
        "my_tuple[3:8].count('D')"
      ],
      "execution_count": null,
      "outputs": [
        {
          "output_type": "execute_result",
          "data": {
            "text/plain": [
              "3"
            ]
          },
          "metadata": {
            "tags": []
          },
          "execution_count": 40
        }
      ]
    },
    {
      "cell_type": "code",
      "metadata": {
        "colab": {
          "base_uri": "https://localhost:8080/"
        },
        "id": "hhwcofns2iqm",
        "outputId": "ecca3c82-17ce-4ace-dcac-e7e2d8568b77"
      },
      "source": [
        "my_tuple[1:2].count('B')"
      ],
      "execution_count": null,
      "outputs": [
        {
          "output_type": "execute_result",
          "data": {
            "text/plain": [
              "1"
            ]
          },
          "metadata": {
            "tags": []
          },
          "execution_count": 41
        }
      ]
    },
    {
      "cell_type": "code",
      "metadata": {
        "colab": {
          "base_uri": "https://localhost:8080/"
        },
        "id": "_uY_0GO33am0",
        "outputId": "f7864181-bb37-4bbe-ee75-ff2800d80f39"
      },
      "source": [
        "my_tuple[3:5]"
      ],
      "execution_count": null,
      "outputs": [
        {
          "output_type": "execute_result",
          "data": {
            "text/plain": [
              "('D', 'E')"
            ]
          },
          "metadata": {
            "tags": []
          },
          "execution_count": 44
        }
      ]
    },
    {
      "cell_type": "code",
      "metadata": {
        "colab": {
          "base_uri": "https://localhost:8080/"
        },
        "id": "sD53CV1Y3e97",
        "outputId": "5209f8d0-5484-49c8-876d-938987806896"
      },
      "source": [
        "my_tuple[3:5].index('E')"
      ],
      "execution_count": null,
      "outputs": [
        {
          "output_type": "execute_result",
          "data": {
            "text/plain": [
              "1"
            ]
          },
          "metadata": {
            "tags": []
          },
          "execution_count": 47
        }
      ]
    },
    {
      "cell_type": "code",
      "metadata": {
        "colab": {
          "base_uri": "https://localhost:8080/",
          "height": 131
        },
        "id": "HPfVVWYM3xnD",
        "outputId": "e511d6e1-0b72-4e1f-85a0-b81b7256ecf3"
      },
      "source": [
        "### No se puede añadir tampóco eliminar ningun valor\r\n",
        "my_tuple[2])='D'"
      ],
      "execution_count": null,
      "outputs": [
        {
          "output_type": "error",
          "ename": "SyntaxError",
          "evalue": "ignored",
          "traceback": [
            "\u001b[0;36m  File \u001b[0;32m\"<ipython-input-49-f7335d613147>\"\u001b[0;36m, line \u001b[0;32m2\u001b[0m\n\u001b[0;31m    my_tuple[2])='D'\u001b[0m\n\u001b[0m               ^\u001b[0m\n\u001b[0;31mSyntaxError\u001b[0m\u001b[0;31m:\u001b[0m invalid syntax\n"
          ]
        }
      ]
    },
    {
      "cell_type": "code",
      "metadata": {
        "id": "dERUC4i94V_i"
      },
      "source": [
        "tuple1=((1,2,3,1),\r\n",
        "        (1,1,1,2),\r\n",
        "        (2,1,2,1),\r\n",
        "        (1,2,1,1))"
      ],
      "execution_count": null,
      "outputs": []
    },
    {
      "cell_type": "code",
      "metadata": {
        "colab": {
          "base_uri": "https://localhost:8080/"
        },
        "id": "JSLUirfN4joT",
        "outputId": "7da0cd54-0e62-4457-f1bf-76c868e3c6e2"
      },
      "source": [
        "tuple1[1][1:3]"
      ],
      "execution_count": null,
      "outputs": [
        {
          "output_type": "execute_result",
          "data": {
            "text/plain": [
              "(1, 1)"
            ]
          },
          "metadata": {
            "tags": []
          },
          "execution_count": 52
        }
      ]
    },
    {
      "cell_type": "code",
      "metadata": {
        "id": "t43lbOOF4pzj"
      },
      "source": [
        "a=(1,2,3,4,5,4)"
      ],
      "execution_count": null,
      "outputs": []
    },
    {
      "cell_type": "code",
      "metadata": {
        "colab": {
          "base_uri": "https://localhost:8080/"
        },
        "id": "z2ovTgWv4r9L",
        "outputId": "15cc1d5b-8514-47d8-e056-8031c57ad953"
      },
      "source": [
        "a[3:5]"
      ],
      "execution_count": null,
      "outputs": [
        {
          "output_type": "execute_result",
          "data": {
            "text/plain": [
              "(4, 5)"
            ]
          },
          "metadata": {
            "tags": []
          },
          "execution_count": 58
        }
      ]
    },
    {
      "cell_type": "markdown",
      "metadata": {
        "id": "PF_HpVB1956T"
      },
      "source": [
        "Data structure Set\r\n"
      ]
    },
    {
      "cell_type": "code",
      "metadata": {
        "id": "Ma_KmO-s992L"
      },
      "source": [
        "my_set={'A','B','C','D',1,'E',2,4}"
      ],
      "execution_count": null,
      "outputs": []
    },
    {
      "cell_type": "code",
      "metadata": {
        "colab": {
          "base_uri": "https://localhost:8080/"
        },
        "id": "BEVZsgsf-LjL",
        "outputId": "2b5a9f50-5bf2-4c13-d8b3-558e6421e04d"
      },
      "source": [
        "##Automaticamente ordena la lista\r\n",
        "my_set"
      ],
      "execution_count": null,
      "outputs": [
        {
          "output_type": "execute_result",
          "data": {
            "text/plain": [
              "{1, 2, 4, 'A', 'B', 'C', 'D', 'E'}"
            ]
          },
          "metadata": {
            "tags": []
          },
          "execution_count": 62
        }
      ]
    },
    {
      "cell_type": "code",
      "metadata": {
        "id": "guP_E_x6-QG7"
      },
      "source": [
        "my_set={'A','B','C','D',1,'E',2,4,4,4}"
      ],
      "execution_count": null,
      "outputs": []
    },
    {
      "cell_type": "code",
      "metadata": {
        "colab": {
          "base_uri": "https://localhost:8080/"
        },
        "id": "RlxcqN_--aYB",
        "outputId": "116132b3-2226-442f-e8c8-32d7fbec73f5"
      },
      "source": [
        "my_set## How we can see delete duplicate "
      ],
      "execution_count": null,
      "outputs": [
        {
          "output_type": "execute_result",
          "data": {
            "text/plain": [
              "{1, 2, 4, 'A', 'B', 'C', 'D', 'E'}"
            ]
          },
          "metadata": {
            "tags": []
          },
          "execution_count": 65
        }
      ]
    },
    {
      "cell_type": "code",
      "metadata": {
        "id": "wFIqb6u5-d4y"
      },
      "source": [
        "my_list=['A','B',1,2,'B','A']"
      ],
      "execution_count": null,
      "outputs": []
    },
    {
      "cell_type": "code",
      "metadata": {
        "id": "4oJwdtTc-nFh"
      },
      "source": [
        "##Convertimos una lista a set \r\n",
        "my_set_from_list=set(my_list)"
      ],
      "execution_count": null,
      "outputs": []
    },
    {
      "cell_type": "code",
      "metadata": {
        "colab": {
          "base_uri": "https://localhost:8080/"
        },
        "id": "8LM5dFeZ-wub",
        "outputId": "15c7a617-0dfc-4d20-9520-f13736e3e44e"
      },
      "source": [
        "my_set_from_list"
      ],
      "execution_count": null,
      "outputs": [
        {
          "output_type": "execute_result",
          "data": {
            "text/plain": [
              "{1, 2, 'A', 'B'}"
            ]
          },
          "metadata": {
            "tags": []
          },
          "execution_count": 68
        }
      ]
    },
    {
      "cell_type": "code",
      "metadata": {
        "id": "HnSeDk9U-ytR"
      },
      "source": [
        "my_tuple=('A','B','B',1,2,'A')"
      ],
      "execution_count": null,
      "outputs": []
    },
    {
      "cell_type": "code",
      "metadata": {
        "id": "2QhDV170-6zm"
      },
      "source": [
        "my_set_from_tuple=set(my_tuple)"
      ],
      "execution_count": null,
      "outputs": []
    },
    {
      "cell_type": "code",
      "metadata": {
        "colab": {
          "base_uri": "https://localhost:8080/"
        },
        "id": "Zb8CYBoy_E_6",
        "outputId": "9473adcf-fe25-439f-d2b6-fb5d7a453cc0"
      },
      "source": [
        "my_set_from_tuple"
      ],
      "execution_count": null,
      "outputs": [
        {
          "output_type": "execute_result",
          "data": {
            "text/plain": [
              "{1, 2, '4', 'A', 'B'}"
            ]
          },
          "metadata": {
            "tags": []
          },
          "execution_count": 76
        }
      ]
    },
    {
      "cell_type": "code",
      "metadata": {
        "id": "cX9vHH_L_PLp"
      },
      "source": [
        "### Agregamos elemento\r\n",
        "my_set_from_tuple.add('4')"
      ],
      "execution_count": null,
      "outputs": []
    },
    {
      "cell_type": "code",
      "metadata": {
        "colab": {
          "base_uri": "https://localhost:8080/"
        },
        "id": "559tyMS2_POU",
        "outputId": "d3ac900b-1d38-4bc6-a866-24b7242ba0cb"
      },
      "source": [
        "###Delete\r\n",
        "my_set"
      ],
      "execution_count": null,
      "outputs": [
        {
          "output_type": "execute_result",
          "data": {
            "text/plain": [
              "{1, 2, 4, 'B', 'C', 'D'}"
            ]
          },
          "metadata": {
            "tags": []
          },
          "execution_count": 86
        }
      ]
    },
    {
      "cell_type": "code",
      "metadata": {
        "id": "7Dl6csjd_PQm"
      },
      "source": [
        "my_set.discard('A')"
      ],
      "execution_count": null,
      "outputs": []
    },
    {
      "cell_type": "code",
      "metadata": {
        "id": "Au22v1mX_1cb"
      },
      "source": [
        "\r\n",
        "my_set.discard('f')"
      ],
      "execution_count": null,
      "outputs": []
    },
    {
      "cell_type": "code",
      "metadata": {
        "id": "ePnvGLwcAAxV"
      },
      "source": [
        ""
      ],
      "execution_count": null,
      "outputs": []
    },
    {
      "cell_type": "code",
      "metadata": {
        "id": "CSvMUrw4AAzp"
      },
      "source": [
        ""
      ],
      "execution_count": null,
      "outputs": []
    },
    {
      "cell_type": "code",
      "metadata": {
        "id": "-yjuBGBxAA2U"
      },
      "source": [
        ""
      ],
      "execution_count": null,
      "outputs": []
    }
  ]
}