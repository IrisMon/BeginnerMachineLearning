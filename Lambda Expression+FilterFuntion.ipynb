{
  "nbformat": 4,
  "nbformat_minor": 0,
  "metadata": {
    "colab": {
      "name": "Untitled1.ipynb",
      "provenance": [],
      "authorship_tag": "ABX9TyN8jzpv1HBJ/u3YRESC+1Pu",
      "include_colab_link": true
    },
    "kernelspec": {
      "name": "python3",
      "display_name": "Python 3"
    }
  },
  "cells": [
    {
      "cell_type": "markdown",
      "metadata": {
        "id": "view-in-github",
        "colab_type": "text"
      },
      "source": [
        "<a href=\"https://colab.research.google.com/github/IrisMon/BeginnerMachineLearning/blob/main/Lambda%20Expression%2BFilterFuntion.ipynb\" target=\"_parent\"><img src=\"https://colab.research.google.com/assets/colab-badge.svg\" alt=\"Open In Colab\"/></a>"
      ]
    },
    {
      "cell_type": "code",
      "metadata": {
        "id": "QzlT5uRGA0gQ"
      },
      "source": [
        "def odd(a):\r\n",
        "  if a%2==0:\r\n",
        "    print('Not odd')\r\n",
        "  else:\r\n",
        "    print(\"odd\")"
      ],
      "execution_count": null,
      "outputs": []
    },
    {
      "cell_type": "code",
      "metadata": {
        "colab": {
          "base_uri": "https://localhost:8080/"
        },
        "id": "qtecz8hIBmn7",
        "outputId": "55e7fd55-038a-4282-d3b0-5843dd2bb640"
      },
      "source": [
        "odd(9)"
      ],
      "execution_count": null,
      "outputs": [
        {
          "output_type": "stream",
          "text": [
            "odd\n"
          ],
          "name": "stdout"
        }
      ]
    },
    {
      "cell_type": "code",
      "metadata": {
        "id": "vacQ7mpBBgo1"
      },
      "source": [
        "def add_20(a):\r\n",
        "  return(a+20)"
      ],
      "execution_count": null,
      "outputs": []
    },
    {
      "cell_type": "code",
      "metadata": {
        "colab": {
          "base_uri": "https://localhost:8080/"
        },
        "id": "hfETq_ywGILS",
        "outputId": "24681d69-9334-46cb-9134-ce0136494260"
      },
      "source": [
        "add_20(5)"
      ],
      "execution_count": null,
      "outputs": [
        {
          "output_type": "execute_result",
          "data": {
            "text/plain": [
              "25"
            ]
          },
          "metadata": {
            "tags": []
          },
          "execution_count": 10
        }
      ]
    },
    {
      "cell_type": "code",
      "metadata": {
        "id": "ONfbSHcGHBvn"
      },
      "source": [
        "x= lambda a : a+20"
      ],
      "execution_count": null,
      "outputs": []
    },
    {
      "cell_type": "code",
      "metadata": {
        "colab": {
          "base_uri": "https://localhost:8080/"
        },
        "id": "bDR6HEMKHHlI",
        "outputId": "32909559-4099-4f51-b269-325fe5a89ee7"
      },
      "source": [
        "x(5)"
      ],
      "execution_count": null,
      "outputs": [
        {
          "output_type": "execute_result",
          "data": {
            "text/plain": [
              "10"
            ]
          },
          "metadata": {
            "tags": []
          },
          "execution_count": 16
        }
      ]
    },
    {
      "cell_type": "code",
      "metadata": {
        "colab": {
          "base_uri": "https://localhost:8080/"
        },
        "id": "52o93Pa20ISv",
        "outputId": "24856a8a-419b-4ec0-a71a-98b7f64e0e3b"
      },
      "source": [
        "lambda_add= lambda a,b : a+b\r\n",
        "print('The value of 5 +3 = ',lambda_add(5,3))"
      ],
      "execution_count": 1,
      "outputs": [
        {
          "output_type": "stream",
          "text": [
            "The value of 5 +3 =  8\n"
          ],
          "name": "stdout"
        }
      ]
    },
    {
      "cell_type": "code",
      "metadata": {
        "colab": {
          "base_uri": "https://localhost:8080/"
        },
        "id": "TjW7V9jT0rln",
        "outputId": "d1d3f063-f190-4827-d6b1-4c3d163c9f85"
      },
      "source": [
        "print('The value of 5 +5 = ',lambda_add(5,5))"
      ],
      "execution_count": 2,
      "outputs": [
        {
          "output_type": "stream",
          "text": [
            "The value of 5 +5 =  10\n"
          ],
          "name": "stdout"
        }
      ]
    },
    {
      "cell_type": "code",
      "metadata": {
        "colab": {
          "base_uri": "https://localhost:8080/"
        },
        "id": "7u0Ng-mX0zf3",
        "outputId": "525d85ee-fc16-4d12-9fcc-e83756c4c00c"
      },
      "source": [
        "print('The value of 5 +8 = ',lambda_add(5,8))"
      ],
      "execution_count": 3,
      "outputs": [
        {
          "output_type": "stream",
          "text": [
            "The value of 5 +8 =  13\n"
          ],
          "name": "stdout"
        }
      ]
    },
    {
      "cell_type": "code",
      "metadata": {
        "id": "mRQt701V08K_"
      },
      "source": [
        "##Filtra valores pares\r\n",
        "def normal_event(x):\r\n",
        "  if x%2!=0:\r\n",
        "    return True\r\n",
        "  else:\r\n",
        "    return False"
      ],
      "execution_count": 8,
      "outputs": []
    },
    {
      "cell_type": "code",
      "metadata": {
        "id": "KCT8eEiH-X3J"
      },
      "source": [
        "origin_list=[5,17,32,43,12,62,237,133,78,21]"
      ],
      "execution_count": 5,
      "outputs": []
    },
    {
      "cell_type": "markdown",
      "metadata": {
        "id": "BmDPXLjA_NFW"
      },
      "source": [
        "**FILTER FUNTION**\r\n",
        "\r\n",
        "Lo usamos para utilizar una function y una lista"
      ]
    },
    {
      "cell_type": "code",
      "metadata": {
        "id": "2YPAI-WZ-k-m"
      },
      "source": [
        "filter_list= list (filter(normal_event,origin_list))"
      ],
      "execution_count": 9,
      "outputs": []
    },
    {
      "cell_type": "code",
      "metadata": {
        "colab": {
          "base_uri": "https://localhost:8080/"
        },
        "id": "JU4AebFB-0AX",
        "outputId": "321af27c-7a86-4011-8d7e-c8e2a9aff953"
      },
      "source": [
        "filter_list"
      ],
      "execution_count": 10,
      "outputs": [
        {
          "output_type": "execute_result",
          "data": {
            "text/plain": [
              "[5, 17, 43, 237, 133, 21]"
            ]
          },
          "metadata": {
            "tags": []
          },
          "execution_count": 10
        }
      ]
    },
    {
      "cell_type": "code",
      "metadata": {
        "colab": {
          "base_uri": "https://localhost:8080/"
        },
        "id": "NtaeoyCf_ymu",
        "outputId": "d12ffc3c-a0d9-41f3-c9d9-bbdd14f23bf8"
      },
      "source": [
        "## Ahora usando la funtion Lambda\r\n",
        "filter_list=list (filter(lambda x : (x%2!=0),origin_list))\r\n",
        "print('the odd number in the original list are: ' ,filter_list)"
      ],
      "execution_count": 15,
      "outputs": [
        {
          "output_type": "stream",
          "text": [
            "the odd number in the original list are:  [5, 17, 43, 237, 133, 21]\n"
          ],
          "name": "stdout"
        }
      ]
    },
    {
      "cell_type": "code",
      "metadata": {
        "colab": {
          "base_uri": "https://localhost:8080/"
        },
        "id": "_zv2fs1pB271",
        "outputId": "64508f16-c799-4ad0-b4fa-147fa3a60bb6"
      },
      "source": [
        "### Ahora filtremos los valores multiples de 5\r\n",
        "origin_list=[5,34,60,66,100,7776,7695]\r\n",
        "filter_list5=list (filter(lambda x : (x%5==0),origin_list))\r\n",
        "print('The number multiple of 5 are : ',filter_list5)"
      ],
      "execution_count": 18,
      "outputs": [
        {
          "output_type": "stream",
          "text": [
            "The number multiple of 5 are :  [5, 60, 100, 7695]\n"
          ],
          "name": "stdout"
        }
      ]
    },
    {
      "cell_type": "markdown",
      "metadata": {
        "id": "vgraS94oDTZ-"
      },
      "source": [
        "**Map Funtion**\r\n",
        "\r\n",
        "Utilizamos una funtion y una lista y lo que obtenemos es una nueva lista con las modificaciones realizadas"
      ]
    },
    {
      "cell_type": "code",
      "metadata": {
        "colab": {
          "base_uri": "https://localhost:8080/"
        },
        "id": "6kihhe72DXPT",
        "outputId": "c903f2d1-32dd-4859-a328-a20947e2b166"
      },
      "source": [
        "### multiplicando una lista por 2\r\n",
        "origin_list=[5,34,60,66,100,7776,7695]\r\n",
        "mapped_list=list(map(lambda x:x*2,origin_list))\r\n",
        "print('Multiplicamos la lista original x 2 obtenemos : ', mapped_list)"
      ],
      "execution_count": 20,
      "outputs": [
        {
          "output_type": "stream",
          "text": [
            "Multiplicamos la lista original x 2 obtenemos :  [10, 68, 120, 132, 200, 15552, 15390]\n"
          ],
          "name": "stdout"
        }
      ]
    },
    {
      "cell_type": "code",
      "metadata": {
        "colab": {
          "base_uri": "https://localhost:8080/"
        },
        "id": "LJHC8UPSG-Eg",
        "outputId": "ac43b5c0-3a24-4ff4-f427-cf5de0223502"
      },
      "source": [
        "### Poner la primera letra en mayuscula\r\n",
        "origen_list=['iris','kumiko','maria','pierina']\r\n",
        "mapped_list_name= list(map(lambda x: x[0].upper()+x[1:],origen_list))\r\n",
        "print('Modificando la primera lista : ',mapped_list_name)"
      ],
      "execution_count": 23,
      "outputs": [
        {
          "output_type": "stream",
          "text": [
            "Modificando la primera lista :  ['Iris', 'Kumiko', 'Maria', 'Pierina']\n"
          ],
          "name": "stdout"
        }
      ]
    }
  ]
}