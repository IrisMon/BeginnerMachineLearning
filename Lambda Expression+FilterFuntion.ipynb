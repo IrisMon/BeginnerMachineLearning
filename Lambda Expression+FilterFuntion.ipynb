{
  "nbformat": 4,
  "nbformat_minor": 0,
  "metadata": {
    "colab": {
      "name": "Untitled1.ipynb",
      "provenance": [],
      "authorship_tag": "ABX9TyOxY/tzm/4QcZrAmTzG0/uk",
      "include_colab_link": true
    },
    "kernelspec": {
      "name": "python3",
      "display_name": "Python 3"
    }
  },
  "cells": [
    {
      "cell_type": "markdown",
      "metadata": {
        "id": "view-in-github",
        "colab_type": "text"
      },
      "source": [
        "<a href=\"https://colab.research.google.com/github/IrisMon/BeginnerMachineLearning/blob/main/Lambda%20Expression%2BFilterFuntion.ipynb\" target=\"_parent\"><img src=\"https://colab.research.google.com/assets/colab-badge.svg\" alt=\"Open In Colab\"/></a>"
      ]
    },
    {
      "cell_type": "code",
      "metadata": {
        "id": "QzlT5uRGA0gQ"
      },
      "source": [
        "def odd(a):\r\n",
        "  if a%2==0:\r\n",
        "    print('Not odd')\r\n",
        "  else:\r\n",
        "    print(\"odd\")"
      ],
      "execution_count": null,
      "outputs": []
    },
    {
      "cell_type": "code",
      "metadata": {
        "colab": {
          "base_uri": "https://localhost:8080/"
        },
        "id": "qtecz8hIBmn7",
        "outputId": "55e7fd55-038a-4282-d3b0-5843dd2bb640"
      },
      "source": [
        "odd(9)"
      ],
      "execution_count": null,
      "outputs": [
        {
          "output_type": "stream",
          "text": [
            "odd\n"
          ],
          "name": "stdout"
        }
      ]
    },
    {
      "cell_type": "code",
      "metadata": {
        "id": "vacQ7mpBBgo1"
      },
      "source": [
        "def add_20(a):\r\n",
        "  return(a+20)"
      ],
      "execution_count": null,
      "outputs": []
    },
    {
      "cell_type": "code",
      "metadata": {
        "colab": {
          "base_uri": "https://localhost:8080/"
        },
        "id": "hfETq_ywGILS",
        "outputId": "24681d69-9334-46cb-9134-ce0136494260"
      },
      "source": [
        "add_20(5)"
      ],
      "execution_count": null,
      "outputs": [
        {
          "output_type": "execute_result",
          "data": {
            "text/plain": [
              "25"
            ]
          },
          "metadata": {
            "tags": []
          },
          "execution_count": 10
        }
      ]
    },
    {
      "cell_type": "code",
      "metadata": {
        "id": "ONfbSHcGHBvn"
      },
      "source": [
        "x= lambda a : a+20"
      ],
      "execution_count": null,
      "outputs": []
    },
    {
      "cell_type": "code",
      "metadata": {
        "colab": {
          "base_uri": "https://localhost:8080/"
        },
        "id": "bDR6HEMKHHlI",
        "outputId": "32909559-4099-4f51-b269-325fe5a89ee7"
      },
      "source": [
        "x(5)"
      ],
      "execution_count": null,
      "outputs": [
        {
          "output_type": "execute_result",
          "data": {
            "text/plain": [
              "10"
            ]
          },
          "metadata": {
            "tags": []
          },
          "execution_count": 16
        }
      ]
    },
    {
      "cell_type": "code",
      "metadata": {
        "colab": {
          "base_uri": "https://localhost:8080/"
        },
        "id": "52o93Pa20ISv",
        "outputId": "24856a8a-419b-4ec0-a71a-98b7f64e0e3b"
      },
      "source": [
        "lambda_add= lambda a,b : a+b\r\n",
        "print('The value of 5 +3 = ',lambda_add(5,3))"
      ],
      "execution_count": 1,
      "outputs": [
        {
          "output_type": "stream",
          "text": [
            "The value of 5 +3 =  8\n"
          ],
          "name": "stdout"
        }
      ]
    },
    {
      "cell_type": "code",
      "metadata": {
        "colab": {
          "base_uri": "https://localhost:8080/"
        },
        "id": "TjW7V9jT0rln",
        "outputId": "d1d3f063-f190-4827-d6b1-4c3d163c9f85"
      },
      "source": [
        "print('The value of 5 +5 = ',lambda_add(5,5))"
      ],
      "execution_count": 2,
      "outputs": [
        {
          "output_type": "stream",
          "text": [
            "The value of 5 +5 =  10\n"
          ],
          "name": "stdout"
        }
      ]
    },
    {
      "cell_type": "code",
      "metadata": {
        "colab": {
          "base_uri": "https://localhost:8080/"
        },
        "id": "7u0Ng-mX0zf3",
        "outputId": "525d85ee-fc16-4d12-9fcc-e83756c4c00c"
      },
      "source": [
        "print('The value of 5 +8 = ',lambda_add(5,8))"
      ],
      "execution_count": 3,
      "outputs": [
        {
          "output_type": "stream",
          "text": [
            "The value of 5 +8 =  13\n"
          ],
          "name": "stdout"
        }
      ]
    },
    {
      "cell_type": "code",
      "metadata": {
        "id": "mRQt701V08K_"
      },
      "source": [
        "def normal_event(x):\r\n",
        "  if x%2!=0:\r\n",
        "    return True\r\n",
        "  else:\r\n",
        "    return False"
      ],
      "execution_count": 8,
      "outputs": []
    },
    {
      "cell_type": "code",
      "metadata": {
        "id": "KCT8eEiH-X3J"
      },
      "source": [
        "origin_list=[5,17,32,43,12,62,237,133,78,21]"
      ],
      "execution_count": 5,
      "outputs": []
    },
    {
      "cell_type": "markdown",
      "metadata": {
        "id": "BmDPXLjA_NFW"
      },
      "source": [
        "FILTER FUNTION\r\n",
        "\r\n",
        "Lo usamos para utilizar una function y una lista"
      ]
    },
    {
      "cell_type": "code",
      "metadata": {
        "id": "2YPAI-WZ-k-m"
      },
      "source": [
        "filter_list= list (filter(normal_event,origin_list))"
      ],
      "execution_count": 9,
      "outputs": []
    },
    {
      "cell_type": "code",
      "metadata": {
        "colab": {
          "base_uri": "https://localhost:8080/"
        },
        "id": "JU4AebFB-0AX",
        "outputId": "321af27c-7a86-4011-8d7e-c8e2a9aff953"
      },
      "source": [
        "filter_list"
      ],
      "execution_count": 10,
      "outputs": [
        {
          "output_type": "execute_result",
          "data": {
            "text/plain": [
              "[5, 17, 43, 237, 133, 21]"
            ]
          },
          "metadata": {
            "tags": []
          },
          "execution_count": 10
        }
      ]
    },
    {
      "cell_type": "code",
      "metadata": {
        "colab": {
          "base_uri": "https://localhost:8080/"
        },
        "id": "1Sgx1j_h-90O",
        "outputId": "cd77bff5-a9bf-4edc-e46b-ee632158ed64"
      },
      "source": [
        "filter(normal_event,origin_list)"
      ],
      "execution_count": 12,
      "outputs": [
        {
          "output_type": "execute_result",
          "data": {
            "text/plain": [
              "<filter at 0x7fc26bf2c390>"
            ]
          },
          "metadata": {
            "tags": []
          },
          "execution_count": 12
        }
      ]
    }
  ]
}